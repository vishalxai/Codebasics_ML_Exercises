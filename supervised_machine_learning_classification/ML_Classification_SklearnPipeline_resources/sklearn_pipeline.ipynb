{
 "cells": [
  {
   "cell_type": "markdown",
   "id": "3beb38ff",
   "metadata": {},
   "source": [
    "<h2 align=\"center\">Codebasics ML Course: Support Vector Machine Tutorial</h2>"
   ]
  },
  {
   "cell_type": "markdown",
   "id": "da420cda",
   "metadata": {},
   "source": [
    "### Problem Statement:  Classify raisins into one of the two categories,\n",
    "1. Kecimen\n",
    "1. Besni"
   ]
  },
  {
   "cell_type": "markdown",
   "id": "25a997f5",
   "metadata": {},
   "source": [
    "### Dataset Citation\n",
    "This dataset is used under citation guidelines from the original authors. For detailed study and dataset description, see the following references:\n",
    "\n",
    "- **Citation**: Cinar, I., Koklu, M., & Tasdemir, S. (2020). Classification of Raisin Grains Using Machine Vision and Artificial Intelligence Methods. *Gazi Journal of Engineering Sciences, 6*(3), 200-209. DOI: [10.30855/gmbd.2020.03.03](https://doi.org/10.30855/gmbd.2020.03.03)\n",
    "- **Dataset available at**: [Murat Koklu's Dataset Page](https://www.muratkoklu.com/datasets/)\n",
    "- **Article download**: [DergiPark](https://dergipark.org.tr/tr/download/article-file/1227592)\n"
   ]
  },
  {
   "cell_type": "code",
   "execution_count": 1,
   "id": "a4799720",
   "metadata": {},
   "outputs": [
    {
     "data": {
      "text/html": [
       "<div>\n",
       "<style scoped>\n",
       "    .dataframe tbody tr th:only-of-type {\n",
       "        vertical-align: middle;\n",
       "    }\n",
       "\n",
       "    .dataframe tbody tr th {\n",
       "        vertical-align: top;\n",
       "    }\n",
       "\n",
       "    .dataframe thead th {\n",
       "        text-align: right;\n",
       "    }\n",
       "</style>\n",
       "<table border=\"1\" class=\"dataframe\">\n",
       "  <thead>\n",
       "    <tr style=\"text-align: right;\">\n",
       "      <th></th>\n",
       "      <th>Area</th>\n",
       "      <th>MajorAxisLength</th>\n",
       "      <th>MinorAxisLength</th>\n",
       "      <th>Eccentricity</th>\n",
       "      <th>ConvexArea</th>\n",
       "      <th>Extent</th>\n",
       "      <th>Perimeter</th>\n",
       "      <th>Class</th>\n",
       "    </tr>\n",
       "  </thead>\n",
       "  <tbody>\n",
       "    <tr>\n",
       "      <th>164</th>\n",
       "      <td>71452</td>\n",
       "      <td>397.961427</td>\n",
       "      <td>239.798780</td>\n",
       "      <td>0.798068</td>\n",
       "      <td>73864</td>\n",
       "      <td>0.751833</td>\n",
       "      <td>1101.502</td>\n",
       "      <td>Kecimen</td>\n",
       "    </tr>\n",
       "    <tr>\n",
       "      <th>484</th>\n",
       "      <td>153824</td>\n",
       "      <td>536.606993</td>\n",
       "      <td>369.286454</td>\n",
       "      <td>0.725532</td>\n",
       "      <td>159063</td>\n",
       "      <td>0.739084</td>\n",
       "      <td>1582.146</td>\n",
       "      <td>Besni</td>\n",
       "    </tr>\n",
       "    <tr>\n",
       "      <th>531</th>\n",
       "      <td>104352</td>\n",
       "      <td>562.335908</td>\n",
       "      <td>239.402593</td>\n",
       "      <td>0.904851</td>\n",
       "      <td>107968</td>\n",
       "      <td>0.668067</td>\n",
       "      <td>1390.730</td>\n",
       "      <td>Besni</td>\n",
       "    </tr>\n",
       "    <tr>\n",
       "      <th>629</th>\n",
       "      <td>83059</td>\n",
       "      <td>440.559971</td>\n",
       "      <td>243.636512</td>\n",
       "      <td>0.833171</td>\n",
       "      <td>88806</td>\n",
       "      <td>0.685809</td>\n",
       "      <td>1238.163</td>\n",
       "      <td>Besni</td>\n",
       "    </tr>\n",
       "    <tr>\n",
       "      <th>171</th>\n",
       "      <td>59076</td>\n",
       "      <td>350.487195</td>\n",
       "      <td>216.679324</td>\n",
       "      <td>0.786003</td>\n",
       "      <td>61643</td>\n",
       "      <td>0.645498</td>\n",
       "      <td>988.273</td>\n",
       "      <td>Kecimen</td>\n",
       "    </tr>\n",
       "  </tbody>\n",
       "</table>\n",
       "</div>"
      ],
      "text/plain": [
       "       Area  MajorAxisLength  MinorAxisLength  Eccentricity  ConvexArea  \\\n",
       "164   71452       397.961427       239.798780      0.798068       73864   \n",
       "484  153824       536.606993       369.286454      0.725532      159063   \n",
       "531  104352       562.335908       239.402593      0.904851      107968   \n",
       "629   83059       440.559971       243.636512      0.833171       88806   \n",
       "171   59076       350.487195       216.679324      0.786003       61643   \n",
       "\n",
       "       Extent  Perimeter    Class  \n",
       "164  0.751833   1101.502  Kecimen  \n",
       "484  0.739084   1582.146    Besni  \n",
       "531  0.668067   1390.730    Besni  \n",
       "629  0.685809   1238.163    Besni  \n",
       "171  0.645498    988.273  Kecimen  "
      ]
     },
     "execution_count": 1,
     "metadata": {},
     "output_type": "execute_result"
    }
   ],
   "source": [
    "import pandas as pd\n",
    "\n",
    "df = pd.read_excel(\"Raisin_Dataset.xlsx\")\n",
    "df.sample(5)"
   ]
  },
  {
   "cell_type": "code",
   "execution_count": 2,
   "id": "d1ed092f",
   "metadata": {},
   "outputs": [
    {
     "data": {
      "text/plain": [
       "(900, 8)"
      ]
     },
     "execution_count": 2,
     "metadata": {},
     "output_type": "execute_result"
    }
   ],
   "source": [
    "df.shape"
   ]
  },
  {
   "cell_type": "markdown",
   "id": "05157fd3",
   "metadata": {},
   "source": [
    "There are total 900 records and using all the features that we have available, we will build a classification model by using support vector machine "
   ]
  },
  {
   "cell_type": "markdown",
   "id": "af38ef6d",
   "metadata": {},
   "source": [
    "### Train Test Split"
   ]
  },
  {
   "cell_type": "code",
   "execution_count": 3,
   "id": "f99eae46",
   "metadata": {},
   "outputs": [],
   "source": [
    "X = df[[\"Area\", \"MajorAxisLength\", \"MinorAxisLength\", \"Eccentricity\", \"ConvexArea\", \"Extent\", \"Perimeter\"]]\n",
    "y = df[\"Class\"]\n",
    "\n",
    "from sklearn.model_selection import train_test_split\n",
    "\n",
    "X_train, X_test, y_train, y_test = train_test_split(X, y, test_size=0.2, random_state=10)"
   ]
  },
  {
   "cell_type": "markdown",
   "id": "43e146a5",
   "metadata": {},
   "source": [
    "### Scale the Data"
   ]
  },
  {
   "cell_type": "code",
   "execution_count": 4,
   "id": "f80a5c1a",
   "metadata": {},
   "outputs": [],
   "source": [
    "from sklearn.preprocessing import StandardScaler\n",
    "\n",
    "scaler = StandardScaler()\n",
    "scaler.fit(X_train)\n",
    "\n",
    "X_train_scaled = scaler.transform(X_train)\n",
    "X_test_scaled = scaler.transform(X_test)"
   ]
  },
  {
   "cell_type": "markdown",
   "id": "0e0a7607",
   "metadata": {},
   "source": [
    "### Model Training Using SVM With Scaling"
   ]
  },
  {
   "cell_type": "code",
   "execution_count": 7,
   "id": "70e2f192",
   "metadata": {
    "scrolled": true
   },
   "outputs": [
    {
     "name": "stdout",
     "output_type": "stream",
     "text": [
      "              precision    recall  f1-score   support\n",
      "\n",
      "       Besni       0.91      0.83      0.87        83\n",
      "     Kecimen       0.87      0.93      0.90        97\n",
      "\n",
      "    accuracy                           0.88       180\n",
      "   macro avg       0.89      0.88      0.88       180\n",
      "weighted avg       0.88      0.88      0.88       180\n",
      "\n"
     ]
    },
    {
     "data": {
      "text/plain": [
       "array([382], dtype=int32)"
      ]
     },
     "execution_count": 7,
     "metadata": {},
     "output_type": "execute_result"
    }
   ],
   "source": [
    "from sklearn.svm import SVC\n",
    "\n",
    "model = SVC(kernel=\"rbf\")\n",
    "model.fit(X_train_scaled, y_train)\n",
    "\n",
    "y_pred = model.predict(X_test_scaled)\n",
    "\n",
    "from sklearn.metrics import classification_report\n",
    "\n",
    "report = classification_report(y_test, y_pred)\n",
    "print(report)\n",
    "\n",
    "model.n_iter_"
   ]
  },
  {
   "cell_type": "markdown",
   "id": "a051de5c",
   "metadata": {},
   "source": [
    "### Use Sklearn Pipeline To Perform Scaling and Training in a Single Step"
   ]
  },
  {
   "cell_type": "code",
   "execution_count": 8,
   "id": "7061a283",
   "metadata": {},
   "outputs": [],
   "source": [
    "from sklearn.pipeline import Pipeline\n",
    "\n",
    "pipeline = Pipeline([\n",
    "    (\"scaler\", StandardScaler()),\n",
    "    (\"svm\", SVC())\n",
    "])"
   ]
  },
  {
   "cell_type": "code",
   "execution_count": 9,
   "id": "60ecbe65",
   "metadata": {},
   "outputs": [
    {
     "name": "stdout",
     "output_type": "stream",
     "text": [
      "              precision    recall  f1-score   support\n",
      "\n",
      "       Besni       0.91      0.83      0.87        83\n",
      "     Kecimen       0.87      0.93      0.90        97\n",
      "\n",
      "    accuracy                           0.88       180\n",
      "   macro avg       0.89      0.88      0.88       180\n",
      "weighted avg       0.88      0.88      0.88       180\n",
      "\n"
     ]
    },
    {
     "data": {
      "text/plain": [
       "array([382], dtype=int32)"
      ]
     },
     "execution_count": 9,
     "metadata": {},
     "output_type": "execute_result"
    }
   ],
   "source": [
    "pipeline.fit(X_train, y_train)\n",
    "\n",
    "y_pred = pipeline.predict(X_test)\n",
    "\n",
    "from sklearn.metrics import classification_report\n",
    "\n",
    "report = classification_report(y_test, y_pred)\n",
    "print(report)\n",
    "\n",
    "model.n_iter_"
   ]
  }
 ],
 "metadata": {
  "kernelspec": {
   "display_name": "Python 3 (ipykernel)",
   "language": "python",
   "name": "python3"
  },
  "language_info": {
   "codemirror_mode": {
    "name": "ipython",
    "version": 3
   },
   "file_extension": ".py",
   "mimetype": "text/x-python",
   "name": "python",
   "nbconvert_exporter": "python",
   "pygments_lexer": "ipython3",
   "version": "3.13.1"
  }
 },
 "nbformat": 4,
 "nbformat_minor": 5
}
