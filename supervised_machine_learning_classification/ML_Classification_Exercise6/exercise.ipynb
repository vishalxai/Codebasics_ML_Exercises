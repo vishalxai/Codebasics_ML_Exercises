{
 "cells": [
  {
   "cell_type": "markdown",
   "id": "9e4326cc-97e7-4cfb-9b72-06b96a6aaaba",
   "metadata": {},
   "source": [
    "### Problem Statement\n",
    "\n",
    "You are a data scientist / AI engineer working on a breast cancer recurrence prediction project. You have been provided with a dataset named **`\"breast_cancer_data.csv\"`**, which includes various clinical and pathological factors influencing the recurrence of breast cancer. The dataset comprises the following columns:\n",
    "\n",
    "- `age:` Age of the patient (ranges: 30-39, 40-49, 50-59, 60-69).\n",
    "- `menopause:` Menopause status of the patient (premeno, ge40, lt40).\n",
    "- `tumor-size:` Size of the tumor (ranges in mm).\n",
    "- `inv-nodes:` Number of involved lymph nodes (ranges).\n",
    "- `node-caps:` Whether node caps are present (yes or no).\n",
    "- `deg-malig:` Degree of malignancy (1, 2, 3).\n",
    "- `breast:` Breast involved (left or right).\n",
    "- `breast-quad:` Quadrant of the breast involved (left_up, left_low, right_up, right_low, central).\n",
    "- `irradiat:` Whether the patient received irradiation (yes or no).\n",
    "- `class:` Recurrence of breast cancer (no-recurrence-events, recurrence-events).\n",
    "\n",
    "Your task is to analyze this dataset to understand the factors contributing to breast cancer recurrence. You will handle class imbalance using various techniques and build machine learning models to predict whether a patient will experience recurrence events based on the provided features."
   ]
  },
  {
   "cell_type": "code",
   "execution_count": 21,
   "id": "d223f0c6-bb79-4a45-897a-634c71f57f22",
   "metadata": {},
   "outputs": [],
   "source": [
    "# # Dataset Credits\n",
    "\n",
    "# Zwitter,Matjaz and Soklic,Milan. (1988). Breast Cancer. \n",
    "# UCI Machine Learning Repository. https://doi.org/10.24432/C51P4M."
   ]
  },
  {
   "cell_type": "markdown",
   "id": "e31c2186-e911-424d-936a-b81947288874",
   "metadata": {},
   "source": [
    "**Import Necessary Libraries**"
   ]
  },
  {
   "cell_type": "code",
   "execution_count": 22,
   "id": "366bfaf1-97de-497f-a344-46f2be2cd7ec",
   "metadata": {},
   "outputs": [],
   "source": [
    "# Import necessary libraries\n",
    "import pandas as pd\n",
    "import numpy as np\n",
    "import matplotlib.pyplot as plt\n",
    "import seaborn as sns\n",
    "\n"
   ]
  },
  {
   "cell_type": "markdown",
   "id": "0e06278d-f1a3-4c6a-ae0f-10dfc18e9427",
   "metadata": {},
   "source": [
    "### Task 1: Data Preparation and Exploration\n",
    "\n",
    "1. Import the dataset and display the first few rows to understand its structure.\n",
    "2. Check for any missing values in the dataset and handle them appropriately.\n",
    "3. Visualize the class distribution to identify any class imbalance in the dataset.\n",
    "4. Encoding categorical variables using one-hot encoding for the following columns: `age, menopause, tumor-size, inv-nodes, node-caps, breast, breast-quad, irradiat`."
   ]
  },
  {
   "cell_type": "code",
   "execution_count": 23,
   "id": "a3b5da9b-8f2d-43c9-ab78-7b1638ca9d52",
   "metadata": {},
   "outputs": [
    {
     "name": "stdout",
     "output_type": "stream",
     "text": [
      "<class 'pandas.core.frame.DataFrame'>\n",
      "RangeIndex: 286 entries, 0 to 285\n",
      "Data columns (total 10 columns):\n",
      " #   Column       Non-Null Count  Dtype \n",
      "---  ------       --------------  ----- \n",
      " 0   age          286 non-null    object\n",
      " 1   menopause    286 non-null    object\n",
      " 2   tumor-size   286 non-null    object\n",
      " 3   inv-nodes    286 non-null    object\n",
      " 4   node-caps    278 non-null    object\n",
      " 5   deg-malig    286 non-null    int64 \n",
      " 6   breast       286 non-null    object\n",
      " 7   breast-quad  286 non-null    object\n",
      " 8   irradiat     286 non-null    object\n",
      " 9   class        286 non-null    object\n",
      "dtypes: int64(1), object(9)\n",
      "memory usage: 22.5+ KB\n"
     ]
    }
   ],
   "source": [
    "# Step 1: Import the dataset and display the first few rows\n",
    "df = pd.read_csv(\"breast_cancer_data.csv\")\n",
    "df.shape\n",
    "df.head()\n",
    "df.info()\n"
   ]
  },
  {
   "cell_type": "code",
   "execution_count": 24,
   "id": "030f22df-bc4b-48f0-9e94-9fa546b4bfcd",
   "metadata": {},
   "outputs": [
    {
     "data": {
      "text/plain": [
       "age            0\n",
       "menopause      0\n",
       "tumor-size     0\n",
       "inv-nodes      0\n",
       "node-caps      8\n",
       "deg-malig      0\n",
       "breast         0\n",
       "breast-quad    0\n",
       "irradiat       0\n",
       "class          0\n",
       "dtype: int64"
      ]
     },
     "execution_count": 24,
     "metadata": {},
     "output_type": "execute_result"
    }
   ],
   "source": [
    "# Step 2: Check for any missing values in the dataset and handle them appropriately\n",
    "df.isnull().sum()"
   ]
  },
  {
   "cell_type": "code",
   "execution_count": 25,
   "id": "866fb82a-661a-4dad-9ca8-e2e64adebdf0",
   "metadata": {},
   "outputs": [
    {
     "data": {
      "text/plain": [
       "<Axes: xlabel='class'>"
      ]
     },
     "execution_count": 25,
     "metadata": {},
     "output_type": "execute_result"
    },
    {
     "data": {
      "image/png": "[encoded data removed]",
      "text/plain": [
       "<Figure size 640x480 with 1 Axes>"
      ]
     },
     "metadata": {},
     "output_type": "display_data"
    }
   ],
   "source": [
    "# Step 3: Visualize the class distribution to identify any class imbalance in the dataset\n",
    "df['class'].value_counts(normalize=True).plot(kind='bar')"
   ]
  },
  {
   "cell_type": "code",
   "execution_count": 26,
   "id": "d4314b41-f673-469d-a719-4f209422c97a",
   "metadata": {},
   "outputs": [],
   "source": [
    "# Step 4: Encoding categorical variables using one-hot encoding for the following columns:\n",
    "# age, menopause, tumor-size, inv-nodes, node-caps, breast, breast-quad, irradiat.\n",
    "\n",
    "age_mapping = {\n",
    "    '30-39': 35, '40-49': 45, '50-59': 55, '60-69': 65\n",
    "}\n",
    "df['age'] = df['age'].map(age_mapping)"
   ]
  },
  {
   "cell_type": "code",
   "execution_count": 27,
   "id": "ce445775-c7c2-4106-af4d-d3ed27e72492",
   "metadata": {},
   "outputs": [],
   "source": [
    "tumor_mapping = {\n",
    "    '0-4': 2, '5-9': 7, '10-14': 12, '15-19': 17,\n",
    "    '20-24': 22, '25-29': 27, '30-34': 32, '35-39': 37,\n",
    "    '40-44': 42, '45-49': 47, '50-54': 52\n",
    "}\n",
    "df['tumor-size'] = df['tumor-size'].map(tumor_mapping)\n",
    "\n",
    "inv_nodes_mapping = {\n",
    "    '0-2': 1, '3-5': 4, '6-8': 7, '9-11': 10, '12-14': 13,\n",
    "    '15-17': 16, '18-20': 19, '21-23': 22, '24-26': 25,\n",
    "    '27-29': 28, '30-32': 31, '33-35': 34, '36-39': 37\n",
    "}\n",
    "df['inv-nodes'] = df['inv-nodes'].map(inv_nodes_mapping)"
   ]
  },
  {
   "cell_type": "code",
   "execution_count": 28,
   "id": "c514308c-ecd2-48ae-84c7-f9d00306e3e3",
   "metadata": {},
   "outputs": [],
   "source": [
    "df = pd.get_dummies(df, columns=['menopause','node-caps','breast','breast-quad','irradiat'], drop_first=True)"
   ]
  },
  {
   "cell_type": "code",
   "execution_count": 33,
   "id": "4b093374-2fa8-4736-8376-b7c48a12fca8",
   "metadata": {},
   "outputs": [],
   "source": [
    "df['class'] = df['class'].map({'no-recurrence-events': 0, 'recurrence-events': 1})"
   ]
  },
  {
   "cell_type": "code",
   "execution_count": 34,
   "id": "380dce20-1263-4887-9212-f98b81fc9d22",
   "metadata": {},
   "outputs": [
    {
     "name": "stderr",
     "output_type": "stream",
     "text": [
      "/var/folders/8t/v0xt96g10w98qbs2bnl651bm0000gn/T/ipykernel_46585/1131942001.py:2: FutureWarning: A value is trying to be set on a copy of a DataFrame or Series through chained assignment using an inplace method.\n",
      "The behavior will change in pandas 3.0. This inplace method will never work because the intermediate object on which we are setting values always behaves as a copy.\n",
      "\n",
      "For example, when doing 'df[col].method(value, inplace=True)', try using 'df.method({col: value}, inplace=True)' or df[col] = df[col].method(value) instead, to perform the operation inplace on the original object.\n",
      "\n",
      "\n",
      "  df[col].fillna(df[col].median(), inplace=True)\n",
      "/var/folders/8t/v0xt96g10w98qbs2bnl651bm0000gn/T/ipykernel_46585/1131942001.py:2: FutureWarning: A value is trying to be set on a copy of a DataFrame or Series through chained assignment using an inplace method.\n",
      "The behavior will change in pandas 3.0. This inplace method will never work because the intermediate object on which we are setting values always behaves as a copy.\n",
      "\n",
      "For example, when doing 'df[col].method(value, inplace=True)', try using 'df.method({col: value}, inplace=True)' or df[col] = df[col].method(value) instead, to perform the operation inplace on the original object.\n",
      "\n",
      "\n",
      "  df[col].fillna(df[col].median(), inplace=True)\n",
      "/var/folders/8t/v0xt96g10w98qbs2bnl651bm0000gn/T/ipykernel_46585/1131942001.py:2: FutureWarning: A value is trying to be set on a copy of a DataFrame or Series through chained assignment using an inplace method.\n",
      "The behavior will change in pandas 3.0. This inplace method will never work because the intermediate object on which we are setting values always behaves as a copy.\n",
      "\n",
      "For example, when doing 'df[col].method(value, inplace=True)', try using 'df.method({col: value}, inplace=True)' or df[col] = df[col].method(value) instead, to perform the operation inplace on the original object.\n",
      "\n",
      "\n",
      "  df[col].fillna(df[col].median(), inplace=True)\n"
     ]
    }
   ],
   "source": [
    "for col in ['age', 'tumor-size', 'inv-nodes']:\n",
    "    df[col].fillna(df[col].median(), inplace=True)"
   ]
  },
  {
   "cell_type": "code",
   "execution_count": 36,
   "id": "82bfb6fa-5633-42e3-aa24-6789cc1a0ac3",
   "metadata": {},
   "outputs": [],
   "source": [
    "bool_cols = df.select_dtypes(include='bool').columns\n",
    "df[bool_cols] = df[bool_cols].astype(int)"
   ]
  },
  {
   "cell_type": "code",
   "execution_count": 37,
   "id": "6e91a06c-f7d7-4ecd-acf9-9fa24586b54a",
   "metadata": {},
   "outputs": [
    {
     "name": "stdout",
     "output_type": "stream",
     "text": [
      "<class 'pandas.core.frame.DataFrame'>\n",
      "RangeIndex: 286 entries, 0 to 285\n",
      "Data columns (total 14 columns):\n",
      " #   Column                 Non-Null Count  Dtype  \n",
      "---  ------                 --------------  -----  \n",
      " 0   age                    286 non-null    float64\n",
      " 1   tumor-size             286 non-null    float64\n",
      " 2   inv-nodes              286 non-null    float64\n",
      " 3   deg-malig              286 non-null    int64  \n",
      " 4   class                  286 non-null    int64  \n",
      " 5   menopause_lt40         286 non-null    int64  \n",
      " 6   menopause_premeno      286 non-null    int64  \n",
      " 7   node-caps_yes          286 non-null    int64  \n",
      " 8   breast_right           286 non-null    int64  \n",
      " 9   breast-quad_left_low   286 non-null    int64  \n",
      " 10  breast-quad_left_up    286 non-null    int64  \n",
      " 11  breast-quad_right_low  286 non-null    int64  \n",
      " 12  breast-quad_right_up   286 non-null    int64  \n",
      " 13  irradiat_yes           286 non-null    int64  \n",
      "dtypes: float64(3), int64(11)\n",
      "memory usage: 31.4 KB\n",
      "None\n",
      "age                      0\n",
      "tumor-size               0\n",
      "inv-nodes                0\n",
      "deg-malig                0\n",
      "class                    0\n",
      "menopause_lt40           0\n",
      "menopause_premeno        0\n",
      "node-caps_yes            0\n",
      "breast_right             0\n",
      "breast-quad_left_low     0\n",
      "breast-quad_left_up      0\n",
      "breast-quad_right_low    0\n",
      "breast-quad_right_up     0\n",
      "irradiat_yes             0\n",
      "dtype: int64\n"
     ]
    }
   ],
   "source": [
    "print(df.info())\n",
    "print(df.isnull().sum())"
   ]
  },
  {
   "cell_type": "code",
   "execution_count": 35,
   "id": "da7e68d2-c729-44c0-93d4-5357ea7c5433",
   "metadata": {},
   "outputs": [
    {
     "name": "stdout",
     "output_type": "stream",
     "text": [
      "<class 'pandas.core.frame.DataFrame'>\n",
      "RangeIndex: 286 entries, 0 to 285\n",
      "Data columns (total 14 columns):\n",
      " #   Column                 Non-Null Count  Dtype  \n",
      "---  ------                 --------------  -----  \n",
      " 0   age                    286 non-null    float64\n",
      " 1   tumor-size             286 non-null    float64\n",
      " 2   inv-nodes              286 non-null    float64\n",
      " 3   deg-malig              286 non-null    int64  \n",
      " 4   class                  286 non-null    int64  \n",
      " 5   menopause_lt40         286 non-null    bool   \n",
      " 6   menopause_premeno      286 non-null    bool   \n",
      " 7   node-caps_yes          286 non-null    bool   \n",
      " 8   breast_right           286 non-null    bool   \n",
      " 9   breast-quad_left_low   286 non-null    bool   \n",
      " 10  breast-quad_left_up    286 non-null    bool   \n",
      " 11  breast-quad_right_low  286 non-null    bool   \n",
      " 12  breast-quad_right_up   286 non-null    bool   \n",
      " 13  irradiat_yes           286 non-null    bool   \n",
      "dtypes: bool(9), float64(3), int64(2)\n",
      "memory usage: 13.8 KB\n"
     ]
    }
   ],
   "source": [
    "df.head()\n",
    "df.info()"
   ]
  },
  {
   "cell_type": "markdown",
   "id": "420bc740-df4f-4cbc-a9f0-27068e5a23f2",
   "metadata": {},
   "source": [
    "### Task 2: Logistic Regression Model Without Handling Class Imbalance\n",
    "\n",
    "1. Split the dataset into training and test sets.\n",
    "2. Train a Logistic Regression model using the training data.\n",
    "3. Evaluate the model using a classification report, including precision, recall, and F1-score."
   ]
  },
  {
   "cell_type": "code",
   "execution_count": 39,
   "id": "03fa7644-ae81-432f-be55-e66f62a41793",
   "metadata": {},
   "outputs": [],
   "source": [
    "# Step 1: Split the dataset into training and test sets\n",
    "from sklearn.model_selection import train_test_split\n",
    "from sklearn.linear_model import LogisticRegression\n",
    "from sklearn.metrics import classification_report, confusion_matrix, roc_auc_score\n",
    "# Prepare X, y\n",
    "X = df.drop('class', axis=1)\n",
    "y = df['class']  # you already mapped 0/1\n",
    "\n",
    "# Stratified split (preserve class ratio)\n",
    "X_train, X_test, y_train, y_test = train_test_split(\n",
    "    X, y, test_size=0.20, random_state=42, stratify=y\n",
    ")\n",
    "\n",
    "# Fit baseline logistic regression\n",
    "log_reg = LogisticRegression(max_iter=1000, solver='liblinear')\n",
    "log_reg.fit(X_train, y_train)\n",
    "y_pred = log_reg.predict(X_test)\n",
    "y_proba = log_reg.predict_proba(X_test)[:,1]\n",
    "\n",
    "\n",
    "# Encode target (0 = no-recurrence, 1 = recurrence)\n",
    "y = y.map({'no-recurrence-events': 0, 'recurrence-events': 1})\n",
    "\n"
   ]
  },
  {
   "cell_type": "code",
   "execution_count": 41,
   "id": "35a4a628-ecef-47fd-9de1-8b6b0804eac6",
   "metadata": {},
   "outputs": [
    {
     "name": "stdout",
     "output_type": "stream",
     "text": [
      "=== Classification report (baseline logistic regression) ===\n",
      "              precision    recall  f1-score   support\n",
      "\n",
      "           0     0.7255    0.9024    0.8043        41\n",
      "           1     0.4286    0.1765    0.2500        17\n",
      "\n",
      "    accuracy                         0.6897        58\n",
      "   macro avg     0.5770    0.5395    0.5272        58\n",
      "weighted avg     0.6385    0.6897    0.6419        58\n",
      "\n"
     ]
    }
   ],
   "source": [
    "# Print classification report\n",
    "print(\"=== Classification report (baseline logistic regression) ===\")\n",
    "print(classification_report(y_test, y_pred, digits=4))\n"
   ]
  },
  {
   "cell_type": "code",
   "execution_count": 42,
   "id": "c462a556-c196-459c-8f50-3ac53338d679",
   "metadata": {},
   "outputs": [
    {
     "name": "stdout",
     "output_type": "stream",
     "text": [
      "Confusion matrix:\n",
      " [[37  4]\n",
      " [14  3]]\n"
     ]
    }
   ],
   "source": [
    "# Confusion matrix (numeric)\n",
    "cm = confusion_matrix(y_test, y_pred)\n",
    "print(\"Confusion matrix:\\n\", cm)"
   ]
  },
  {
   "cell_type": "code",
   "execution_count": 43,
   "id": "b8de6ba3-841c-44ec-a77b-a76ef739fd24",
   "metadata": {},
   "outputs": [
    {
     "name": "stdout",
     "output_type": "stream",
     "text": [
      "ROC AUC: 0.6291\n"
     ]
    }
   ],
   "source": [
    "# ROC-AUC for reference\n",
    "try:\n",
    "    auc = roc_auc_score(y_test, y_proba)\n",
    "    print(f\"ROC AUC: {auc:.4f}\")\n",
    "except Exception as e:\n",
    "    print(\"ROC AUC could not be computed:\", e)\n"
   ]
  },
  {
   "cell_type": "code",
   "execution_count": 40,
   "id": "76166f86-a594-4608-952c-1ac6dad44650",
   "metadata": {},
   "outputs": [],
   "source": [
    "# Step 2: Train a Logistic Regression model using the training data\n",
    "from sklearn.linear_model import LogisticRegression\n",
    "\n",
    "log_reg = LogisticRegression(max_iter=1000, solver='liblinear')\n",
    "log_reg.fit(X_train, y_train)\n",
    "\n",
    "y_pred = log_reg.predict(X_test)"
   ]
  },
  {
   "cell_type": "code",
   "execution_count": 44,
   "id": "5c72b33d-1d33-40cb-8c77-598959494bda",
   "metadata": {},
   "outputs": [
    {
     "data": {
      "image/png": "[encoded data removed]",
      "text/plain": [
       "<Figure size 500x400 with 2 Axes>"
      ]
     },
     "metadata": {},
     "output_type": "display_data"
    }
   ],
   "source": [
    "# Pretty heatmap for notebook/GitHub presentation\n",
    "import matplotlib.pyplot as plt\n",
    "import seaborn as sns\n",
    "plt.figure(figsize=(5,4))\n",
    "sns.heatmap(cm, annot=True, fmt='d', cmap='Blues',\n",
    "            xticklabels=['Pred No Rec', 'Pred Rec'],\n",
    "            yticklabels=['True No Rec', 'True Rec'])\n",
    "plt.xlabel(\"Predicted\")\n",
    "plt.ylabel(\"Actual\")\n",
    "plt.title(\"Confusion Matrix — Logistic Regression (baseline)\")\n",
    "plt.show()"
   ]
  },
  {
   "cell_type": "code",
   "execution_count": 45,
   "id": "cab04658-8884-478e-b63c-3e505f199ba2",
   "metadata": {},
   "outputs": [
    {
     "name": "stdout",
     "output_type": "stream",
     "text": [
      "\n",
      "Recall for recurrence-events (positive class): 0.1765\n"
     ]
    }
   ],
   "source": [
    "# Step 3: Evaluate the model using a classification report, including precision, recall, and F1-score\n",
    "# Quick summary value we care about (recall of positive class)\n",
    "from sklearn.metrics import recall_score\n",
    "recall_pos = recall_score(y_test, y_pred, pos_label=1)\n",
    "print(f\"\\nRecall for recurrence-events (positive class): {recall_pos:.4f}\")"
   ]
  },
  {
   "cell_type": "markdown",
   "id": "ef5af349-d029-4183-887c-a086250aa203",
   "metadata": {},
   "source": [
    "### Task 3: Handling Class Imbalance Using Undersampling\n",
    "\n",
    "1. Apply undersampling to balance the classes in the training data.\n",
    "2. Train a Logistic Regression model using the undersampled training data.\n",
    "3. Evaluate the model using a classification report, including precision, recall, and F1-score."
   ]
  },
  {
   "cell_type": "code",
   "execution_count": 46,
   "id": "9a3d3ba3-0958-4f70-ba8c-276b2f36ecc8",
   "metadata": {},
   "outputs": [],
   "source": [
    "# Step 1: Apply undersampling to balance the classes in the training data\n",
    "from imblearn.under_sampling import RandomUnderSampler\n",
    "from sklearn.metrics import classification_report, confusion_matrix"
   ]
  },
  {
   "cell_type": "code",
   "execution_count": 47,
   "id": "4a857455-ed12-4914-b192-c88a3f74f861",
   "metadata": {},
   "outputs": [
    {
     "name": "stdout",
     "output_type": "stream",
     "text": [
      "Class distribution after undersampling: class\n",
      "0    68\n",
      "1    68\n",
      "Name: count, dtype: int64\n"
     ]
    }
   ],
   "source": [
    "# Apply undersampling\n",
    "rus = RandomUnderSampler(random_state=42)\n",
    "X_res_u, y_res_u = rus.fit_resample(X_train, y_train)\n",
    "\n",
    "print(\"Class distribution after undersampling:\", y_res_u.value_counts())"
   ]
  },
  {
   "cell_type": "code",
   "execution_count": 48,
   "id": "dec337b3-9c21-428d-9105-1b79625ad961",
   "metadata": {},
   "outputs": [],
   "source": [
    "# Step 2: Train a Logistic Regression model using the undersampled training data\n",
    "log_reg_u = LogisticRegression(max_iter=1000, solver='liblinear')\n",
    "log_reg_u.fit(X_res_u, y_res_u)\n",
    "y_pred_u = log_reg_u.predict(X_test)\n"
   ]
  },
  {
   "cell_type": "code",
   "execution_count": 49,
   "id": "34ea2ad8-a6d5-415b-a78d-20ec4ad0830e",
   "metadata": {},
   "outputs": [
    {
     "name": "stdout",
     "output_type": "stream",
     "text": [
      "=== Logistic Regression with Undersampling ===\n",
      "              precision    recall  f1-score   support\n",
      "\n",
      "           0     0.7586    0.5366    0.6286        41\n",
      "           1     0.3448    0.5882    0.4348        17\n",
      "\n",
      "    accuracy                         0.5517        58\n",
      "   macro avg     0.5517    0.5624    0.5317        58\n",
      "weighted avg     0.6373    0.5517    0.5718        58\n",
      "\n",
      "Confusion matrix:\n",
      " [[22 19]\n",
      " [ 7 10]]\n"
     ]
    }
   ],
   "source": [
    "# Evaluate\n",
    "print(\"=== Logistic Regression with Undersampling ===\")\n",
    "print(classification_report(y_test, y_pred_u, digits=4))\n",
    "\n",
    "cm_u = confusion_matrix(y_test, y_pred_u)\n",
    "print(\"Confusion matrix:\\n\", cm_u)\n"
   ]
  },
  {
   "cell_type": "code",
   "execution_count": 50,
   "id": "b74f4fea-08d5-47dd-9ea5-81adc8fd6c38",
   "metadata": {},
   "outputs": [
    {
     "data": {
      "image/png": "[encoded data removed]",
      "text/plain": [
       "<Figure size 500x400 with 2 Axes>"
      ]
     },
     "metadata": {},
     "output_type": "display_data"
    }
   ],
   "source": [
    "# Step 3: Evaluate the model using a classification report, including precision, recall, and F1-score\n",
    "# Heatmap\n",
    "plt.figure(figsize=(5,4))\n",
    "sns.heatmap(cm_u, annot=True, fmt='d', cmap='Greens',\n",
    "            xticklabels=['Pred No Rec', 'Pred Rec'],\n",
    "            yticklabels=['True No Rec', 'True Rec'])\n",
    "plt.xlabel(\"Predicted\")\n",
    "plt.ylabel(\"Actual\")\n",
    "plt.title(\"Confusion Matrix — Logistic Regression (undersampling)\")\n",
    "plt.show()"
   ]
  },
  {
   "cell_type": "markdown",
   "id": "7534fb36-42b0-4353-b0ae-ef74d8dcf99e",
   "metadata": {},
   "source": [
    "### Task 4: Handling Class Imbalance Using SMOTE (Oversampling)\n",
    "\n",
    "1. Apply SMOTE (Synthetic Minority Over-sampling Technique) to balance the classes in the training data.\n",
    "2. Train a Logistic Regression model using the SMOTE-balanced training data.\n",
    "3. Evaluate the model using a classification report, including precision, recall, and F1-score."
   ]
  },
  {
   "cell_type": "code",
   "execution_count": 51,
   "id": "23b1e2b0-2765-4a33-9cb0-4fe268ab39c1",
   "metadata": {},
   "outputs": [
    {
     "name": "stdout",
     "output_type": "stream",
     "text": [
      "Class distribution after SMOTE:\n",
      " class\n",
      "1    160\n",
      "0    160\n",
      "Name: count, dtype: int64\n",
      "=== Logistic Regression with SMOTE ===\n",
      "              precision    recall  f1-score   support\n",
      "\n",
      "           0     0.7895    0.7317    0.7595        41\n",
      "           1     0.4500    0.5294    0.4865        17\n",
      "\n",
      "    accuracy                         0.6724        58\n",
      "   macro avg     0.6197    0.6306    0.6230        58\n",
      "weighted avg     0.6900    0.6724    0.6795        58\n",
      "\n",
      "Confusion matrix:\n",
      " [[30 11]\n",
      " [ 8  9]]\n"
     ]
    }
   ],
   "source": [
    "# Step 1: Apply SMOTE to balance the classes in the training data\n",
    "from imblearn.over_sampling import SMOTE\n",
    "from sklearn.metrics import classification_report, confusion_matrix\n",
    "# Apply SMOTE\n",
    "sm = SMOTE(random_state=42)\n",
    "X_res_s, y_res_s = sm.fit_resample(X_train, y_train)\n",
    "\n",
    "print(\"Class distribution after SMOTE:\\n\", y_res_s.value_counts())\n",
    "\n",
    "# Step 2: Train a Logistic Regression model using the SMOTE-balanced training data\n",
    "log_reg_s = LogisticRegression(max_iter=1000, solver='liblinear')\n",
    "log_reg_s.fit(X_res_s, y_res_s)\n",
    "y_pred_s = log_reg_s.predict(X_test)\n",
    "\n",
    "\n",
    "# Step 3: Evaluate the model using a classification report, including precision, recall, and F1-score\n",
    "# Evaluate\n",
    "print(\"=== Logistic Regression with SMOTE ===\")\n",
    "print(classification_report(y_test, y_pred_s, digits=4))\n",
    "\n",
    "cm_s = confusion_matrix(y_test, y_pred_s)\n",
    "print(\"Confusion matrix:\\n\", cm_s)\n"
   ]
  },
  {
   "cell_type": "code",
   "execution_count": 52,
   "id": "381f17e1-bac6-4181-9701-26bdda25a535",
   "metadata": {},
   "outputs": [
    {
     "data": {
      "image/png": "[encoded data removed]",
      "text/plain": [
       "<Figure size 500x400 with 2 Axes>"
      ]
     },
     "metadata": {},
     "output_type": "display_data"
    }
   ],
   "source": [
    "# Heatmap\n",
    "plt.figure(figsize=(5,4))\n",
    "sns.heatmap(cm_s, annot=True, fmt='d', cmap='Oranges',\n",
    "            xticklabels=['Pred No Rec', 'Pred Rec'],\n",
    "            yticklabels=['True No Rec', 'True Rec'])\n",
    "plt.xlabel(\"Predicted\")\n",
    "plt.ylabel(\"Actual\")\n",
    "plt.title(\"Confusion Matrix — Logistic Regression (SMOTE)\")\n",
    "plt.show()"
   ]
  },
  {
   "cell_type": "markdown",
   "id": "ff63426b-f134-45cc-9191-b4c2c9096dcc",
   "metadata": {},
   "source": [
    "### Task 5: Handling Class Imbalance Using SMOTE Tomek Links\n",
    "\n",
    "1. Apply SMOTE Tomek Links to balance the classes in the training data.\n",
    "2. Train a Logistic Regression model using the SMOTE Tomek Links-balanced training data.\n",
    "3. Evaluate the model using a classification report, including precision, recall, and F1-score."
   ]
  },
  {
   "cell_type": "code",
   "execution_count": 53,
   "id": "b1230915-27c3-42b4-a4fd-95acf3a22853",
   "metadata": {},
   "outputs": [
    {
     "name": "stdout",
     "output_type": "stream",
     "text": [
      "Class distribution after SMOTE Tomek Links: class\n",
      "1    149\n",
      "0    149\n",
      "Name: count, dtype: int64\n",
      "\n",
      "=== Logistic Regression with SMOTE Tomek Links ===\n",
      "              precision    recall  f1-score   support\n",
      "\n",
      "           0     0.7895    0.7317    0.7595        41\n",
      "           1     0.4500    0.5294    0.4865        17\n",
      "\n",
      "    accuracy                         0.6724        58\n",
      "   macro avg     0.6197    0.6306    0.6230        58\n",
      "weighted avg     0.6900    0.6724    0.6795        58\n",
      "\n",
      "Confusion matrix:\n",
      " [[30 11]\n",
      " [ 8  9]]\n"
     ]
    },
    {
     "data": {
      "image/png": "[encoded data removed]",
      "text/plain": [
       "<Figure size 500x400 with 2 Axes>"
      ]
     },
     "metadata": {},
     "output_type": "display_data"
    }
   ],
   "source": [
    "# Step 1: Apply SMOTE Tomek Links to balance the classes in the training data\n",
    "\n",
    "from imblearn.combine import SMOTETomek\n",
    "from sklearn.metrics import classification_report, confusion_matrix\n",
    "\n",
    "# Apply SMOTE + Tomek Links\n",
    "smt = SMOTETomek(random_state=42)\n",
    "X_res_t, y_res_t = smt.fit_resample(X_train, y_train)\n",
    "print(\"Class distribution after SMOTE Tomek Links:\", y_res_t.value_counts())\n",
    "# Step 2: Train a Logistic Regression model using the SMOTE Tomek Links-balanced training data\n",
    "\n",
    "log_reg_t = LogisticRegression(max_iter=1000, solver='liblinear')\n",
    "log_reg_t.fit(X_res_t, y_res_t)\n",
    "y_pred_t = log_reg_t.predict(X_test)\n",
    "print(\"\\n=== Logistic Regression with SMOTE Tomek Links ===\")\n",
    "print(classification_report(y_test, y_pred_t, digits=4))\n",
    "cm_t = confusion_matrix(y_test, y_pred_t)\n",
    "print(\"Confusion matrix:\\n\", cm_t)\n",
    "\n",
    "\n",
    "# Step 3: Evaluate the model using a classification report, including precision, recall, and F1-score\n",
    "plt.figure(figsize=(5,4))\n",
    "sns.heatmap(cm_t, annot=True, fmt='d', cmap='Purples',\n",
    "            xticklabels=['Pred No Rec', 'Pred Rec'],\n",
    "            yticklabels=['True No Rec', 'True Rec'])\n",
    "plt.xlabel(\"Predicted\")\n",
    "plt.ylabel(\"Actual\")\n",
    "plt.title(\"Confusion Matrix — Logistic Regression (SMOTE Tomek Links)\")\n",
    "plt.show()"
   ]
  },
  {
   "cell_type": "code",
   "execution_count": 54,
   "id": "6fff267a-faae-4447-9a3c-d6cf70eb9962",
   "metadata": {},
   "outputs": [
    {
     "name": "stdout",
     "output_type": "stream",
     "text": [
      "               Accuracy  Precision (1)  Recall (1)  F1 (1)\n",
      "Baseline         0.6897         0.4286      0.1765  0.2500\n",
      "Undersampling    0.5517         0.3448      0.5882  0.4348\n",
      "SMOTE            0.6724         0.4500      0.5294  0.4865\n",
      "SMOTE Tomek      0.6724         0.4500      0.5294  0.4865\n"
     ]
    }
   ],
   "source": [
    "#Comparison of models \n",
    "import pandas as pd\n",
    "\n",
    "# Collect results from each model\n",
    "results = {\n",
    "    \"Baseline\": {\n",
    "        \"Accuracy\": 0.6897,\n",
    "        \"Precision (1)\": 0.4286,\n",
    "        \"Recall (1)\": 0.1765,\n",
    "        \"F1 (1)\": 0.2500\n",
    "    },\n",
    "    \"Undersampling\": {\n",
    "        \"Accuracy\": 0.5517,\n",
    "        \"Precision (1)\": 0.3448,\n",
    "        \"Recall (1)\": 0.5882,\n",
    "        \"F1 (1)\": 0.4348\n",
    "    },\n",
    "    \"SMOTE\": {\n",
    "        \"Accuracy\": 0.6724,\n",
    "        \"Precision (1)\": 0.4500,\n",
    "        \"Recall (1)\": 0.5294,\n",
    "        \"F1 (1)\": 0.4865\n",
    "    },\n",
    "    \"SMOTE Tomek\": {\n",
    "        \"Accuracy\": 0.6724,\n",
    "        \"Precision (1)\": 0.4500,\n",
    "        \"Recall (1)\": 0.5294,\n",
    "        \"F1 (1)\": 0.4865\n",
    "    }\n",
    "}\n",
    "\n",
    "df_results = pd.DataFrame(results).T\n",
    "print(df_results)"
   ]
  },
  {
   "cell_type": "code",
   "execution_count": 55,
   "id": "f4b967a9-22e8-4e3c-9dce-d9447858c5c1",
   "metadata": {},
   "outputs": [
    {
     "data": {
      "image/png": "[encoded data removed]",
      "text/plain": [
       "<Figure size 800x600 with 1 Axes>"
      ]
     },
     "metadata": {},
     "output_type": "display_data"
    }
   ],
   "source": [
    "#visualization\n",
    "import matplotlib.pyplot as plt\n",
    "\n",
    "df_results[[\"Precision (1)\", \"Recall (1)\", \"F1 (1)\"]].plot(\n",
    "    kind=\"bar\", figsize=(8,6), rot=0\n",
    ")\n",
    "plt.title(\"Comparison of Methods on Minority Class (Recurrence Events)\")\n",
    "plt.ylabel(\"Score\")\n",
    "plt.ylim(0,1)\n",
    "plt.legend(loc=\"lower right\")\n",
    "plt.show()"
   ]
  },
  {
   "cell_type": "markdown",
   "id": "a5e5dbbd-5d1b-4e34-bfe4-31f165974f31",
   "metadata": {},
   "source": [
    "#\t•\tBaseline Logistic Regression: High accuracy (69%) but fails minority class (recurrence events) → recall only 17%.\n",
    "\t•\tUndersampling: Balanced classes, higher recall (58%) but sacrifices accuracy.\n",
    "\t•\tSMOTE: Best trade-off → recall improves to 53%, F1 improves, accuracy ~67%.\n",
    "\t•\tSMOTE Tomek: Similar to SMOTE but cleaner dataset, slightly better balance between precision/recall."
   ]
  },
  {
   "cell_type": "code",
   "execution_count": null,
   "id": "e28b45ab-55bc-4e73-80af-85026ff57008",
   "metadata": {},
   "outputs": [],
   "source": []
  }
 ],
 "metadata": {
  "kernelspec": {
   "display_name": "Python 3 (ipykernel)",
   "language": "python",
   "name": "python3"
  },
  "language_info": {
   "codemirror_mode": {
    "name": "ipython",
    "version": 3
   },
   "file_extension": ".py",
   "mimetype": "text/x-python",
   "name": "python",
   "nbconvert_exporter": "python",
   "pygments_lexer": "ipython3",
   "version": "3.13.1"
  }
 },
 "nbformat": 4,
 "nbformat_minor": 5
}
