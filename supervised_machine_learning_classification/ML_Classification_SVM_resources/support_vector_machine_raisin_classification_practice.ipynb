{
 "cells": [
  {
   "cell_type": "markdown",
   "id": "fb0ca75d-653b-46a6-9bb1-cf83559827f7",
   "metadata": {},
   "source": [
    "<h2 style=\"text-align:center; color:DarkBlue;\">🚀 Codebasics ML Course: Support Vector Machine Practice</h2>"
   ]
  },
  {
   "cell_type": "markdown",
   "id": "0df3c9cb-4869-48af-9b59-e5d09cf83919",
   "metadata": {},
   "source": [
    "<h2 style=\"text-align:center; color:DarkRed;\">📌 Problem Statement</h2>\n",
    "\n",
    "Classify raisins into one of the two categories:\n",
    "\n",
    "1. **Kecimen**  \n",
    "2. **Besni**  \n",
    "\n",
    "---\n",
    "\n",
    "<h2 style=\"text-align:center; color:DarkGreen;\">📊 Dataset Citation</h2>\n",
    "\n",
    "This dataset is used under citation guidelines from the original authors.  \n",
    "For detailed study and dataset description, see the following references:\n",
    "\n",
    "- **Citation**: Cinar, I., Koklu, M., & Tasdemir, S. (2020).  \n",
    "  *Classification of Raisin Grains Using Machine Vision and Artificial Intelligence Methods.*  \n",
    "  *Gazi Journal of Engineering Sciences, 6(3), 200-209.*  \n",
    "  DOI: [10.30855/gmbd.2020.03.03](https://doi.org/10.30855/gmbd.2020.03.03)\n",
    "\n",
    "- **Dataset available at**: [Murat Koklu's Dataset Page](https://archive.ics.uci.edu/ml/datasets/Raisin+Dataset)\n",
    "\n",
    "- **Article download**: [DergiPark](https://dergipark.org.tr/en/pub/gmbd/issue/54673/741564)"
   ]
  },
  {
   "cell_type": "code",
   "execution_count": 13,
   "id": "9f985afe-757a-4dfd-93ae-f266ae517dde",
   "metadata": {},
   "outputs": [
    {
     "data": {
      "text/html": [
       "<div>\n",
       "<style scoped>\n",
       "    .dataframe tbody tr th:only-of-type {\n",
       "        vertical-align: middle;\n",
       "    }\n",
       "\n",
       "    .dataframe tbody tr th {\n",
       "        vertical-align: top;\n",
       "    }\n",
       "\n",
       "    .dataframe thead th {\n",
       "        text-align: right;\n",
       "    }\n",
       "</style>\n",
       "<table border=\"1\" class=\"dataframe\">\n",
       "  <thead>\n",
       "    <tr style=\"text-align: right;\">\n",
       "      <th></th>\n",
       "      <th>Area</th>\n",
       "      <th>MajorAxisLength</th>\n",
       "      <th>MinorAxisLength</th>\n",
       "      <th>Eccentricity</th>\n",
       "      <th>ConvexArea</th>\n",
       "      <th>Extent</th>\n",
       "      <th>Perimeter</th>\n",
       "      <th>Class</th>\n",
       "    </tr>\n",
       "  </thead>\n",
       "  <tbody>\n",
       "    <tr>\n",
       "      <th>10</th>\n",
       "      <td>80437</td>\n",
       "      <td>449.454581</td>\n",
       "      <td>232.325506</td>\n",
       "      <td>0.856043</td>\n",
       "      <td>84460</td>\n",
       "      <td>0.674236</td>\n",
       "      <td>1176.305</td>\n",
       "      <td>Kecimen</td>\n",
       "    </tr>\n",
       "    <tr>\n",
       "      <th>800</th>\n",
       "      <td>137921</td>\n",
       "      <td>598.761032</td>\n",
       "      <td>297.201602</td>\n",
       "      <td>0.868116</td>\n",
       "      <td>142159</td>\n",
       "      <td>0.748757</td>\n",
       "      <td>1510.852</td>\n",
       "      <td>Besni</td>\n",
       "    </tr>\n",
       "    <tr>\n",
       "      <th>667</th>\n",
       "      <td>104385</td>\n",
       "      <td>488.897551</td>\n",
       "      <td>277.683744</td>\n",
       "      <td>0.823043</td>\n",
       "      <td>108197</td>\n",
       "      <td>0.772170</td>\n",
       "      <td>1315.843</td>\n",
       "      <td>Besni</td>\n",
       "    </tr>\n",
       "    <tr>\n",
       "      <th>378</th>\n",
       "      <td>53964</td>\n",
       "      <td>368.074061</td>\n",
       "      <td>189.813869</td>\n",
       "      <td>0.856772</td>\n",
       "      <td>55662</td>\n",
       "      <td>0.603678</td>\n",
       "      <td>943.599</td>\n",
       "      <td>Kecimen</td>\n",
       "    </tr>\n",
       "    <tr>\n",
       "      <th>656</th>\n",
       "      <td>172334</td>\n",
       "      <td>595.817747</td>\n",
       "      <td>375.020535</td>\n",
       "      <td>0.777064</td>\n",
       "      <td>174610</td>\n",
       "      <td>0.636111</td>\n",
       "      <td>1591.894</td>\n",
       "      <td>Besni</td>\n",
       "    </tr>\n",
       "  </tbody>\n",
       "</table>\n",
       "</div>"
      ],
      "text/plain": [
       "       Area  MajorAxisLength  MinorAxisLength  Eccentricity  ConvexArea  \\\n",
       "10    80437       449.454581       232.325506      0.856043       84460   \n",
       "800  137921       598.761032       297.201602      0.868116      142159   \n",
       "667  104385       488.897551       277.683744      0.823043      108197   \n",
       "378   53964       368.074061       189.813869      0.856772       55662   \n",
       "656  172334       595.817747       375.020535      0.777064      174610   \n",
       "\n",
       "       Extent  Perimeter    Class  \n",
       "10   0.674236   1176.305  Kecimen  \n",
       "800  0.748757   1510.852    Besni  \n",
       "667  0.772170   1315.843    Besni  \n",
       "378  0.603678    943.599  Kecimen  \n",
       "656  0.636111   1591.894    Besni  "
      ]
     },
     "execution_count": 13,
     "metadata": {},
     "output_type": "execute_result"
    }
   ],
   "source": [
    "import pandas as pd \n",
    "\n",
    "df = pd.read_excel(\"Raisin_Dataset.xlsx\")\n",
    "df.sample(5)"
   ]
  },
  {
   "cell_type": "code",
   "execution_count": 14,
   "id": "dc9484a2-3670-4b8d-8d16-5d7bbabe6d58",
   "metadata": {},
   "outputs": [
    {
     "name": "stdout",
     "output_type": "stream",
     "text": [
      "['Area', 'MajorAxisLength', 'MinorAxisLength', 'Eccentricity', 'ConvexArea', 'Extent', 'Perimeter', 'Class']\n"
     ]
    }
   ],
   "source": [
    "print(df.columns.tolist())"
   ]
  },
  {
   "cell_type": "code",
   "execution_count": 15,
   "id": "e0527725-2ff0-4202-aa9e-4060b137b334",
   "metadata": {},
   "outputs": [],
   "source": [
    "X = df[['Area', 'MajorAxisLength', 'MinorAxisLength', 'Eccentricity', 'ConvexArea', 'Extent', 'Perimeter', 'Class']]\n",
    "y= df[\"Class\"]\n",
    "\n",
    "from sklearn.model_selection import train_test_split\n",
    "X_train,X_test,y_train,y_test = train_test_split(X,y,test_size = 0.2,random_state = 10)"
   ]
  },
  {
   "cell_type": "code",
   "execution_count": 17,
   "id": "cf2da475-9953-48a5-a620-d0d1a81cb754",
   "metadata": {},
   "outputs": [
    {
     "name": "stdout",
     "output_type": "stream",
     "text": [
      "              precision    recall  f1-score   support\n",
      "\n",
      "           0       0.86      0.75      0.80        83\n",
      "           1       0.81      0.90      0.85        97\n",
      "\n",
      "    accuracy                           0.83       180\n",
      "   macro avg       0.83      0.82      0.82       180\n",
      "weighted avg       0.83      0.83      0.83       180\n",
      "\n"
     ]
    }
   ],
   "source": [
    "from sklearn.model_selection import train_test_split\n",
    "from sklearn.svm import SVC\n",
    "from sklearn.metrics import classification_report\n",
    "from sklearn.preprocessing import LabelEncoder\n",
    "\n",
    "# Features and target\n",
    "X = df.drop(columns=[\"Class\"])\n",
    "y = df[\"Class\"]\n",
    "\n",
    "# Encode target labels\n",
    "le = LabelEncoder()\n",
    "y = le.fit_transform(y)\n",
    "\n",
    "# Train-test split\n",
    "X_train, X_test, y_train, y_test = train_test_split(X, y, test_size=0.2, random_state=10)\n",
    "\n",
    "# Train model\n",
    "model = SVC(kernel=\"rbf\")\n",
    "model.fit(X_train, y_train)\n",
    "\n",
    "# Predict\n",
    "y_pred = model.predict(X_test)\n",
    "\n",
    "# Evaluate\n",
    "print(classification_report(y_test, y_pred))"
   ]
  },
  {
   "cell_type": "code",
   "execution_count": null,
   "id": "1d11c5a3-32d1-4493-823f-df690ab4978f",
   "metadata": {},
   "outputs": [],
   "source": []
  }
 ],
 "metadata": {
  "kernelspec": {
   "display_name": "Python 3 (ipykernel)",
   "language": "python",
   "name": "python3"
  },
  "language_info": {
   "codemirror_mode": {
    "name": "ipython",
    "version": 3
   },
   "file_extension": ".py",
   "mimetype": "text/x-python",
   "name": "python",
   "nbconvert_exporter": "python",
   "pygments_lexer": "ipython3",
   "version": "3.13.1"
  }
 },
 "nbformat": 4,
 "nbformat_minor": 5
}
