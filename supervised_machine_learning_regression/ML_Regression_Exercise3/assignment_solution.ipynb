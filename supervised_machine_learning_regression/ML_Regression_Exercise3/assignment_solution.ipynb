{
 "cells": [
  {
   "cell_type": "markdown",
   "id": "3daddf39-5f58-4087-9ca8-cc082dcf60b5",
   "metadata": {},
   "source": [
    "### Problem Statement\n",
    "\n",
    "You are a data scientist / AI engineer at a meteorological consulting firm. You have been provided with a dataset named **`\"weather_data.csv\"`**, which includes detailed records of various weather conditions. The dataset comprises the following columns:\n",
    "\n",
    "- `hours_sunlight:` The total number of hours of sunlight received in a day.\n",
    "- `humidity_level:` The humidity level as a percentage.\n",
    "- `daily_temperature:` The temperature recorded at the end of the day in degrees Celsius.\n",
    "\n",
    "Your task is to use this dataset to build a linear regression model to predict the daily temperature based on the hours of sunlight and humidity level. You will need to split the data into training and test sets, train the model, and evaluate its performance using appropriate metrics."
   ]
  },
  {
   "cell_type": "markdown",
   "id": "74dbed49-2e78-4455-9c4b-be3c0fa27c0d",
   "metadata": {},
   "source": [
    "**Import Necessary Libraries**"
   ]
  },
  {
   "cell_type": "code",
   "execution_count": 2,
   "id": "fa54ae4f-db59-4cb0-8308-7672e345498c",
   "metadata": {},
   "outputs": [],
   "source": [
    "# Import necessary libraries\n",
    "import pandas as pd\n",
    "from sklearn.linear_model import LinearRegression\n",
    "from sklearn.model_selection import train_test_split\n",
    "from sklearn.metrics import mean_squared_error, r2_score\n",
    "import warnings\n",
    "warnings.filterwarnings(\"ignore\")"
   ]
  },
  {
   "cell_type": "markdown",
   "id": "9182178d-a5df-4e1a-b2e8-51f1c3c6692e",
   "metadata": {},
   "source": [
    "### Task 1: Data Preparation and Exploration\n",
    "1. Import the data from the `\"weather_data.csv\"` file and store it in a variable df.\n",
    "2. Display the number of rows and columns in the dataset.\n",
    "3. Display the first few rows of the dataset to get an overview.\n",
    "4. Check for any missing values in the dataset."
   ]
  },
  {
   "cell_type": "code",
   "execution_count": 3,
   "id": "0f9fe1b4-ef69-49ee-98a7-5c908008fdd8",
   "metadata": {},
   "outputs": [
    {
     "name": "stdout",
     "output_type": "stream",
     "text": [
      "Number of rows and columns: (49, 3)\n",
      "First few rows of the dataset:\n"
     ]
    },
    {
     "data": {
      "text/html": [
       "<div>\n",
       "<style scoped>\n",
       "    .dataframe tbody tr th:only-of-type {\n",
       "        vertical-align: middle;\n",
       "    }\n",
       "\n",
       "    .dataframe tbody tr th {\n",
       "        vertical-align: top;\n",
       "    }\n",
       "\n",
       "    .dataframe thead th {\n",
       "        text-align: right;\n",
       "    }\n",
       "</style>\n",
       "<table border=\"1\" class=\"dataframe\">\n",
       "  <thead>\n",
       "    <tr style=\"text-align: right;\">\n",
       "      <th></th>\n",
       "      <th>hours_sunlight</th>\n",
       "      <th>humidity_level</th>\n",
       "      <th>daily_temperature</th>\n",
       "    </tr>\n",
       "  </thead>\n",
       "  <tbody>\n",
       "    <tr>\n",
       "      <th>0</th>\n",
       "      <td>10.5</td>\n",
       "      <td>65</td>\n",
       "      <td>22.3</td>\n",
       "    </tr>\n",
       "    <tr>\n",
       "      <th>1</th>\n",
       "      <td>9.2</td>\n",
       "      <td>70</td>\n",
       "      <td>21.0</td>\n",
       "    </tr>\n",
       "    <tr>\n",
       "      <th>2</th>\n",
       "      <td>7.8</td>\n",
       "      <td>80</td>\n",
       "      <td>18.5</td>\n",
       "    </tr>\n",
       "    <tr>\n",
       "      <th>3</th>\n",
       "      <td>6.4</td>\n",
       "      <td>90</td>\n",
       "      <td>17.2</td>\n",
       "    </tr>\n",
       "    <tr>\n",
       "      <th>4</th>\n",
       "      <td>8.1</td>\n",
       "      <td>75</td>\n",
       "      <td>19.4</td>\n",
       "    </tr>\n",
       "  </tbody>\n",
       "</table>\n",
       "</div>"
      ],
      "text/plain": [
       "   hours_sunlight  humidity_level  daily_temperature\n",
       "0            10.5              65               22.3\n",
       "1             9.2              70               21.0\n",
       "2             7.8              80               18.5\n",
       "3             6.4              90               17.2\n",
       "4             8.1              75               19.4"
      ]
     },
     "execution_count": 3,
     "metadata": {},
     "output_type": "execute_result"
    }
   ],
   "source": [
    "\n",
    "# Step 1: Import the data from the \"song_popularity.csv\" file and store it in a variable 'df'\n",
    "df = pd.read_csv(\"weather_data.csv\")\n",
    "\n",
    "# Step 2: Display the number of rows and columns in the dataset\n",
    "print(\"Number of rows and columns:\", df.shape)\n",
    "\n",
    "# Step 3: Display the first few rows of the dataset to get an overview\n",
    "print(\"First few rows of the dataset:\")\n",
    "df.head()"
   ]
  },
  {
   "cell_type": "code",
   "execution_count": 4,
   "id": "3a738f22-aa3f-441d-9353-a71adfcfc7e2",
   "metadata": {},
   "outputs": [
    {
     "name": "stdout",
     "output_type": "stream",
     "text": [
      "Missing values in the dataset:\n"
     ]
    },
    {
     "data": {
      "text/plain": [
       "hours_sunlight       0\n",
       "humidity_level       0\n",
       "daily_temperature    0\n",
       "dtype: int64"
      ]
     },
     "execution_count": 4,
     "metadata": {},
     "output_type": "execute_result"
    }
   ],
   "source": [
    "# Step 4: Check for any missing values in the dataset\n",
    "print(\"Missing values in the dataset:\")\n",
    "df.isna().sum()"
   ]
  },
  {
   "cell_type": "markdown",
   "id": "ba609f4c-4236-4868-9d15-35e32d1fc17b",
   "metadata": {},
   "source": [
    "### Task 2: Train a Linear Regression Model\n",
    "\n",
    "1. Select the features (hours_sunlight, humidity_level) and the target variable (daily_temperature) for modeling.\n",
    "2. Split the data into training and test sets with a test size of 30%.\n",
    "3. Create a Linear Regression model and fit it using the training data.\n",
    "4. Print the model's coefficients and intercept."
   ]
  },
  {
   "cell_type": "code",
   "execution_count": 5,
   "id": "da547db5-4ff2-431f-af05-23abf3eae112",
   "metadata": {},
   "outputs": [],
   "source": [
    "# Step 1: Select the features and target variable for modeling\n",
    "features = ['hours_sunlight', 'humidity_level']\n",
    "X = df[features]\n",
    "y = df['daily_temperature']\n",
    "\n",
    "# Step 2: Split the data into training and test sets with a test size of 30%\n",
    "X_train, X_test, y_train, y_test = train_test_split(X, y, test_size=0.3, random_state=42)"
   ]
  },
  {
   "cell_type": "code",
   "execution_count": 6,
   "id": "785427fa-4ba8-4eb0-9cdb-ca6e7134569d",
   "metadata": {},
   "outputs": [
    {
     "name": "stdout",
     "output_type": "stream",
     "text": [
      "Model coefficients: [ 1.25083729 -0.02763612]\n",
      "Model intercept: 11.51100793541827\n"
     ]
    }
   ],
   "source": [
    "# Step 3: Create a Linear Regression model and fit it using the training data\n",
    "model = LinearRegression()\n",
    "model.fit(X_train, y_train)\n",
    "\n",
    "# Step 4: Print the model's coefficients and intercept\n",
    "print(\"Model coefficients:\", model.coef_)\n",
    "print(\"Model intercept:\", model.intercept_)"
   ]
  },
  {
   "cell_type": "markdown",
   "id": "5839c18f-57db-4f41-b2b6-8858653a661a",
   "metadata": {},
   "source": [
    "### Task 3: Model Evaluation\n",
    "\n",
    "1. Make predictions on the test set using the trained model.\n",
    "2. Evaluate the model using Mean Squared Error (MSE) and R-squared (R2) metrics.\n",
    "3. Print the MSE and R2 values.\n",
    "4. Display the first few actual vs. predicted values for the daily temperature."
   ]
  },
  {
   "cell_type": "code",
   "execution_count": 7,
   "id": "7d12750b-40dd-4e8b-8cdd-8228dd9b70b6",
   "metadata": {},
   "outputs": [],
   "source": [
    "# Step 1: Make predictions on the test set using the trained model\n",
    "y_pred = model.predict(X_test)\n",
    "\n",
    "# Step 2: Evaluate the model using Mean Squared Error (MSE) and R-squared (R2) metrics\n",
    "mse = mean_squared_error(y_test, y_pred)\n",
    "r2 = r2_score(y_test, y_pred)"
   ]
  },
  {
   "cell_type": "code",
   "execution_count": 8,
   "id": "2b945d00-97ea-4406-a526-79a0c03cef54",
   "metadata": {},
   "outputs": [
    {
     "name": "stdout",
     "output_type": "stream",
     "text": [
      "Mean Squared Error (MSE): 0.11488330185581296\n",
      "R-squared (R2): 0.9833806480142233\n",
      "First few actual vs. predicted values:\n",
      "   Actual  Predicted\n",
      "0    18.7  18.736670\n",
      "1    17.0  16.944765\n",
      "2    21.3  21.334350\n",
      "3    23.9  23.431695\n",
      "4    19.6  19.847885\n"
     ]
    }
   ],
   "source": [
    "# Step 3: Print the MSE and R2 values\n",
    "print(\"Mean Squared Error (MSE):\", mse)\n",
    "print(\"R-squared (R2):\", r2)\n",
    "\n",
    "# Step 4: Display the first few actual vs. predicted values for the daily temperature\n",
    "print(\"First few actual vs. predicted values:\")\n",
    "comparison_df = pd.DataFrame({'Actual': y_test[:5].values, 'Predicted': y_pred[:5]})\n",
    "print(comparison_df)"
   ]
  }
 ],
 "metadata": {
  "kernelspec": {
   "display_name": "Python 3 (ipykernel)",
   "language": "python",
   "name": "python3"
  },
  "language_info": {
   "codemirror_mode": {
    "name": "ipython",
    "version": 3
   },
   "file_extension": ".py",
   "mimetype": "text/x-python",
   "name": "python",
   "nbconvert_exporter": "python",
   "pygments_lexer": "ipython3",
   "version": "3.10.11"
  }
 },
 "nbformat": 4,
 "nbformat_minor": 5
}
