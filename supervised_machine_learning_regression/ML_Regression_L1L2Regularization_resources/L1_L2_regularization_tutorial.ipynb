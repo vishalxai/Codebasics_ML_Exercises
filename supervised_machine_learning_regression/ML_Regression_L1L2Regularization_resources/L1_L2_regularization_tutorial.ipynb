{
 "cells": [
  {
   "cell_type": "markdown",
   "id": "921b36bb",
   "metadata": {},
   "source": [
    "<h1 align=\"center\">L1, L2 Regularization Tutorial: Codebasics ML Course</h1>"
   ]
  },
  {
   "cell_type": "code",
   "execution_count": 60,
   "id": "727120a6",
   "metadata": {
    "scrolled": true
   },
   "outputs": [],
   "source": [
    "import numpy as np\n",
    "import pandas as pd\n",
    "from sklearn.linear_model import LinearRegression, Lasso, Ridge\n",
    "from sklearn.model_selection import train_test_split\n",
    "from sklearn.metrics import r2_score\n",
    "import matplotlib.pyplot as plt"
   ]
  },
  {
   "cell_type": "code",
   "execution_count": 61,
   "id": "4ce7fb31",
   "metadata": {},
   "outputs": [
    {
     "data": {
      "text/html": [
       "<div>\n",
       "<style scoped>\n",
       "    .dataframe tbody tr th:only-of-type {\n",
       "        vertical-align: middle;\n",
       "    }\n",
       "\n",
       "    .dataframe tbody tr th {\n",
       "        vertical-align: top;\n",
       "    }\n",
       "\n",
       "    .dataframe thead th {\n",
       "        text-align: right;\n",
       "    }\n",
       "</style>\n",
       "<table border=\"1\" class=\"dataframe\">\n",
       "  <thead>\n",
       "    <tr style=\"text-align: right;\">\n",
       "      <th></th>\n",
       "      <th>f1</th>\n",
       "      <th>f2</th>\n",
       "      <th>f3</th>\n",
       "      <th>f4</th>\n",
       "      <th>f5</th>\n",
       "      <th>f6</th>\n",
       "      <th>f7</th>\n",
       "      <th>f8</th>\n",
       "      <th>f9</th>\n",
       "      <th>f10</th>\n",
       "      <th>...</th>\n",
       "      <th>f142</th>\n",
       "      <th>f143</th>\n",
       "      <th>f144</th>\n",
       "      <th>f145</th>\n",
       "      <th>f146</th>\n",
       "      <th>f147</th>\n",
       "      <th>f148</th>\n",
       "      <th>f149</th>\n",
       "      <th>f150</th>\n",
       "      <th>target</th>\n",
       "    </tr>\n",
       "  </thead>\n",
       "  <tbody>\n",
       "    <tr>\n",
       "      <th>0</th>\n",
       "      <td>-0.924357</td>\n",
       "      <td>-0.326536</td>\n",
       "      <td>-1.875007</td>\n",
       "      <td>-1.780626</td>\n",
       "      <td>-0.630143</td>\n",
       "      <td>0.788204</td>\n",
       "      <td>2.792209</td>\n",
       "      <td>-0.772192</td>\n",
       "      <td>-0.450994</td>\n",
       "      <td>0.400000</td>\n",
       "      <td>...</td>\n",
       "      <td>0.968645</td>\n",
       "      <td>-0.702053</td>\n",
       "      <td>-0.327662</td>\n",
       "      <td>-0.392108</td>\n",
       "      <td>-1.463515</td>\n",
       "      <td>0.296120</td>\n",
       "      <td>0.261055</td>\n",
       "      <td>0.005113</td>\n",
       "      <td>-0.234587</td>\n",
       "      <td>10.681366</td>\n",
       "    </tr>\n",
       "    <tr>\n",
       "      <th>1</th>\n",
       "      <td>0.001795</td>\n",
       "      <td>-1.285599</td>\n",
       "      <td>-0.726774</td>\n",
       "      <td>0.385711</td>\n",
       "      <td>0.891863</td>\n",
       "      <td>0.599451</td>\n",
       "      <td>-0.140553</td>\n",
       "      <td>-0.761760</td>\n",
       "      <td>0.117707</td>\n",
       "      <td>0.333231</td>\n",
       "      <td>...</td>\n",
       "      <td>0.856399</td>\n",
       "      <td>0.214094</td>\n",
       "      <td>-1.245739</td>\n",
       "      <td>0.173181</td>\n",
       "      <td>0.385317</td>\n",
       "      <td>-0.883857</td>\n",
       "      <td>0.153725</td>\n",
       "      <td>0.058209</td>\n",
       "      <td>-1.142970</td>\n",
       "      <td>-60.163343</td>\n",
       "    </tr>\n",
       "    <tr>\n",
       "      <th>2</th>\n",
       "      <td>0.956702</td>\n",
       "      <td>2.319330</td>\n",
       "      <td>-0.705012</td>\n",
       "      <td>0.081829</td>\n",
       "      <td>0.330880</td>\n",
       "      <td>0.838491</td>\n",
       "      <td>2.493000</td>\n",
       "      <td>1.227669</td>\n",
       "      <td>-0.785989</td>\n",
       "      <td>-0.920674</td>\n",
       "      <td>...</td>\n",
       "      <td>-0.493001</td>\n",
       "      <td>-0.589365</td>\n",
       "      <td>0.849602</td>\n",
       "      <td>0.357015</td>\n",
       "      <td>-0.692910</td>\n",
       "      <td>0.899600</td>\n",
       "      <td>0.307300</td>\n",
       "      <td>0.812862</td>\n",
       "      <td>0.629629</td>\n",
       "      <td>131.226545</td>\n",
       "    </tr>\n",
       "  </tbody>\n",
       "</table>\n",
       "<p>3 rows × 151 columns</p>\n",
       "</div>"
      ],
      "text/plain": [
       "         f1        f2        f3        f4        f5        f6        f7  \\\n",
       "0 -0.924357 -0.326536 -1.875007 -1.780626 -0.630143  0.788204  2.792209   \n",
       "1  0.001795 -1.285599 -0.726774  0.385711  0.891863  0.599451 -0.140553   \n",
       "2  0.956702  2.319330 -0.705012  0.081829  0.330880  0.838491  2.493000   \n",
       "\n",
       "         f8        f9       f10  ...      f142      f143      f144      f145  \\\n",
       "0 -0.772192 -0.450994  0.400000  ...  0.968645 -0.702053 -0.327662 -0.392108   \n",
       "1 -0.761760  0.117707  0.333231  ...  0.856399  0.214094 -1.245739  0.173181   \n",
       "2  1.227669 -0.785989 -0.920674  ... -0.493001 -0.589365  0.849602  0.357015   \n",
       "\n",
       "       f146      f147      f148      f149      f150      target  \n",
       "0 -1.463515  0.296120  0.261055  0.005113 -0.234587   10.681366  \n",
       "1  0.385317 -0.883857  0.153725  0.058209 -1.142970  -60.163343  \n",
       "2 -0.692910  0.899600  0.307300  0.812862  0.629629  131.226545  \n",
       "\n",
       "[3 rows x 151 columns]"
      ]
     },
     "execution_count": 61,
     "metadata": {},
     "output_type": "execute_result"
    }
   ],
   "source": [
    "df = pd.read_csv(\"dataset.csv\")\n",
    "df.head(3)"
   ]
  },
  {
   "cell_type": "code",
   "execution_count": 54,
   "id": "306e834a",
   "metadata": {},
   "outputs": [
    {
     "data": {
      "text/html": [
       "<div>\n",
       "<style scoped>\n",
       "    .dataframe tbody tr th:only-of-type {\n",
       "        vertical-align: middle;\n",
       "    }\n",
       "\n",
       "    .dataframe tbody tr th {\n",
       "        vertical-align: top;\n",
       "    }\n",
       "\n",
       "    .dataframe thead th {\n",
       "        text-align: right;\n",
       "    }\n",
       "</style>\n",
       "<table border=\"1\" class=\"dataframe\">\n",
       "  <thead>\n",
       "    <tr style=\"text-align: right;\">\n",
       "      <th></th>\n",
       "      <th>f1</th>\n",
       "      <th>f2</th>\n",
       "      <th>f3</th>\n",
       "      <th>f4</th>\n",
       "      <th>f5</th>\n",
       "      <th>f6</th>\n",
       "      <th>f7</th>\n",
       "      <th>f8</th>\n",
       "      <th>f9</th>\n",
       "      <th>f10</th>\n",
       "      <th>...</th>\n",
       "      <th>f141</th>\n",
       "      <th>f142</th>\n",
       "      <th>f143</th>\n",
       "      <th>f144</th>\n",
       "      <th>f145</th>\n",
       "      <th>f146</th>\n",
       "      <th>f147</th>\n",
       "      <th>f148</th>\n",
       "      <th>f149</th>\n",
       "      <th>f150</th>\n",
       "    </tr>\n",
       "  </thead>\n",
       "  <tbody>\n",
       "    <tr>\n",
       "      <th>0</th>\n",
       "      <td>-0.924357</td>\n",
       "      <td>-0.326536</td>\n",
       "      <td>-1.875007</td>\n",
       "      <td>-1.780626</td>\n",
       "      <td>-0.630143</td>\n",
       "      <td>0.788204</td>\n",
       "      <td>2.792209</td>\n",
       "      <td>-0.772192</td>\n",
       "      <td>-0.450994</td>\n",
       "      <td>0.400000</td>\n",
       "      <td>...</td>\n",
       "      <td>0.097078</td>\n",
       "      <td>0.968645</td>\n",
       "      <td>-0.702053</td>\n",
       "      <td>-0.327662</td>\n",
       "      <td>-0.392108</td>\n",
       "      <td>-1.463515</td>\n",
       "      <td>0.296120</td>\n",
       "      <td>0.261055</td>\n",
       "      <td>0.005113</td>\n",
       "      <td>-0.234587</td>\n",
       "    </tr>\n",
       "    <tr>\n",
       "      <th>1</th>\n",
       "      <td>0.001795</td>\n",
       "      <td>-1.285599</td>\n",
       "      <td>-0.726774</td>\n",
       "      <td>0.385711</td>\n",
       "      <td>0.891863</td>\n",
       "      <td>0.599451</td>\n",
       "      <td>-0.140553</td>\n",
       "      <td>-0.761760</td>\n",
       "      <td>0.117707</td>\n",
       "      <td>0.333231</td>\n",
       "      <td>...</td>\n",
       "      <td>-0.446515</td>\n",
       "      <td>0.856399</td>\n",
       "      <td>0.214094</td>\n",
       "      <td>-1.245739</td>\n",
       "      <td>0.173181</td>\n",
       "      <td>0.385317</td>\n",
       "      <td>-0.883857</td>\n",
       "      <td>0.153725</td>\n",
       "      <td>0.058209</td>\n",
       "      <td>-1.142970</td>\n",
       "    </tr>\n",
       "    <tr>\n",
       "      <th>2</th>\n",
       "      <td>0.956702</td>\n",
       "      <td>2.319330</td>\n",
       "      <td>-0.705012</td>\n",
       "      <td>0.081829</td>\n",
       "      <td>0.330880</td>\n",
       "      <td>0.838491</td>\n",
       "      <td>2.493000</td>\n",
       "      <td>1.227669</td>\n",
       "      <td>-0.785989</td>\n",
       "      <td>-0.920674</td>\n",
       "      <td>...</td>\n",
       "      <td>-0.208122</td>\n",
       "      <td>-0.493001</td>\n",
       "      <td>-0.589365</td>\n",
       "      <td>0.849602</td>\n",
       "      <td>0.357015</td>\n",
       "      <td>-0.692910</td>\n",
       "      <td>0.899600</td>\n",
       "      <td>0.307300</td>\n",
       "      <td>0.812862</td>\n",
       "      <td>0.629629</td>\n",
       "    </tr>\n",
       "  </tbody>\n",
       "</table>\n",
       "<p>3 rows × 150 columns</p>\n",
       "</div>"
      ],
      "text/plain": [
       "         f1        f2        f3        f4        f5        f6        f7  \\\n",
       "0 -0.924357 -0.326536 -1.875007 -1.780626 -0.630143  0.788204  2.792209   \n",
       "1  0.001795 -1.285599 -0.726774  0.385711  0.891863  0.599451 -0.140553   \n",
       "2  0.956702  2.319330 -0.705012  0.081829  0.330880  0.838491  2.493000   \n",
       "\n",
       "         f8        f9       f10  ...      f141      f142      f143      f144  \\\n",
       "0 -0.772192 -0.450994  0.400000  ...  0.097078  0.968645 -0.702053 -0.327662   \n",
       "1 -0.761760  0.117707  0.333231  ... -0.446515  0.856399  0.214094 -1.245739   \n",
       "2  1.227669 -0.785989 -0.920674  ... -0.208122 -0.493001 -0.589365  0.849602   \n",
       "\n",
       "       f145      f146      f147      f148      f149      f150  \n",
       "0 -0.392108 -1.463515  0.296120  0.261055  0.005113 -0.234587  \n",
       "1  0.173181  0.385317 -0.883857  0.153725  0.058209 -1.142970  \n",
       "2  0.357015 -0.692910  0.899600  0.307300  0.812862  0.629629  \n",
       "\n",
       "[3 rows x 150 columns]"
      ]
     },
     "execution_count": 54,
     "metadata": {},
     "output_type": "execute_result"
    }
   ],
   "source": [
    "X = df.drop([\"target\"], axis=1)\n",
    "y = df[\"target\"]\n",
    "X.head(3)"
   ]
  },
  {
   "cell_type": "code",
   "execution_count": 55,
   "id": "8cc9444f",
   "metadata": {},
   "outputs": [
    {
     "data": {
      "text/plain": [
       "0     10.681366\n",
       "1    -60.163343\n",
       "2    131.226545\n",
       "3   -131.889020\n",
       "4   -138.566956\n",
       "Name: target, dtype: float64"
      ]
     },
     "execution_count": 55,
     "metadata": {},
     "output_type": "execute_result"
    }
   ],
   "source": [
    "y[:5]"
   ]
  },
  {
   "cell_type": "markdown",
   "id": "06575d43",
   "metadata": {},
   "source": [
    "### Training Using Simple Linear Regression Model"
   ]
  },
  {
   "cell_type": "code",
   "execution_count": 95,
   "id": "c09988e0",
   "metadata": {},
   "outputs": [
    {
     "data": {
      "text/plain": [
       "0.7398108003119828"
      ]
     },
     "execution_count": 95,
     "metadata": {},
     "output_type": "execute_result"
    }
   ],
   "source": [
    "# Split data into training and testing sets\n",
    "X_train, X_test, y_train, y_test = train_test_split(X, y, test_size=0.25, random_state=42)\n",
    "\n",
    "# Initialize models\n",
    "linear_model = LinearRegression()\n",
    "linear_model.fit(X_train, y_train)\n",
    "linear_model.score(X_test, y_test)"
   ]
  },
  {
   "cell_type": "markdown",
   "id": "fa70e093",
   "metadata": {},
   "source": [
    "### Training Using Lasso Regression Model (L1 Regularization)"
   ]
  },
  {
   "cell_type": "code",
   "execution_count": 99,
   "id": "44609d0f",
   "metadata": {},
   "outputs": [
    {
     "data": {
      "text/plain": [
       "0.9901476660336155"
      ]
     },
     "execution_count": 99,
     "metadata": {},
     "output_type": "execute_result"
    }
   ],
   "source": [
    "lasso_model = Lasso(alpha=1.0)  # Adjust alpha for Lasso\n",
    "lasso_model.fit(X_train, y_train)\n",
    "lasso_model.score(X_test, y_test)"
   ]
  },
  {
   "cell_type": "markdown",
   "id": "3ff92836",
   "metadata": {},
   "source": [
    "### Training Using Ridge Regression Model (L2 Regularization)"
   ]
  },
  {
   "cell_type": "code",
   "execution_count": 97,
   "id": "7128179c",
   "metadata": {},
   "outputs": [
    {
     "data": {
      "text/plain": [
       "0.946267134174204"
      ]
     },
     "execution_count": 97,
     "metadata": {},
     "output_type": "execute_result"
    }
   ],
   "source": [
    "ridge_model = Ridge(alpha=1.0)  # Adjust alpha for Ridge\n",
    "ridge_model.fit(X_train, y_train)\n",
    "ridge_model.score(X_test, y_test)"
   ]
  },
  {
   "cell_type": "code",
   "execution_count": null,
   "id": "f48c97ef-c054-4a6d-9b52-9beb787a549d",
   "metadata": {},
   "outputs": [],
   "source": []
  }
 ],
 "metadata": {
  "kernelspec": {
   "display_name": "Python 3 (ipykernel)",
   "language": "python",
   "name": "python3"
  },
  "language_info": {
   "codemirror_mode": {
    "name": "ipython",
    "version": 3
   },
   "file_extension": ".py",
   "mimetype": "text/x-python",
   "name": "python",
   "nbconvert_exporter": "python",
   "pygments_lexer": "ipython3",
   "version": "3.13.1"
  }
 },
 "nbformat": 4,
 "nbformat_minor": 5
}
