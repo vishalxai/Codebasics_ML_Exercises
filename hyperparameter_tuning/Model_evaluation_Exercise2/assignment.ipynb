{
 "cells": [
  {
   "cell_type": "markdown",
   "id": "13621968-955f-4a53-96f0-7f5a8ae6bb26",
   "metadata": {},
   "source": [
    "### Problem Statement\n",
    "\n",
    "You are a data scientist working on a classification problem to predict whether a hotel reservation will be canceled or not. You have been provided with a dataset named **`\"hotel_reservations.csv\"`**, which includes various attributes related to hotel bookings. The dataset comprises the following columns:\n",
    "\n",
    "- `booking_id:` unique identifier of each booking\n",
    "- `no_of_adults:` Number of adults\n",
    "- `no_of_children:` Number of Children\n",
    "- `no_of_weekend_nights:` Number of weekend nights (Saturday or Sunday) the guest stayed or booked to stay at the hotel\n",
    "- `no_of_week_nights:` Number of week nights (Monday to Friday) the guest stayed or booked to stay at the hotel\n",
    "- `type_of_meal_plan:` Type of meal plan booked by the customer\n",
    "- `required_car_parking_space:` Does the customer require a car parking space? (0 - No, 1- Yes)\n",
    "- `room_type_reserved:` Type of room reserved by the customer. The values are ciphered (encoded) by INN Hotels\n",
    "- `lead_time:` Number of days between the date of booking and the arrival date\n",
    "- `arrival_year:` Year of arrival date\n",
    "- `arrival_month:` Month of arrival date\n",
    "- `arrival_date:` Date of the month\n",
    "- `market_segment_type:` Market segment designation\n",
    "- `repeated_guest:` Is the customer a repeated guest? (0 - No, 1- Yes)\n",
    "- `no_of_previous_cancellations:` Number of previous bookings that were canceled by the customer prior to the current booking\n",
    "- `no_of_previous_bookings_not_canceled:` Number of previous bookings not canceled by the customer prior to the current booking\n",
    "- `avg_price_per_room:` Average price per day of the reservation; prices of the rooms are dynamic (in euros)\n",
    "- `no_of_special_requests:` Total number of special requests made by the customer (e.g. high floor, view from the room, etc)\n",
    "- `booking_status:` Flag indicating if the booking was canceled or not (Not_Canceled = 0, Canceled = 1)\n",
    "\n",
    "\n",
    "You will perform data preprocessing, exploratory data analysis, and model training using different algorithms, including logistic regression, decision tree, random forest, and Naive Bayes. Additionally, you will implement k-fold cross-validation, stratified k-fold cross-validation, grid search, and randomized search techniques.\n",
    "\n",
    "**Dataset Credits:** Ahsan Raza (https://www.kaggle.com/datasets/ahsan81/hotel-reservations-classification-dataset)"
   ]
  },
  {
   "cell_type": "markdown",
   "id": "850a6f9e-f365-4461-86f8-de7d9b9e4c8a",
   "metadata": {},
   "source": [
    "**Import Necessary Libraries**\r\n"
   ]
  },
  {
   "cell_type": "code",
   "execution_count": 30,
   "id": "b698c6a7-2eca-4597-8491-228b408f5b95",
   "metadata": {},
   "outputs": [],
   "source": [
    "# Import Necessary Libraries\n",
    "import warnings\n",
    "warnings.filterwarnings(\"ignore\")\n",
    "import pandas as pd\n",
    "import matplotlib.pyplot as plt\n",
    "import seaborn as sns\n",
    "\n",
    "from sklearn.preprocessing import StandardScaler\n",
    "from sklearn.model_selection import KFold, cross_val_score, StratifiedKFold, GridSearchCV, RandomizedSearchCV\n",
    "from sklearn.linear_model import LogisticRegression\n",
    "from sklearn.naive_bayes import GaussianNB\n",
    "from sklearn.tree import DecisionTreeClassifier\n",
    "from sklearn.ensemble import RandomForestClassifier\n",
    "from xgboost import XGBClassifier\n",
    "from sklearn.metrics import classification_report, roc_curve, auc"
   ]
  },
  {
   "cell_type": "markdown",
   "id": "4f8ae767-7820-4ee1-97ee-b557a8b3cf99",
   "metadata": {},
   "source": [
    "### Task 1: Data Preprocessing and EDA\n",
    "\n",
    "1. Import the data from the `\"hotel_reservations.csv\"` file and store it in a variable df.\n",
    "2. Display the number of rows and columns in the dataset.\n",
    "3. Display the first few rows of the dataset to get an overview.\n",
    "5. Remove the columns `booking_id, arrival_year, arrival_month, and arrival_date` as they do not add significant value to the predictive model.\n",
    "6. Visualize the booking_status using a count plot.\n",
    "7. Visualize the lead time for canceled and not canceled bookings using a box plot.\n",
    "8. Visualize the average price per room for canceled and not canceled bookings using a box plot.\n",
    "9. Encode categorical variables: type_of_meal_plan, room_type_reserved, and market_segment_type using one-hot encoding."
   ]
  },
  {
   "cell_type": "code",
   "execution_count": 31,
   "id": "7a6e3a54-d6cf-4f1c-afb4-263795c556a5",
   "metadata": {},
   "outputs": [
    {
     "name": "stdout",
     "output_type": "stream",
     "text": [
      "Number of rows and columns: (36275, 19)\n"
     ]
    },
    {
     "data": {
      "text/html": [
       "<div>\n",
       "<style scoped>\n",
       "    .dataframe tbody tr th:only-of-type {\n",
       "        vertical-align: middle;\n",
       "    }\n",
       "\n",
       "    .dataframe tbody tr th {\n",
       "        vertical-align: top;\n",
       "    }\n",
       "\n",
       "    .dataframe thead th {\n",
       "        text-align: right;\n",
       "    }\n",
       "</style>\n",
       "<table border=\"1\" class=\"dataframe\">\n",
       "  <thead>\n",
       "    <tr style=\"text-align: right;\">\n",
       "      <th></th>\n",
       "      <th>booking_id</th>\n",
       "      <th>no_of_adults</th>\n",
       "      <th>no_of_children</th>\n",
       "      <th>no_of_weekend_nights</th>\n",
       "      <th>no_of_week_nights</th>\n",
       "      <th>type_of_meal_plan</th>\n",
       "      <th>required_car_parking_space</th>\n",
       "      <th>room_type_reserved</th>\n",
       "      <th>lead_time</th>\n",
       "      <th>arrival_year</th>\n",
       "      <th>arrival_month</th>\n",
       "      <th>arrival_date</th>\n",
       "      <th>market_segment_type</th>\n",
       "      <th>repeated_guest</th>\n",
       "      <th>no_of_previous_cancellations</th>\n",
       "      <th>no_of_previous_bookings_not_canceled</th>\n",
       "      <th>avg_price_per_room</th>\n",
       "      <th>no_of_special_requests</th>\n",
       "      <th>booking_status</th>\n",
       "    </tr>\n",
       "  </thead>\n",
       "  <tbody>\n",
       "    <tr>\n",
       "      <th>0</th>\n",
       "      <td>INN00001</td>\n",
       "      <td>2</td>\n",
       "      <td>0</td>\n",
       "      <td>1</td>\n",
       "      <td>2</td>\n",
       "      <td>Meal Plan 1</td>\n",
       "      <td>0</td>\n",
       "      <td>Room_Type 1</td>\n",
       "      <td>224</td>\n",
       "      <td>2017</td>\n",
       "      <td>10</td>\n",
       "      <td>2</td>\n",
       "      <td>Offline</td>\n",
       "      <td>0</td>\n",
       "      <td>0</td>\n",
       "      <td>0</td>\n",
       "      <td>65.00</td>\n",
       "      <td>0</td>\n",
       "      <td>Not_Canceled</td>\n",
       "    </tr>\n",
       "    <tr>\n",
       "      <th>1</th>\n",
       "      <td>INN00002</td>\n",
       "      <td>2</td>\n",
       "      <td>0</td>\n",
       "      <td>2</td>\n",
       "      <td>3</td>\n",
       "      <td>Not Selected</td>\n",
       "      <td>0</td>\n",
       "      <td>Room_Type 1</td>\n",
       "      <td>5</td>\n",
       "      <td>2018</td>\n",
       "      <td>11</td>\n",
       "      <td>6</td>\n",
       "      <td>Online</td>\n",
       "      <td>0</td>\n",
       "      <td>0</td>\n",
       "      <td>0</td>\n",
       "      <td>106.68</td>\n",
       "      <td>1</td>\n",
       "      <td>Not_Canceled</td>\n",
       "    </tr>\n",
       "    <tr>\n",
       "      <th>2</th>\n",
       "      <td>INN00003</td>\n",
       "      <td>1</td>\n",
       "      <td>0</td>\n",
       "      <td>2</td>\n",
       "      <td>1</td>\n",
       "      <td>Meal Plan 1</td>\n",
       "      <td>0</td>\n",
       "      <td>Room_Type 1</td>\n",
       "      <td>1</td>\n",
       "      <td>2018</td>\n",
       "      <td>2</td>\n",
       "      <td>28</td>\n",
       "      <td>Online</td>\n",
       "      <td>0</td>\n",
       "      <td>0</td>\n",
       "      <td>0</td>\n",
       "      <td>60.00</td>\n",
       "      <td>0</td>\n",
       "      <td>Canceled</td>\n",
       "    </tr>\n",
       "    <tr>\n",
       "      <th>3</th>\n",
       "      <td>INN00004</td>\n",
       "      <td>2</td>\n",
       "      <td>0</td>\n",
       "      <td>0</td>\n",
       "      <td>2</td>\n",
       "      <td>Meal Plan 1</td>\n",
       "      <td>0</td>\n",
       "      <td>Room_Type 1</td>\n",
       "      <td>211</td>\n",
       "      <td>2018</td>\n",
       "      <td>5</td>\n",
       "      <td>20</td>\n",
       "      <td>Online</td>\n",
       "      <td>0</td>\n",
       "      <td>0</td>\n",
       "      <td>0</td>\n",
       "      <td>100.00</td>\n",
       "      <td>0</td>\n",
       "      <td>Canceled</td>\n",
       "    </tr>\n",
       "    <tr>\n",
       "      <th>4</th>\n",
       "      <td>INN00005</td>\n",
       "      <td>2</td>\n",
       "      <td>0</td>\n",
       "      <td>1</td>\n",
       "      <td>1</td>\n",
       "      <td>Not Selected</td>\n",
       "      <td>0</td>\n",
       "      <td>Room_Type 1</td>\n",
       "      <td>48</td>\n",
       "      <td>2018</td>\n",
       "      <td>4</td>\n",
       "      <td>11</td>\n",
       "      <td>Online</td>\n",
       "      <td>0</td>\n",
       "      <td>0</td>\n",
       "      <td>0</td>\n",
       "      <td>94.50</td>\n",
       "      <td>0</td>\n",
       "      <td>Canceled</td>\n",
       "    </tr>\n",
       "  </tbody>\n",
       "</table>\n",
       "</div>"
      ],
      "text/plain": [
       "  booking_id  no_of_adults  no_of_children  no_of_weekend_nights  \\\n",
       "0   INN00001             2               0                     1   \n",
       "1   INN00002             2               0                     2   \n",
       "2   INN00003             1               0                     2   \n",
       "3   INN00004             2               0                     0   \n",
       "4   INN00005             2               0                     1   \n",
       "\n",
       "   no_of_week_nights type_of_meal_plan  required_car_parking_space  \\\n",
       "0                  2       Meal Plan 1                           0   \n",
       "1                  3      Not Selected                           0   \n",
       "2                  1       Meal Plan 1                           0   \n",
       "3                  2       Meal Plan 1                           0   \n",
       "4                  1      Not Selected                           0   \n",
       "\n",
       "  room_type_reserved  lead_time  arrival_year  arrival_month  arrival_date  \\\n",
       "0        Room_Type 1        224          2017             10             2   \n",
       "1        Room_Type 1          5          2018             11             6   \n",
       "2        Room_Type 1          1          2018              2            28   \n",
       "3        Room_Type 1        211          2018              5            20   \n",
       "4        Room_Type 1         48          2018              4            11   \n",
       "\n",
       "  market_segment_type  repeated_guest  no_of_previous_cancellations  \\\n",
       "0             Offline               0                             0   \n",
       "1              Online               0                             0   \n",
       "2              Online               0                             0   \n",
       "3              Online               0                             0   \n",
       "4              Online               0                             0   \n",
       "\n",
       "   no_of_previous_bookings_not_canceled  avg_price_per_room  \\\n",
       "0                                     0               65.00   \n",
       "1                                     0              106.68   \n",
       "2                                     0               60.00   \n",
       "3                                     0              100.00   \n",
       "4                                     0               94.50   \n",
       "\n",
       "   no_of_special_requests booking_status  \n",
       "0                       0   Not_Canceled  \n",
       "1                       1   Not_Canceled  \n",
       "2                       0       Canceled  \n",
       "3                       0       Canceled  \n",
       "4                       0       Canceled  "
      ]
     },
     "execution_count": 31,
     "metadata": {},
     "output_type": "execute_result"
    }
   ],
   "source": [
    "# Import the data from the \"hotel_reservations.csv\" file and store it in a variable df.\n",
    "df = pd.read_csv(\"hotel_reservations.csv\")\n",
    "print(\"Number of rows and columns:\", df.shape)\n",
    "df.head()\n",
    "# Display the number of rows and columns in the dataset\n",
    "\n",
    "\n",
    "# Display the first few rows of the dataset to get an overview\n"
   ]
  },
  {
   "cell_type": "code",
   "execution_count": 32,
   "id": "c36333aa-bc45-4ac9-a5b3-a989d8755710",
   "metadata": {},
   "outputs": [
    {
     "name": "stdout",
     "output_type": "stream",
     "text": [
      "<class 'pandas.core.frame.DataFrame'>\n",
      "RangeIndex: 36275 entries, 0 to 36274\n",
      "Data columns (total 19 columns):\n",
      " #   Column                                Non-Null Count  Dtype  \n",
      "---  ------                                --------------  -----  \n",
      " 0   booking_id                            36275 non-null  object \n",
      " 1   no_of_adults                          36275 non-null  int64  \n",
      " 2   no_of_children                        36275 non-null  int64  \n",
      " 3   no_of_weekend_nights                  36275 non-null  int64  \n",
      " 4   no_of_week_nights                     36275 non-null  int64  \n",
      " 5   type_of_meal_plan                     36275 non-null  object \n",
      " 6   required_car_parking_space            36275 non-null  int64  \n",
      " 7   room_type_reserved                    36275 non-null  object \n",
      " 8   lead_time                             36275 non-null  int64  \n",
      " 9   arrival_year                          36275 non-null  int64  \n",
      " 10  arrival_month                         36275 non-null  int64  \n",
      " 11  arrival_date                          36275 non-null  int64  \n",
      " 12  market_segment_type                   36275 non-null  object \n",
      " 13  repeated_guest                        36275 non-null  int64  \n",
      " 14  no_of_previous_cancellations          36275 non-null  int64  \n",
      " 15  no_of_previous_bookings_not_canceled  36275 non-null  int64  \n",
      " 16  avg_price_per_room                    36275 non-null  float64\n",
      " 17  no_of_special_requests                36275 non-null  int64  \n",
      " 18  booking_status                        36275 non-null  object \n",
      "dtypes: float64(1), int64(13), object(5)\n",
      "memory usage: 5.3+ MB\n"
     ]
    },
    {
     "data": {
      "text/plain": [
       "booking_id                              0\n",
       "no_of_adults                            0\n",
       "no_of_children                          0\n",
       "no_of_weekend_nights                    0\n",
       "no_of_week_nights                       0\n",
       "type_of_meal_plan                       0\n",
       "required_car_parking_space              0\n",
       "room_type_reserved                      0\n",
       "lead_time                               0\n",
       "arrival_year                            0\n",
       "arrival_month                           0\n",
       "arrival_date                            0\n",
       "market_segment_type                     0\n",
       "repeated_guest                          0\n",
       "no_of_previous_cancellations            0\n",
       "no_of_previous_bookings_not_canceled    0\n",
       "avg_price_per_room                      0\n",
       "no_of_special_requests                  0\n",
       "booking_status                          0\n",
       "dtype: int64"
      ]
     },
     "execution_count": 32,
     "metadata": {},
     "output_type": "execute_result"
    }
   ],
   "source": [
    "#visualizing some basic stats \n",
    "df.info()\n",
    "df.describe(include='all').T\n",
    "df.isna().sum()"
   ]
  },
  {
   "cell_type": "code",
   "execution_count": 33,
   "id": "85656408-8ede-4882-8857-aa4af0600efd",
   "metadata": {},
   "outputs": [],
   "source": [
    "# Remove the columns booking_id, arrival_year, arrival_month, and arrival_date\n",
    "df = df.drop(['booking_id','arrival_year','arrival_month','arrival_date'], axis=1)"
   ]
  },
  {
   "cell_type": "code",
   "execution_count": 34,
   "id": "e0bfc7fd-82ac-4e2c-b106-18305d16b4db",
   "metadata": {},
   "outputs": [
    {
     "data": {
      "text/plain": [
       "<Axes: xlabel='booking_status', ylabel='lead_time'>"
      ]
     },
     "execution_count": 34,
     "metadata": {},
     "output_type": "execute_result"
    },
    {
     "data": {
      "image/png": "[encoded data removed]",
      "text/plain": [
       "<Figure size 640x480 with 1 Axes>"
      ]
     },
     "metadata": {},
     "output_type": "display_data"
    }
   ],
   "source": [
    "# Visualize the booking_status\n",
    "sns.boxplot(x='booking_status', y='lead_time', data=df)"
   ]
  },
  {
   "cell_type": "code",
   "execution_count": 35,
   "id": "786d4970-c07b-4b0a-907b-ab6b4bf4b667",
   "metadata": {},
   "outputs": [
    {
     "data": {
      "image/png": "[encoded data removed]",
      "text/plain": [
       "<Figure size 640x480 with 1 Axes>"
      ]
     },
     "metadata": {},
     "output_type": "display_data"
    }
   ],
   "source": [
    "# Visualize the lead time for canceled and not canceled bookings using a box plot\n",
    "sns.countplot(x='booking_status', data=df)\n",
    "plt.show()"
   ]
  },
  {
   "cell_type": "code",
   "execution_count": 36,
   "id": "ed3e2c1b-6349-472b-ad70-f4262090cbce",
   "metadata": {},
   "outputs": [
    {
     "data": {
      "image/png": "[encoded data removed]",
      "text/plain": [
       "<Figure size 640x480 with 1 Axes>"
      ]
     },
     "metadata": {},
     "output_type": "display_data"
    }
   ],
   "source": [
    "# Visualize the average price per room for canceled and not canceled bookingssns.boxplot(x='booking_status', y='avg_price_per_room', data=df)\n",
    "sns.boxplot(x='booking_status', y='avg_price_per_room', data=df)\n",
    "plt.show() \n"
   ]
  },
  {
   "cell_type": "code",
   "execution_count": 37,
   "id": "bb31d0bd-70ed-4abb-8208-992a46ed8cba",
   "metadata": {},
   "outputs": [],
   "source": [
    "# Encode categorical variables : type_of_meal_plan, room_type_reserved, and market_segment_type using one-hot encoding.\n",
    "df = pd.get_dummies(df, columns=['type_of_meal_plan', 'room_type_reserved', 'market_segment_type'], drop_first=True)\n"
   ]
  },
  {
   "cell_type": "markdown",
   "id": "8bdadfa5-82fa-4269-bf88-e0a7d4c2590b",
   "metadata": {},
   "source": [
    "### Task 2: Feature Scaling\n",
    "\n",
    "1. Standardize the numerical features `lead_time` and `avg_price_per_room`.\n",
    "2. Define features (X) and target (y)."
   ]
  },
  {
   "cell_type": "code",
   "execution_count": 38,
   "id": "2ba88a8c-f4ce-40d2-aa44-aebef10e5d67",
   "metadata": {},
   "outputs": [],
   "source": [
    "# Standardize the numerical features\n",
    "scaler = StandardScaler()\n",
    "df[['lead_time','avg_price_per_room']] = scaler.fit_transform(\n",
    "    df[['lead_time','avg_price_per_room']]\n",
    ")\n",
    "\n",
    "\n",
    "# Define features(X) and target (y: booking_status)\n",
    "X = df.drop(['booking_status'], axis=1)\n",
    "y = df['booking_status']\n"
   ]
  },
  {
   "cell_type": "markdown",
   "id": "a59f3db0-78af-4351-9c59-7e38041e00ad",
   "metadata": {},
   "source": [
    "### Task 3: Implementing K-Fold Cross Validation\n",
    "\n",
    "1. Initialize a KFold cross-validator with 7 splits.\n",
    "2. Perform k-fold cross-validation using Naive Bayes and calculate the average accuracy.\n",
    "3. Perform k-fold cross-validation using a Logistic Regression and calculate the average accuracy.\n",
    "4. Perform k-fold cross-validation using a decision tree classifier and calculate the average accuracy."
   ]
  },
  {
   "cell_type": "code",
   "execution_count": 39,
   "id": "f3b070a5-a770-40a7-a797-caea858adc14",
   "metadata": {},
   "outputs": [
    {
     "name": "stdout",
     "output_type": "stream",
     "text": [
      "Naive Bayes CV Accuracy: 0.4086008945293444\n",
      "Logistic Regression CV Accuracy: 0.800413457625681\n",
      "Decision Tree CV Accuracy: 0.8582496602726917\n"
     ]
    }
   ],
   "source": [
    "\n",
    "# Initialize KFold with 7 splits.\n",
    "kf = KFold(n_splits = 7,shuffle = True,random_state = 42)\n",
    "\n",
    "# Cross validation with Naive Bayes\n",
    "\n",
    "nb_model = GaussianNB()\n",
    "nb_cv_score = cross_val_score(nb_model, X, y, cv=kf, scoring=\"accuracy\")\n",
    "print(\"Naive Bayes CV Accuracy:\", nb_cv_score.mean())\n",
    "\n",
    "# Cross validation with Logistic Regression\n",
    "lr_model = LogisticRegression()\n",
    "lr_cv_score = cross_val_score(lr_model, X, y, cv=kf, scoring=\"accuracy\")\n",
    "print(\"Logistic Regression CV Accuracy:\", lr_cv_score.mean())\n",
    "\n",
    "# Cross validation with Decision Tree\n",
    "dt_model = DecisionTreeClassifier()\n",
    "dt_cv_score = cross_val_score(dt_model, X, y, cv=kf, scoring=\"accuracy\")\n",
    "print(\"Decision Tree CV Accuracy:\", dt_cv_score.mean())\n"
   ]
  },
  {
   "cell_type": "markdown",
   "id": "91254ab6-6cf6-4a05-97f7-3cf9777b71ed",
   "metadata": {},
   "source": [
    "### Task 4: Implementing Stratified K-Fold Cross Validation\n",
    "\n",
    "1. Initialize a StratifiedKFold cross-validator with 7 splits\n",
    "2. Perform stratified k-fold cross-validation using Naive Bayes and calculate the average accuracy.\n",
    "3. Perform stratified k-fold cross-validation using a Logistic Regression and calculate the average accuracy.\n",
    "4. Perform stratified k-fold cross-validation using a Decision Tree classifier and calculate the average accuracy."
   ]
  },
  {
   "cell_type": "code",
   "execution_count": 40,
   "id": "2aa1f6e8-3b66-42b8-8cef-475df9ae695d",
   "metadata": {},
   "outputs": [
    {
     "name": "stdout",
     "output_type": "stream",
     "text": [
      "Naive Bayes Stratified Cross-Validation Accuracy:  0.4084906960716747\n",
      "Logistic Regression Stratified Cross-Validation Accuracy:  0.8010751206064782\n",
      "Decision Tree Stratified Cross-Validation Accuracy:  0.8556030323914541\n"
     ]
    }
   ],
   "source": [
    "# Initialize a StratifiedKFold cross-validator with 7 splits\n",
    "skf = StratifiedKFold(n_splits=5, shuffle=True, random_state=42)\n",
    "\n",
    "# Perform stratified k-fold cross-validation using Naive Bayes\n",
    "nb_skf_score = cross_val_score(nb_model, X, y, cv=skf, scoring=\"accuracy\")\n",
    "print(\"Naive Bayes Stratified Cross-Validation Accuracy: \", nb_skf_score.mean())\n",
    "\n",
    "\n",
    "# Perform stratified k-fold cross-validation using a Logistic Regression\n",
    "lr_skf_score = cross_val_score(lr_model, X, y, cv=skf, scoring=\"accuracy\")\n",
    "print(\"Logistic Regression Stratified Cross-Validation Accuracy: \", lr_skf_score.mean())\n",
    "\n",
    "\n",
    "# Perform stratified k-fold cross-validation using a Decision Tree classifier\n",
    "dt_skf_score = cross_val_score(dt_model, X, y, cv=skf, scoring=\"accuracy\")\n",
    "print(\"Decision Tree Stratified Cross-Validation Accuracy: \", dt_skf_score.mean())\n",
    "\n"
   ]
  },
  {
   "cell_type": "markdown",
   "id": "ba3f2609-25d0-45a4-b6ae-c51dc073537c",
   "metadata": {},
   "source": [
    "### Task 5: Implementing Grid Search CV\n",
    "\n",
    "1. Initialize GridSearchCV with Naive Bayes and Random Forest:\n",
    "    - Naive Bayes: var_smoothing [1e-9, 1e-8, 1e-7]\n",
    "    - Random Forest: n_estimators [10, 50, 100], max_depth [5, 10, 15]\n",
    "<br></br>\n",
    "2. Fit GridSearchCV with Naive Bayes and Random Forest, and find the best parameters.\n",
    "3. Print the best parameters for each model."
   ]
  },
  {
   "cell_type": "code",
   "execution_count": 41,
   "id": "dc539d77-36d6-48ca-865f-ad72b32ba91c",
   "metadata": {},
   "outputs": [
    {
     "data": {
      "text/html": [
       "<div>\n",
       "<style scoped>\n",
       "    .dataframe tbody tr th:only-of-type {\n",
       "        vertical-align: middle;\n",
       "    }\n",
       "\n",
       "    .dataframe tbody tr th {\n",
       "        vertical-align: top;\n",
       "    }\n",
       "\n",
       "    .dataframe thead th {\n",
       "        text-align: right;\n",
       "    }\n",
       "</style>\n",
       "<table border=\"1\" class=\"dataframe\">\n",
       "  <thead>\n",
       "    <tr style=\"text-align: right;\">\n",
       "      <th></th>\n",
       "      <th>model</th>\n",
       "      <th>best_score</th>\n",
       "      <th>best_params</th>\n",
       "    </tr>\n",
       "  </thead>\n",
       "  <tbody>\n",
       "    <tr>\n",
       "      <th>0</th>\n",
       "      <td>naive_bayes</td>\n",
       "      <td>0.409483</td>\n",
       "      <td>{'var_smoothing': 1e-07}</td>\n",
       "    </tr>\n",
       "    <tr>\n",
       "      <th>1</th>\n",
       "      <td>random_forest</td>\n",
       "      <td>0.877216</td>\n",
       "      <td>{'max_depth': 15, 'n_estimators': 100}</td>\n",
       "    </tr>\n",
       "  </tbody>\n",
       "</table>\n",
       "</div>"
      ],
      "text/plain": [
       "           model  best_score                             best_params\n",
       "0    naive_bayes    0.409483                {'var_smoothing': 1e-07}\n",
       "1  random_forest    0.877216  {'max_depth': 15, 'n_estimators': 100}"
      ]
     },
     "execution_count": 41,
     "metadata": {},
     "output_type": "execute_result"
    }
   ],
   "source": [
    "# Initialize GridSearchCV with Naive Bayes and Random Forest \n",
    "model_params = {\n",
    "    'naive_bayes': {\n",
    "        'model': GaussianNB(),\n",
    "        'params' : {\n",
    "            'var_smoothing': [1e-9, 1e-8, 1e-7]\n",
    "        }  \n",
    "    },\n",
    "    'random_forest': {\n",
    "        'model': RandomForestClassifier(),\n",
    "        'params' : {\n",
    "            'n_estimators': [10, 50, 100],\n",
    "            'max_depth': [5, 10, 15]          \n",
    "        }\n",
    "    }\n",
    "}\n",
    "\n",
    "\n",
    "# Fit GridSearchCV with Naive Bayes and Random Forest, and find the best parameters.\n",
    "scores = []\n",
    "for key, val in model_params.items():\n",
    "    clf = GridSearchCV(\n",
    "        val['model'],\n",
    "        val['params'],\n",
    "        cv=7,\n",
    "        return_train_score=False\n",
    "    )\n",
    "    clf.fit(X, y)\n",
    "    scores.append({\n",
    "        'model': key,\n",
    "        'best_score': clf.best_score_,\n",
    "        'best_params': clf.best_params_\n",
    "    })\n",
    "\n",
    "\n",
    "# Print the best parameters for each model.\n",
    "df_scores = pd.DataFrame(scores, columns=[\"model\", \"best_score\", \"best_params\"])\n",
    "df_scores"
   ]
  },
  {
   "cell_type": "markdown",
   "id": "5ba1f5ac-0a19-49c1-a245-b6fe627643b1",
   "metadata": {},
   "source": [
    "### Task 6: Implementing Randomized Search CV\n",
    "\n",
    "1. Initialize RandomizedSearchCV for RandomForest with the given parameters:\n",
    "   - Random Forest: n_estimators [10, 50, 100], max_depth [5, 10, 15, 20]\n",
    "<br></br>\n",
    "2. Fit RandomizedSearchCV with RandomForest model and find the best parameters.\n",
    "2. Print the best parameters."
   ]
  },
  {
   "cell_type": "code",
   "execution_count": 42,
   "id": "574520f1-d067-4ad8-8513-33a82a697cc0",
   "metadata": {},
   "outputs": [
    {
     "name": "stdout",
     "output_type": "stream",
     "text": [
      "Best Parameters for Random Forest (RandomizedSearchCV):  {'n_estimators': 100, 'max_depth': 20}\n"
     ]
    },
    {
     "data": {
      "text/html": [
       "<div>\n",
       "<style scoped>\n",
       "    .dataframe tbody tr th:only-of-type {\n",
       "        vertical-align: middle;\n",
       "    }\n",
       "\n",
       "    .dataframe tbody tr th {\n",
       "        vertical-align: top;\n",
       "    }\n",
       "\n",
       "    .dataframe thead th {\n",
       "        text-align: right;\n",
       "    }\n",
       "</style>\n",
       "<table border=\"1\" class=\"dataframe\">\n",
       "  <thead>\n",
       "    <tr style=\"text-align: right;\">\n",
       "      <th></th>\n",
       "      <th>mean_fit_time</th>\n",
       "      <th>std_fit_time</th>\n",
       "      <th>mean_score_time</th>\n",
       "      <th>std_score_time</th>\n",
       "      <th>param_n_estimators</th>\n",
       "      <th>param_max_depth</th>\n",
       "      <th>params</th>\n",
       "      <th>split0_test_score</th>\n",
       "      <th>split1_test_score</th>\n",
       "      <th>split2_test_score</th>\n",
       "      <th>split3_test_score</th>\n",
       "      <th>split4_test_score</th>\n",
       "      <th>split5_test_score</th>\n",
       "      <th>split6_test_score</th>\n",
       "      <th>mean_test_score</th>\n",
       "      <th>std_test_score</th>\n",
       "      <th>rank_test_score</th>\n",
       "    </tr>\n",
       "  </thead>\n",
       "  <tbody>\n",
       "    <tr>\n",
       "      <th>0</th>\n",
       "      <td>1.257148</td>\n",
       "      <td>0.020361</td>\n",
       "      <td>0.054241</td>\n",
       "      <td>0.000939</td>\n",
       "      <td>100</td>\n",
       "      <td>20</td>\n",
       "      <td>{'n_estimators': 100, 'max_depth': 20}</td>\n",
       "      <td>0.889639</td>\n",
       "      <td>0.888267</td>\n",
       "      <td>0.886144</td>\n",
       "      <td>0.887302</td>\n",
       "      <td>0.890776</td>\n",
       "      <td>0.883443</td>\n",
       "      <td>0.885372</td>\n",
       "      <td>0.887278</td>\n",
       "      <td>0.002343</td>\n",
       "      <td>1</td>\n",
       "    </tr>\n",
       "    <tr>\n",
       "      <th>1</th>\n",
       "      <td>0.256394</td>\n",
       "      <td>0.004678</td>\n",
       "      <td>0.010232</td>\n",
       "      <td>0.000266</td>\n",
       "      <td>50</td>\n",
       "      <td>5</td>\n",
       "      <td>{'n_estimators': 50, 'max_depth': 5}</td>\n",
       "      <td>0.797415</td>\n",
       "      <td>0.798340</td>\n",
       "      <td>0.792937</td>\n",
       "      <td>0.790042</td>\n",
       "      <td>0.785797</td>\n",
       "      <td>0.798726</td>\n",
       "      <td>0.795060</td>\n",
       "      <td>0.794045</td>\n",
       "      <td>0.004441</td>\n",
       "      <td>3</td>\n",
       "    </tr>\n",
       "    <tr>\n",
       "      <th>2</th>\n",
       "      <td>1.036327</td>\n",
       "      <td>0.013180</td>\n",
       "      <td>0.040178</td>\n",
       "      <td>0.000641</td>\n",
       "      <td>100</td>\n",
       "      <td>15</td>\n",
       "      <td>{'n_estimators': 100, 'max_depth': 15}</td>\n",
       "      <td>0.880571</td>\n",
       "      <td>0.882478</td>\n",
       "      <td>0.877074</td>\n",
       "      <td>0.877460</td>\n",
       "      <td>0.877460</td>\n",
       "      <td>0.870513</td>\n",
       "      <td>0.872829</td>\n",
       "      <td>0.876912</td>\n",
       "      <td>0.003829</td>\n",
       "      <td>2</td>\n",
       "    </tr>\n",
       "  </tbody>\n",
       "</table>\n",
       "</div>"
      ],
      "text/plain": [
       "   mean_fit_time  std_fit_time  mean_score_time  std_score_time  \\\n",
       "0       1.257148      0.020361         0.054241        0.000939   \n",
       "1       0.256394      0.004678         0.010232        0.000266   \n",
       "2       1.036327      0.013180         0.040178        0.000641   \n",
       "\n",
       "   param_n_estimators  param_max_depth  \\\n",
       "0                 100               20   \n",
       "1                  50                5   \n",
       "2                 100               15   \n",
       "\n",
       "                                   params  split0_test_score  \\\n",
       "0  {'n_estimators': 100, 'max_depth': 20}           0.889639   \n",
       "1    {'n_estimators': 50, 'max_depth': 5}           0.797415   \n",
       "2  {'n_estimators': 100, 'max_depth': 15}           0.880571   \n",
       "\n",
       "   split1_test_score  split2_test_score  split3_test_score  split4_test_score  \\\n",
       "0           0.888267           0.886144           0.887302           0.890776   \n",
       "1           0.798340           0.792937           0.790042           0.785797   \n",
       "2           0.882478           0.877074           0.877460           0.877460   \n",
       "\n",
       "   split5_test_score  split6_test_score  mean_test_score  std_test_score  \\\n",
       "0           0.883443           0.885372         0.887278        0.002343   \n",
       "1           0.798726           0.795060         0.794045        0.004441   \n",
       "2           0.870513           0.872829         0.876912        0.003829   \n",
       "\n",
       "   rank_test_score  \n",
       "0                1  \n",
       "1                3  \n",
       "2                2  "
      ]
     },
     "execution_count": 42,
     "metadata": {},
     "output_type": "execute_result"
    }
   ],
   "source": [
    "# Initialize RandomizedSearchCV and fit with RandomForest model\n",
    "clf = RandomizedSearchCV(\n",
    "    RandomForestClassifier(),\n",
    "    {'n_estimators': [10, 50, 100], 'max_depth': [5, 10, 15, 20]},\n",
    "    cv=7,\n",
    "    return_train_score=False,\n",
    "    n_iter=3\n",
    ")\n",
    "clf.fit(X, y)\n",
    "\n",
    "# Print Best Parameters\n",
    "print(\"Best Parameters for Random Forest (RandomizedSearchCV): \", clf.best_params_)\n",
    "df = pd.DataFrame(clf.cv_results_)\n",
    "df"
   ]
  },
  {
   "cell_type": "code",
   "execution_count": null,
   "id": "48cc673b-75a1-4aa6-a523-35dd08b4adcd",
   "metadata": {},
   "outputs": [],
   "source": []
  }
 ],
 "metadata": {
  "kernelspec": {
   "display_name": "Python 3 (ipykernel)",
   "language": "python",
   "name": "python3"
  },
  "language_info": {
   "codemirror_mode": {
    "name": "ipython",
    "version": 3
   },
   "file_extension": ".py",
   "mimetype": "text/x-python",
   "name": "python",
   "nbconvert_exporter": "python",
   "pygments_lexer": "ipython3",
   "version": "3.13.1"
  }
 },
 "nbformat": 4,
 "nbformat_minor": 5
}
