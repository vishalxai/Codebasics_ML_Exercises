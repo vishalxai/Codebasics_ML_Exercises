{
 "cells": [
  {
   "cell_type": "markdown",
   "id": "dab637fa-8fc8-4db9-be68-11f72f35d1ef",
   "metadata": {},
   "source": [
    "### Problem Statement\n",
    "\n",
    "You are a data scientist / AI engineer working on a binary classification problem. You have been provided with a dataset named **`\"mushroom_classification.csv\"`**, which includes various features of mushrooms to predict whether they are edible or poisonous. The dataset comprises the following columns:\n",
    "\n",
    "- `cap_diameter:` The diameter of the mushroom cap.\n",
    "- `cap_shape:` The shape of the mushroom cap, encoded as integers.\n",
    "- `gill_attachment:` The attachment of the gills, encoded as integers.\n",
    "- `gill_color:` The color of the gills, encoded as integers.\n",
    "- `stem_height:` The height of the mushroom stem.\n",
    "- `stem_width` The width of the mushroom stem.\n",
    "- `stem_color:` The color of the mushroom stem, encoded as integers.\n",
    "- `season:` The season when the mushroom was found, encoded as float.\n",
    "- `class:` The classification of the mushroom, where 0 indicates edible and 1 indicates poisonous.\n",
    "\n",
    "Your task is to use this dataset to build and evaluate a binary classification model to classify mushrooms as edible or poisonous. You will start with basic models and gradually move towards advanced models like Gradient Boosting. Finally, you will explore various parameters of the Gradient Boosting model to enhance performance.\n",
    "\n",
    "**Dataset credits:** Prisha Sawhney (https://www.kaggle.com/datasets/prishasawhney/mushroom-dataset/data)"
   ]
  },
  {
   "cell_type": "markdown",
   "id": "f7bd3443-1dfb-423e-a352-ed4c467635d6",
   "metadata": {},
   "source": [
    "**Import Necessary Libraries**"
   ]
  },
  {
   "cell_type": "code",
   "execution_count": 13,
   "id": "16910661-4e73-4474-a003-e7b98a391352",
   "metadata": {},
   "outputs": [],
   "source": [
    "# Core\n",
    "import pandas as pd\n",
    "import numpy as np\n",
    "import matplotlib.pyplot as plt\n",
    "\n",
    "# Modeling\n",
    "from sklearn.model_selection import train_test_split, cross_val_score\n",
    "from sklearn.metrics import accuracy_score, classification_report, confusion_matrix\n",
    "\n",
    "# Models\n",
    "from sklearn.linear_model import LogisticRegression\n",
    "from sklearn.tree import DecisionTreeClassifier\n",
    "from sklearn.ensemble import GradientBoostingClassifier\n",
    "\n",
    "# For the *proper* LR later\n",
    "from sklearn.compose import ColumnTransformer\n",
    "from sklearn.preprocessing import OneHotEncoder\n",
    "from sklearn.pipeline import Pipeline\n",
    "\n",
    "RANDOM_STATE = 42\n",
    "pd.set_option('display.max_columns', 100)"
   ]
  },
  {
   "cell_type": "markdown",
   "id": "7b417318-3bea-4581-a1dc-9f049055a2c3",
   "metadata": {},
   "source": [
    "### Task 1: Data Preparation and Exploration\n",
    "\n",
    "1. Import the data from the `\"mushroom_classification.csv\"` file and store it in a variable df.\n",
    "2. Display the number of rows and columns in the dataset.\n",
    "3. Display the first few rows of the dataset to get an overview."
   ]
  },
  {
   "cell_type": "code",
   "execution_count": 14,
   "id": "3a63849e-217e-4de0-acf4-b3bafc415424",
   "metadata": {},
   "outputs": [
    {
     "name": "stdout",
     "output_type": "stream",
     "text": [
      "Shape: (54035, 9)\n"
     ]
    },
    {
     "data": {
      "text/html": [
       "<div>\n",
       "<style scoped>\n",
       "    .dataframe tbody tr th:only-of-type {\n",
       "        vertical-align: middle;\n",
       "    }\n",
       "\n",
       "    .dataframe tbody tr th {\n",
       "        vertical-align: top;\n",
       "    }\n",
       "\n",
       "    .dataframe thead th {\n",
       "        text-align: right;\n",
       "    }\n",
       "</style>\n",
       "<table border=\"1\" class=\"dataframe\">\n",
       "  <thead>\n",
       "    <tr style=\"text-align: right;\">\n",
       "      <th></th>\n",
       "      <th>cap_diameter</th>\n",
       "      <th>cap_shape</th>\n",
       "      <th>gill_attachment</th>\n",
       "      <th>gill_color</th>\n",
       "      <th>stem_height</th>\n",
       "      <th>stem_width</th>\n",
       "      <th>stem_color</th>\n",
       "      <th>season</th>\n",
       "      <th>class</th>\n",
       "    </tr>\n",
       "  </thead>\n",
       "  <tbody>\n",
       "    <tr>\n",
       "      <th>0</th>\n",
       "      <td>1372</td>\n",
       "      <td>2</td>\n",
       "      <td>2</td>\n",
       "      <td>10</td>\n",
       "      <td>3.807467</td>\n",
       "      <td>1545</td>\n",
       "      <td>11</td>\n",
       "      <td>1.804273</td>\n",
       "      <td>1</td>\n",
       "    </tr>\n",
       "    <tr>\n",
       "      <th>1</th>\n",
       "      <td>1461</td>\n",
       "      <td>2</td>\n",
       "      <td>2</td>\n",
       "      <td>10</td>\n",
       "      <td>3.807467</td>\n",
       "      <td>1557</td>\n",
       "      <td>11</td>\n",
       "      <td>1.804273</td>\n",
       "      <td>1</td>\n",
       "    </tr>\n",
       "    <tr>\n",
       "      <th>2</th>\n",
       "      <td>1371</td>\n",
       "      <td>2</td>\n",
       "      <td>2</td>\n",
       "      <td>10</td>\n",
       "      <td>3.612496</td>\n",
       "      <td>1566</td>\n",
       "      <td>11</td>\n",
       "      <td>1.804273</td>\n",
       "      <td>1</td>\n",
       "    </tr>\n",
       "    <tr>\n",
       "      <th>3</th>\n",
       "      <td>1261</td>\n",
       "      <td>6</td>\n",
       "      <td>2</td>\n",
       "      <td>10</td>\n",
       "      <td>3.787572</td>\n",
       "      <td>1566</td>\n",
       "      <td>11</td>\n",
       "      <td>1.804273</td>\n",
       "      <td>1</td>\n",
       "    </tr>\n",
       "    <tr>\n",
       "      <th>4</th>\n",
       "      <td>1305</td>\n",
       "      <td>6</td>\n",
       "      <td>2</td>\n",
       "      <td>10</td>\n",
       "      <td>3.711971</td>\n",
       "      <td>1464</td>\n",
       "      <td>11</td>\n",
       "      <td>0.943195</td>\n",
       "      <td>1</td>\n",
       "    </tr>\n",
       "  </tbody>\n",
       "</table>\n",
       "</div>"
      ],
      "text/plain": [
       "   cap_diameter  cap_shape  gill_attachment  gill_color  stem_height  \\\n",
       "0          1372          2                2          10     3.807467   \n",
       "1          1461          2                2          10     3.807467   \n",
       "2          1371          2                2          10     3.612496   \n",
       "3          1261          6                2          10     3.787572   \n",
       "4          1305          6                2          10     3.711971   \n",
       "\n",
       "   stem_width  stem_color    season  class  \n",
       "0        1545          11  1.804273      1  \n",
       "1        1557          11  1.804273      1  \n",
       "2        1566          11  1.804273      1  \n",
       "3        1566          11  1.804273      1  \n",
       "4        1464          11  0.943195      1  "
      ]
     },
     "metadata": {},
     "output_type": "display_data"
    },
    {
     "name": "stdout",
     "output_type": "stream",
     "text": [
      "\n",
      "Dtypes:\n",
      " cap_diameter         int64\n",
      "cap_shape            int64\n",
      "gill_attachment      int64\n",
      "gill_color           int64\n",
      "stem_height        float64\n",
      "stem_width           int64\n",
      "stem_color           int64\n",
      "season             float64\n",
      "class                int64\n",
      "dtype: object\n",
      "\n",
      "Missing values per column:\n",
      " cap_diameter       0\n",
      "cap_shape          0\n",
      "gill_attachment    0\n",
      "gill_color         0\n",
      "stem_height        0\n",
      "stem_width         0\n",
      "stem_color         0\n",
      "season             0\n",
      "class              0\n",
      "dtype: int64\n",
      "\n",
      "Unique values in 'class': [1 0]\n"
     ]
    }
   ],
   "source": [
    "# Step 1: Import the data from the \"mushroom_classification.csv\" file and store it in a variable 'df'\n",
    "DATA_PATH = \"mushroom_classification.csv\"\n",
    "df = pd.read_csv(DATA_PATH)\n",
    "\n",
    "# Step 2: Display the number of rows and columns in the dataset\n",
    "print(\"Shape:\", df.shape)\n",
    "display(df.head())\n",
    "print(\"\\nDtypes:\\n\", df.dtypes)\n",
    "print(\"\\nMissing values per column:\\n\", df.isna().sum())\n",
    "print(\"\\nUnique values in 'class':\", df['class'].unique())\n",
    "\n",
    "\n",
    "# Step 3: Display the first few rows of the dataset to get an overview\n"
   ]
  },
  {
   "cell_type": "markdown",
   "id": "155cd929-a553-4a27-9cc0-7ee4115bcfea",
   "metadata": {},
   "source": [
    "### Task 2: Exploratory Data Analysis (EDA)\n",
    "\n",
    "1. Perform a group-by operation on the target class and calculate the mean of the following features: `cap_diameter, stem_height, and stem_width`.\n",
    "2. Visualize the distribution of these features using box plots."
   ]
  },
  {
   "cell_type": "code",
   "execution_count": 15,
   "id": "fa0539e2-7d51-4c43-8831-4484fc0b13b4",
   "metadata": {},
   "outputs": [
    {
     "data": {
      "text/html": [
       "<div>\n",
       "<style scoped>\n",
       "    .dataframe tbody tr th:only-of-type {\n",
       "        vertical-align: middle;\n",
       "    }\n",
       "\n",
       "    .dataframe tbody tr th {\n",
       "        vertical-align: top;\n",
       "    }\n",
       "\n",
       "    .dataframe thead th {\n",
       "        text-align: right;\n",
       "    }\n",
       "</style>\n",
       "<table border=\"1\" class=\"dataframe\">\n",
       "  <thead>\n",
       "    <tr style=\"text-align: right;\">\n",
       "      <th></th>\n",
       "      <th>cap_diameter</th>\n",
       "      <th>stem_height</th>\n",
       "      <th>stem_width</th>\n",
       "    </tr>\n",
       "    <tr>\n",
       "      <th>class</th>\n",
       "      <th></th>\n",
       "      <th></th>\n",
       "      <th></th>\n",
       "    </tr>\n",
       "  </thead>\n",
       "  <tbody>\n",
       "    <tr>\n",
       "      <th>Edible (0)</th>\n",
       "      <td>633.064696</td>\n",
       "      <td>0.627374</td>\n",
       "      <td>1208.915189</td>\n",
       "    </tr>\n",
       "    <tr>\n",
       "      <th>Poisonous (1)</th>\n",
       "      <td>513.236293</td>\n",
       "      <td>0.867251</td>\n",
       "      <td>921.516563</td>\n",
       "    </tr>\n",
       "  </tbody>\n",
       "</table>\n",
       "</div>"
      ],
      "text/plain": [
       "               cap_diameter  stem_height   stem_width\n",
       "class                                                \n",
       "Edible (0)       633.064696     0.627374  1208.915189\n",
       "Poisonous (1)    513.236293     0.867251   921.516563"
      ]
     },
     "metadata": {},
     "output_type": "display_data"
    }
   ],
   "source": [
    "# Step 1: Perform a group-by operation on the target class and calculate the mean of specific features\n",
    "# Features for mean comparison\n",
    "cols_for_mean = ['cap_diameter', 'stem_height', 'stem_width']\n",
    "\n",
    "# Group by 'class' and calculate mean\n",
    "group_means = df.groupby('class')[cols_for_mean].mean()\n",
    "\n",
    "# Rename class labels for readability\n",
    "group_means = group_means.rename(index={0: \"Edible (0)\", 1: \"Poisonous (1)\"})\n",
    "\n",
    "display(group_means)"
   ]
  },
  {
   "cell_type": "code",
   "execution_count": 16,
   "id": "af7d21cb-54a7-4034-a1c2-5faf9671f98f",
   "metadata": {},
   "outputs": [
    {
     "data": {
      "image/png": "[encoded data removed]",
      "text/plain": [
       "<Figure size 640x480 with 1 Axes>"
      ]
     },
     "metadata": {},
     "output_type": "display_data"
    },
    {
     "data": {
      "image/png": "[encoded data removed]",
      "text/plain": [
       "<Figure size 640x480 with 1 Axes>"
      ]
     },
     "metadata": {},
     "output_type": "display_data"
    },
    {
     "data": {
      "image/png": "[encoded data removed]",
      "text/plain": [
       "<Figure size 640x480 with 1 Axes>"
      ]
     },
     "metadata": {},
     "output_type": "display_data"
    }
   ],
   "source": [
    "# Step 2: Visualize the distribution of these features using box plots\n",
    "\n",
    "for col in cols_for_mean:\n",
    "    df.boxplot(column=col, by='class', grid=False)\n",
    "    plt.title(f'Boxplot of {col} by class')\n",
    "    plt.suptitle('')\n",
    "    plt.xlabel('Class (0 = Edible, 1 = Poisonous)')\n",
    "    plt.ylabel(col)\n",
    "    plt.show()"
   ]
  },
  {
   "cell_type": "code",
   "execution_count": 17,
   "id": "2d912e9d-27a4-4b40-b1c9-65ed08482af4",
   "metadata": {},
   "outputs": [
    {
     "name": "stdout",
     "output_type": "stream",
     "text": [
      "cap_diameter    MeanDiff=119.83, p-value=0.000e+00\n",
      "stem_height     MeanDiff=-0.24, p-value=0.000e+00\n",
      "stem_width      MeanDiff=287.40, p-value=0.000e+00\n"
     ]
    }
   ],
   "source": [
    "from scipy.stats import ttest_ind\n",
    "\n",
    "num_cols = ['cap_diameter', 'stem_height', 'stem_width']\n",
    "\n",
    "for col in num_cols:\n",
    "    edible = df[df['class'] == 0][col]\n",
    "    poisonous = df[df['class'] == 1][col]\n",
    "\n",
    "    diff = edible.mean() - poisonous.mean()\n",
    "    stat, pval = ttest_ind(edible, poisonous, equal_var=False)\n",
    "\n",
    "    print(f\"{col:15} MeanDiff={diff:.2f}, p-value={pval:.3e}\")"
   ]
  },
  {
   "cell_type": "code",
   "execution_count": 18,
   "id": "fc860ec2-b52d-404f-a872-ded701578107",
   "metadata": {},
   "outputs": [
    {
     "name": "stdout",
     "output_type": "stream",
     "text": [
      "\n",
      "cap_shape distribution by class:\n"
     ]
    },
    {
     "data": {
      "text/html": [
       "<div>\n",
       "<style scoped>\n",
       "    .dataframe tbody tr th:only-of-type {\n",
       "        vertical-align: middle;\n",
       "    }\n",
       "\n",
       "    .dataframe tbody tr th {\n",
       "        vertical-align: top;\n",
       "    }\n",
       "\n",
       "    .dataframe thead th {\n",
       "        text-align: right;\n",
       "    }\n",
       "</style>\n",
       "<table border=\"1\" class=\"dataframe\">\n",
       "  <thead>\n",
       "    <tr style=\"text-align: right;\">\n",
       "      <th>class</th>\n",
       "      <th>0</th>\n",
       "      <th>1</th>\n",
       "    </tr>\n",
       "    <tr>\n",
       "      <th>cap_shape</th>\n",
       "      <th></th>\n",
       "      <th></th>\n",
       "    </tr>\n",
       "  </thead>\n",
       "  <tbody>\n",
       "    <tr>\n",
       "      <th>0</th>\n",
       "      <td>0.238574</td>\n",
       "      <td>0.761426</td>\n",
       "    </tr>\n",
       "    <tr>\n",
       "      <th>1</th>\n",
       "      <td>0.449477</td>\n",
       "      <td>0.550523</td>\n",
       "    </tr>\n",
       "    <tr>\n",
       "      <th>2</th>\n",
       "      <td>0.481373</td>\n",
       "      <td>0.518627</td>\n",
       "    </tr>\n",
       "    <tr>\n",
       "      <th>3</th>\n",
       "      <td>0.116547</td>\n",
       "      <td>0.883453</td>\n",
       "    </tr>\n",
       "    <tr>\n",
       "      <th>4</th>\n",
       "      <td>0.525882</td>\n",
       "      <td>0.474118</td>\n",
       "    </tr>\n",
       "  </tbody>\n",
       "</table>\n",
       "</div>"
      ],
      "text/plain": [
       "class             0         1\n",
       "cap_shape                    \n",
       "0          0.238574  0.761426\n",
       "1          0.449477  0.550523\n",
       "2          0.481373  0.518627\n",
       "3          0.116547  0.883453\n",
       "4          0.525882  0.474118"
      ]
     },
     "metadata": {},
     "output_type": "display_data"
    },
    {
     "name": "stdout",
     "output_type": "stream",
     "text": [
      "\n",
      "gill_attachment distribution by class:\n"
     ]
    },
    {
     "data": {
      "text/html": [
       "<div>\n",
       "<style scoped>\n",
       "    .dataframe tbody tr th:only-of-type {\n",
       "        vertical-align: middle;\n",
       "    }\n",
       "\n",
       "    .dataframe tbody tr th {\n",
       "        vertical-align: top;\n",
       "    }\n",
       "\n",
       "    .dataframe thead th {\n",
       "        text-align: right;\n",
       "    }\n",
       "</style>\n",
       "<table border=\"1\" class=\"dataframe\">\n",
       "  <thead>\n",
       "    <tr style=\"text-align: right;\">\n",
       "      <th>class</th>\n",
       "      <th>0</th>\n",
       "      <th>1</th>\n",
       "    </tr>\n",
       "    <tr>\n",
       "      <th>gill_attachment</th>\n",
       "      <th></th>\n",
       "      <th></th>\n",
       "    </tr>\n",
       "  </thead>\n",
       "  <tbody>\n",
       "    <tr>\n",
       "      <th>0</th>\n",
       "      <td>0.405669</td>\n",
       "      <td>0.594331</td>\n",
       "    </tr>\n",
       "    <tr>\n",
       "      <th>1</th>\n",
       "      <td>0.406942</td>\n",
       "      <td>0.593058</td>\n",
       "    </tr>\n",
       "    <tr>\n",
       "      <th>2</th>\n",
       "      <td>0.603040</td>\n",
       "      <td>0.396960</td>\n",
       "    </tr>\n",
       "    <tr>\n",
       "      <th>3</th>\n",
       "      <td>0.362590</td>\n",
       "      <td>0.637410</td>\n",
       "    </tr>\n",
       "    <tr>\n",
       "      <th>4</th>\n",
       "      <td>0.691345</td>\n",
       "      <td>0.308655</td>\n",
       "    </tr>\n",
       "  </tbody>\n",
       "</table>\n",
       "</div>"
      ],
      "text/plain": [
       "class                   0         1\n",
       "gill_attachment                    \n",
       "0                0.405669  0.594331\n",
       "1                0.406942  0.593058\n",
       "2                0.603040  0.396960\n",
       "3                0.362590  0.637410\n",
       "4                0.691345  0.308655"
      ]
     },
     "metadata": {},
     "output_type": "display_data"
    },
    {
     "name": "stdout",
     "output_type": "stream",
     "text": [
      "\n",
      "gill_color distribution by class:\n"
     ]
    },
    {
     "data": {
      "text/html": [
       "<div>\n",
       "<style scoped>\n",
       "    .dataframe tbody tr th:only-of-type {\n",
       "        vertical-align: middle;\n",
       "    }\n",
       "\n",
       "    .dataframe tbody tr th {\n",
       "        vertical-align: top;\n",
       "    }\n",
       "\n",
       "    .dataframe thead th {\n",
       "        text-align: right;\n",
       "    }\n",
       "</style>\n",
       "<table border=\"1\" class=\"dataframe\">\n",
       "  <thead>\n",
       "    <tr style=\"text-align: right;\">\n",
       "      <th>class</th>\n",
       "      <th>0</th>\n",
       "      <th>1</th>\n",
       "    </tr>\n",
       "    <tr>\n",
       "      <th>gill_color</th>\n",
       "      <th></th>\n",
       "      <th></th>\n",
       "    </tr>\n",
       "  </thead>\n",
       "  <tbody>\n",
       "    <tr>\n",
       "      <th>0</th>\n",
       "      <td>0.745016</td>\n",
       "      <td>0.254984</td>\n",
       "    </tr>\n",
       "    <tr>\n",
       "      <th>1</th>\n",
       "      <td>0.263456</td>\n",
       "      <td>0.736544</td>\n",
       "    </tr>\n",
       "    <tr>\n",
       "      <th>2</th>\n",
       "      <td>0.362590</td>\n",
       "      <td>0.637410</td>\n",
       "    </tr>\n",
       "    <tr>\n",
       "      <th>3</th>\n",
       "      <td>0.541721</td>\n",
       "      <td>0.458279</td>\n",
       "    </tr>\n",
       "    <tr>\n",
       "      <th>4</th>\n",
       "      <td>0.451467</td>\n",
       "      <td>0.548533</td>\n",
       "    </tr>\n",
       "  </tbody>\n",
       "</table>\n",
       "</div>"
      ],
      "text/plain": [
       "class              0         1\n",
       "gill_color                    \n",
       "0           0.745016  0.254984\n",
       "1           0.263456  0.736544\n",
       "2           0.362590  0.637410\n",
       "3           0.541721  0.458279\n",
       "4           0.451467  0.548533"
      ]
     },
     "metadata": {},
     "output_type": "display_data"
    },
    {
     "name": "stdout",
     "output_type": "stream",
     "text": [
      "\n",
      "stem_color distribution by class:\n"
     ]
    },
    {
     "data": {
      "text/html": [
       "<div>\n",
       "<style scoped>\n",
       "    .dataframe tbody tr th:only-of-type {\n",
       "        vertical-align: middle;\n",
       "    }\n",
       "\n",
       "    .dataframe tbody tr th {\n",
       "        vertical-align: top;\n",
       "    }\n",
       "\n",
       "    .dataframe thead th {\n",
       "        text-align: right;\n",
       "    }\n",
       "</style>\n",
       "<table border=\"1\" class=\"dataframe\">\n",
       "  <thead>\n",
       "    <tr style=\"text-align: right;\">\n",
       "      <th>class</th>\n",
       "      <th>0</th>\n",
       "      <th>1</th>\n",
       "    </tr>\n",
       "    <tr>\n",
       "      <th>stem_color</th>\n",
       "      <th></th>\n",
       "      <th></th>\n",
       "    </tr>\n",
       "  </thead>\n",
       "  <tbody>\n",
       "    <tr>\n",
       "      <th>0</th>\n",
       "      <td>1.000000</td>\n",
       "      <td>0.000000</td>\n",
       "    </tr>\n",
       "    <tr>\n",
       "      <th>1</th>\n",
       "      <td>0.280501</td>\n",
       "      <td>0.719499</td>\n",
       "    </tr>\n",
       "    <tr>\n",
       "      <th>2</th>\n",
       "      <td>0.000000</td>\n",
       "      <td>1.000000</td>\n",
       "    </tr>\n",
       "    <tr>\n",
       "      <th>3</th>\n",
       "      <td>0.607007</td>\n",
       "      <td>0.392993</td>\n",
       "    </tr>\n",
       "    <tr>\n",
       "      <th>4</th>\n",
       "      <td>0.000000</td>\n",
       "      <td>1.000000</td>\n",
       "    </tr>\n",
       "  </tbody>\n",
       "</table>\n",
       "</div>"
      ],
      "text/plain": [
       "class              0         1\n",
       "stem_color                    \n",
       "0           1.000000  0.000000\n",
       "1           0.280501  0.719499\n",
       "2           0.000000  1.000000\n",
       "3           0.607007  0.392993\n",
       "4           0.000000  1.000000"
      ]
     },
     "metadata": {},
     "output_type": "display_data"
    },
    {
     "name": "stdout",
     "output_type": "stream",
     "text": [
      "\n",
      "season distribution by class:\n"
     ]
    },
    {
     "data": {
      "text/html": [
       "<div>\n",
       "<style scoped>\n",
       "    .dataframe tbody tr th:only-of-type {\n",
       "        vertical-align: middle;\n",
       "    }\n",
       "\n",
       "    .dataframe tbody tr th {\n",
       "        vertical-align: top;\n",
       "    }\n",
       "\n",
       "    .dataframe thead th {\n",
       "        text-align: right;\n",
       "    }\n",
       "</style>\n",
       "<table border=\"1\" class=\"dataframe\">\n",
       "  <thead>\n",
       "    <tr style=\"text-align: right;\">\n",
       "      <th>class</th>\n",
       "      <th>0</th>\n",
       "      <th>1</th>\n",
       "    </tr>\n",
       "    <tr>\n",
       "      <th>season</th>\n",
       "      <th></th>\n",
       "      <th></th>\n",
       "    </tr>\n",
       "  </thead>\n",
       "  <tbody>\n",
       "    <tr>\n",
       "      <th>0.027372</th>\n",
       "      <td>0.557008</td>\n",
       "      <td>0.442992</td>\n",
       "    </tr>\n",
       "    <tr>\n",
       "      <th>0.888450</th>\n",
       "      <td>0.413155</td>\n",
       "      <td>0.586845</td>\n",
       "    </tr>\n",
       "    <tr>\n",
       "      <th>0.943195</th>\n",
       "      <td>0.433885</td>\n",
       "      <td>0.566115</td>\n",
       "    </tr>\n",
       "    <tr>\n",
       "      <th>1.804273</th>\n",
       "      <td>0.686182</td>\n",
       "      <td>0.313818</td>\n",
       "    </tr>\n",
       "  </tbody>\n",
       "</table>\n",
       "</div>"
      ],
      "text/plain": [
       "class            0         1\n",
       "season                      \n",
       "0.027372  0.557008  0.442992\n",
       "0.888450  0.413155  0.586845\n",
       "0.943195  0.433885  0.566115\n",
       "1.804273  0.686182  0.313818"
      ]
     },
     "metadata": {},
     "output_type": "display_data"
    }
   ],
   "source": [
    "cat_cols = ['cap_shape','gill_attachment','gill_color','stem_color','season']\n",
    "\n",
    "for col in cat_cols:\n",
    "    ctab = pd.crosstab(df[col], df['class'], normalize='index')\n",
    "    print(f\"\\n{col} distribution by class:\")\n",
    "    display(ctab.head())  # only first few rows if many categories"
   ]
  },
  {
   "cell_type": "markdown",
   "id": "ad333d9f-8241-4827-9acf-f10b00ff2531",
   "metadata": {},
   "source": [
    "### Task 2.3 – Feature Ranking (EDA Insights)\n",
    "\n",
    "**Numerical features (mean diff + t-test):**\n",
    "- **cap_diameter:** Edible mushrooms generally have larger diameters. Strong separation.  \n",
    "- **stem_height:** Poisonous mushrooms have taller stems. Moderate signal.  \n",
    "- **stem_width:** Edible mushrooms have thicker stems. Strong separation.  \n",
    "\n",
    "**Categorical features (distribution differences):**\n",
    "- **stem_color:** Very strong predictor. Some values (e.g., category 0 → 100% edible; 2/4 → 100% poisonous) almost perfectly separate classes.  \n",
    "- **gill_color:** Strong predictor. Example: category 0 → 75% edible, category 1 → 74% poisonous.  \n",
    "- **cap_shape / gill_attachment:** Some categories skew strongly edible vs poisonous, useful but less sharp.  \n",
    "- **season:** Shows some imbalance, but weaker signal compared to others.  \n",
    "\n",
    "**Overall ranking (by predictive strength from EDA intuition):**\n",
    "1. stem_color  \n",
    "2. gill_color  \n",
    "3. stem_width / cap_diameter  \n",
    "4. stem_height  \n",
    "5. cap_shape / gill_attachment  \n",
    "6. season  \n",
    "\n",
    "**Conclusion:**  \n",
    "Stem color and gill color are the strongest categorical predictors. Among numeric features, stem width and cap diameter show strong separation, while stem height has moderate signal. Season provides the weakest separation.  "
   ]
  },
  {
   "cell_type": "markdown",
   "id": "703c9350-31a1-4cb0-bffd-e93b2ffbb178",
   "metadata": {},
   "source": [
    "##\t•\t“From the boxplots, stem height and stem width show some separation between edible and poisonous\n",
    "mushrooms. Poisonous mushrooms generally have taller stems, while edible ones have thicker stems. \n",
    "    Cap diameter shows differences but with higher overlap. These features are not perfect \n",
    "separators but provide useful signal for classification.”\n"
   ]
  },
  {
   "cell_type": "markdown",
   "id": "2d2ab061-c25f-4441-adb0-19f0ddebfaa8",
   "metadata": {},
   "source": [
    "### Task 3: Model Training Using Basic Models\n",
    "\n",
    "1. Select the features `(cap_diameter, cap_shape, gill_attachment, gill_color, stem_height, stem_width, stem_color, season)` and the target variable `(class)` for modeling.\n",
    "2. Split the data into training and test sets with a test size of 25%.\n",
    "3. Initialize and train a Logistic Regression model using the training data.\n",
    "4. Make predictions on the test set using the trained model.\n",
    "5. Evaluate the model using a classification report and print the report.\n",
    "6. Initialize and train a Decision Tree Classifier model using the training data.\n",
    "7. Make predictions on the test set using the trained model.\n",
    "8. Evaluate the model using a classification report and print the report."
   ]
  },
  {
   "cell_type": "code",
   "execution_count": 19,
   "id": "ca28e050-af95-48a0-8e69-c59e438a37e4",
   "metadata": {},
   "outputs": [
    {
     "data": {
      "text/plain": [
       "((40526, 8), (13509, 8))"
      ]
     },
     "execution_count": 19,
     "metadata": {},
     "output_type": "execute_result"
    }
   ],
   "source": [
    "# Step 1: Select the features and target variable for modeling\n",
    "feature_cols = ['cap_diameter','cap_shape','gill_attachment','gill_color',\n",
    "                'stem_height','stem_width','stem_color','season']\n",
    "\n",
    "X = df[feature_cols]\n",
    "y = df['class']\n",
    "\n",
    "from sklearn.model_selection import train_test_split\n",
    "\n",
    "X_train, X_test, y_train, y_test = train_test_split(\n",
    "    X, y, test_size=0.25, stratify=y, random_state=42\n",
    ")\n",
    "\n",
    "X_train.shape, X_test.shape\n",
    "# Step 2: Split the data into training and test sets with a test size of 25%\n"
   ]
  },
  {
   "cell_type": "code",
   "execution_count": 20,
   "id": "5802ce9b-2018-43ed-9869-0bec1077405b",
   "metadata": {},
   "outputs": [
    {
     "name": "stdout",
     "output_type": "stream",
     "text": [
      "LR Accuracy: 0.6405359390036273\n",
      "\n",
      "Confusion Matrix:\n",
      " [[3350 2740]\n",
      " [2116 5303]]\n",
      "\n",
      "Classification Report:\n",
      "               precision    recall  f1-score   support\n",
      "\n",
      "           0     0.6129    0.5501    0.5798      6090\n",
      "           1     0.6593    0.7148    0.6859      7419\n",
      "\n",
      "    accuracy                         0.6405     13509\n",
      "   macro avg     0.6361    0.6324    0.6329     13509\n",
      "weighted avg     0.6384    0.6405    0.6381     13509\n",
      "\n"
     ]
    }
   ],
   "source": [
    "# Step 3: Initialize and train a Logistic Regression model using the training data\n",
    "from sklearn.linear_model import LogisticRegression\n",
    "from sklearn.metrics import accuracy_score, classification_report, confusion_matrix\n",
    "\n",
    "# Step 4: Make predictions on the test set using the trained model\n",
    "lr = LogisticRegression(max_iter=2000)\n",
    "lr.fit(X_train, y_train)\n",
    "\n",
    "y_pred_lr = lr.predict(X_test)\n",
    "\n",
    "# Step 5: Evaluate the model using a classification report and print the report\n",
    "print(\"LR Accuracy:\", accuracy_score(y_test, y_pred_lr))\n",
    "print(\"\\nConfusion Matrix:\\n\", confusion_matrix(y_test, y_pred_lr))\n",
    "print(\"\\nClassification Report:\\n\", classification_report(y_test, y_pred_lr, digits=4))"
   ]
  },
  {
   "cell_type": "code",
   "execution_count": 22,
   "id": "f0ee4a78-b5e3-4872-8b59-9ec37d508b74",
   "metadata": {},
   "outputs": [
    {
     "name": "stdout",
     "output_type": "stream",
     "text": [
      "DT Accuracy: 0.9771263602043082\n",
      "\n",
      "Confusion Matrix:\n",
      " [[5941  149]\n",
      " [ 160 7259]]\n",
      "\n",
      "Classification Report:\n",
      "               precision    recall  f1-score   support\n",
      "\n",
      "           0     0.9738    0.9755    0.9747      6090\n",
      "           1     0.9799    0.9784    0.9792      7419\n",
      "\n",
      "    accuracy                         0.9771     13509\n",
      "   macro avg     0.9768    0.9770    0.9769     13509\n",
      "weighted avg     0.9771    0.9771    0.9771     13509\n",
      "\n"
     ]
    }
   ],
   "source": [
    "# Step 6: Initialize and train a Decision Tree Classifier model using the training data\n",
    "from sklearn.tree import DecisionTreeClassifier\n",
    "\n",
    "dt = DecisionTreeClassifier(random_state=42)\n",
    "dt.fit(X_train, y_train)\n",
    "\n",
    "y_pred_dt = dt.predict(X_test)\n",
    "\n",
    "print(\"DT Accuracy:\", accuracy_score(y_test, y_pred_dt))\n",
    "print(\"\\nConfusion Matrix:\\n\", confusion_matrix(y_test, y_pred_dt))\n",
    "print(\"\\nClassification Report:\\n\", classification_report(y_test, y_pred_dt, digits=4))\n",
    "\n",
    "# Step 7: Make predictions on the test set using the trained model\n",
    "\n",
    "\n",
    "# Step 8: Evaluate the model using a classification report and print the report\n",
    "\n"
   ]
  },
  {
   "cell_type": "code",
   "execution_count": 23,
   "id": "c04ef55e-4696-44f0-9788-6f8e4280060a",
   "metadata": {},
   "outputs": [
    {
     "data": {
      "text/plain": [
       "(1.0, 0.9771263602043082)"
      ]
     },
     "execution_count": 23,
     "metadata": {},
     "output_type": "execute_result"
    }
   ],
   "source": [
    "#Quick check on the test data \n",
    "train_acc = dt.score(X_train, y_train)\n",
    "test_acc  = dt.score(X_test,  y_test)\n",
    "train_acc, test_acc"
   ]
  },
  {
   "cell_type": "code",
   "execution_count": 24,
   "id": "15575944-6f88-4d58-88f4-29ec03efc2fd",
   "metadata": {},
   "outputs": [
    {
     "data": {
      "text/plain": [
       "(np.float64(0.5395576940871657),\n",
       " array([0.55038401, 0.45886925, 0.51596188, 0.5693532 , 0.60322014]))"
      ]
     },
     "execution_count": 24,
     "metadata": {},
     "output_type": "execute_result"
    }
   ],
   "source": [
    "from sklearn.model_selection import cross_val_score\n",
    "cv_scores = cross_val_score(DecisionTreeClassifier(random_state=42),\n",
    "                            X, y, cv=5, scoring='accuracy')\n",
    "cv_scores.mean(), cv_scores"
   ]
  },
  {
   "cell_type": "code",
   "execution_count": 25,
   "id": "af0af24f-84aa-435e-9a4f-9948bec6182f",
   "metadata": {},
   "outputs": [
    {
     "name": "stdout",
     "output_type": "stream",
     "text": [
      "Pruned DT Test Acc: 0.8342586423865571\n"
     ]
    }
   ],
   "source": [
    "from sklearn.tree import DecisionTreeClassifier\n",
    "\n",
    "dt_pruned = DecisionTreeClassifier(\n",
    "    random_state=42,\n",
    "    max_depth=8,              # try 6–12\n",
    "    min_samples_leaf=10,      # try 5–50\n",
    ")\n",
    "dt_pruned.fit(X_train, y_train)\n",
    "print(\"Pruned DT Test Acc:\", dt_pruned.score(X_test, y_test))"
   ]
  },
  {
   "cell_type": "code",
   "execution_count": 26,
   "id": "9093bd86-b158-49b1-b76e-32d6c30d899c",
   "metadata": {},
   "outputs": [
    {
     "name": "stdout",
     "output_type": "stream",
     "text": [
      "Poisonous→Edible (FN): 160   Edible→Poisonous (FP): 149\n"
     ]
    }
   ],
   "source": [
    "from sklearn.metrics import confusion_matrix\n",
    "cm = confusion_matrix(y_test, y_pred_dt)\n",
    "tn, fp, fn, tp = cm.ravel()\n",
    "print(\"Poisonous→Edible (FN):\", fn, \"  Edible→Poisonous (FP):\", fp)"
   ]
  },
  {
   "cell_type": "code",
   "execution_count": 27,
   "id": "ba782882-3c4e-40b4-9ae3-79a3bff321ee",
   "metadata": {},
   "outputs": [
    {
     "data": {
      "text/plain": [
       "(np.float64(0.9767372998982141),\n",
       " array([0.97751457, 0.9736282 , 0.97575645, 0.97834737, 0.9784399 ]))"
      ]
     },
     "execution_count": 27,
     "metadata": {},
     "output_type": "execute_result"
    }
   ],
   "source": [
    "from sklearn.model_selection import StratifiedKFold, cross_val_score\n",
    "from sklearn.tree import DecisionTreeClassifier\n",
    "\n",
    "cv = StratifiedKFold(n_splits=5, shuffle=True, random_state=42)\n",
    "\n",
    "dt_base = DecisionTreeClassifier(random_state=42)\n",
    "cv_scores = cross_val_score(dt_base, X, y, cv=cv, scoring='accuracy', n_jobs=-1)\n",
    "cv_scores.mean(), cv_scores"
   ]
  },
  {
   "cell_type": "code",
   "execution_count": 28,
   "id": "3f0c6ff5-522c-479e-a931-a1e257079c48",
   "metadata": {},
   "outputs": [
    {
     "data": {
      "text/plain": [
       "({'max_depth': None,\n",
       "  'max_features': None,\n",
       "  'min_samples_leaf': 1,\n",
       "  'min_samples_split': 2},\n",
       " np.float64(0.9767372998982141))"
      ]
     },
     "execution_count": 28,
     "metadata": {},
     "output_type": "execute_result"
    }
   ],
   "source": [
    "from sklearn.model_selection import GridSearchCV\n",
    "\n",
    "param_grid = {\n",
    "    'max_depth': [None, 6, 8, 10, 12],\n",
    "    'min_samples_split': [2, 5, 10, 20],\n",
    "    'min_samples_leaf': [1, 2, 5, 10, 20],\n",
    "    'max_features': [None, 'sqrt', 'log2']\n",
    "}\n",
    "gs = GridSearchCV(\n",
    "    DecisionTreeClassifier(random_state=42),\n",
    "    param_grid,\n",
    "    cv=cv,\n",
    "    scoring='accuracy',\n",
    "    n_jobs=-1\n",
    ")\n",
    "gs.fit(X, y)\n",
    "gs.best_params_, gs.best_score_"
   ]
  },
  {
   "cell_type": "markdown",
   "id": "8afe3a53-46ab-41a6-828f-a3ea5ee4ef93",
   "metadata": {},
   "source": [
    "Poisonous→Edible (FN): 160   Edible→Poisonous (FP): 149"
   ]
  },
  {
   "cell_type": "markdown",
   "id": "e8bf4ec0-b8d5-41da-b636-5f06b0b66a2d",
   "metadata": {},
   "source": [
    "### Task 4: Model Training Using Gradient Boosting Classifier\n",
    "\n",
    "1. Initialize and train a Gradient Boosting Classifier model using the training data.\n",
    "2. Make predictions on the test set using the trained model.\n",
    "3. Evaluate the model using a classification report and print the report.\n",
    "4. Calculate and display the feature importances."
   ]
  },
  {
   "cell_type": "code",
   "execution_count": 32,
   "id": "242e67dd-e3e9-444b-a6e7-5352767cc229",
   "metadata": {},
   "outputs": [
    {
     "name": "stdout",
     "output_type": "stream",
     "text": [
      "GB (default) Accuracy: 0.8755644385224665\n",
      "\n",
      "Confusion Matrix:\n",
      " [[5303  787]\n",
      " [ 894 6525]]\n",
      "\n",
      "Classification Report:\n",
      "               precision    recall  f1-score   support\n",
      "\n",
      "           0     0.8557    0.8708    0.8632      6090\n",
      "           1     0.8924    0.8795    0.8859      7419\n",
      "\n",
      "    accuracy                         0.8756     13509\n",
      "   macro avg     0.8741    0.8751    0.8745     13509\n",
      "weighted avg     0.8759    0.8756    0.8757     13509\n",
      "\n",
      "ROC-AUC: 0.9397552571604748\n"
     ]
    }
   ],
   "source": [
    "# Step 1: Initialize and train a Gradient Boosting Classifier model using the training data\n",
    "\n",
    "from sklearn.ensemble import GradientBoostingClassifier\n",
    "from sklearn.metrics import accuracy_score, classification_report, confusion_matrix, roc_auc_score, roc_curve\n",
    "\n",
    "gb = GradientBoostingClassifier(random_state=42)\n",
    "gb.fit(X_train, y_train)\n",
    "\n",
    "y_pred_gb  = gb.predict(X_test)\n",
    "y_prob_gb  = gb.predict_proba(X_test)[:, 1]\n",
    "\n",
    "print(\"GB (default) Accuracy:\", accuracy_score(y_test, y_pred_gb))\n",
    "print(\"\\nConfusion Matrix:\\n\", confusion_matrix(y_test, y_pred_gb))\n",
    "print(\"\\nClassification Report:\\n\", classification_report(y_test, y_pred_gb, digits=4))\n",
    "print(\"ROC-AUC:\", roc_auc_score(y_test, y_prob_gb))\n",
    "# Step 2: Make predictions on the test set using the trained model\n",
    "\n",
    "\n",
    "# Step 3: Evaluate the model using a classification report and print the report\n"
   ]
  },
  {
   "cell_type": "code",
   "execution_count": 33,
   "id": "05020492-f728-4a92-bd2b-5b5e30413738",
   "metadata": {},
   "outputs": [
    {
     "data": {
      "text/html": [
       "<div>\n",
       "<style scoped>\n",
       "    .dataframe tbody tr th:only-of-type {\n",
       "        vertical-align: middle;\n",
       "    }\n",
       "\n",
       "    .dataframe tbody tr th {\n",
       "        vertical-align: top;\n",
       "    }\n",
       "\n",
       "    .dataframe thead th {\n",
       "        text-align: right;\n",
       "    }\n",
       "</style>\n",
       "<table border=\"1\" class=\"dataframe\">\n",
       "  <thead>\n",
       "    <tr style=\"text-align: right;\">\n",
       "      <th></th>\n",
       "      <th>feature</th>\n",
       "      <th>importance</th>\n",
       "    </tr>\n",
       "  </thead>\n",
       "  <tbody>\n",
       "    <tr>\n",
       "      <th>5</th>\n",
       "      <td>stem_width</td>\n",
       "      <td>0.242145</td>\n",
       "    </tr>\n",
       "    <tr>\n",
       "      <th>2</th>\n",
       "      <td>gill_attachment</td>\n",
       "      <td>0.171381</td>\n",
       "    </tr>\n",
       "    <tr>\n",
       "      <th>6</th>\n",
       "      <td>stem_color</td>\n",
       "      <td>0.151951</td>\n",
       "    </tr>\n",
       "    <tr>\n",
       "      <th>4</th>\n",
       "      <td>stem_height</td>\n",
       "      <td>0.136804</td>\n",
       "    </tr>\n",
       "    <tr>\n",
       "      <th>1</th>\n",
       "      <td>cap_shape</td>\n",
       "      <td>0.116219</td>\n",
       "    </tr>\n",
       "    <tr>\n",
       "      <th>3</th>\n",
       "      <td>gill_color</td>\n",
       "      <td>0.089699</td>\n",
       "    </tr>\n",
       "    <tr>\n",
       "      <th>0</th>\n",
       "      <td>cap_diameter</td>\n",
       "      <td>0.049024</td>\n",
       "    </tr>\n",
       "    <tr>\n",
       "      <th>7</th>\n",
       "      <td>season</td>\n",
       "      <td>0.042777</td>\n",
       "    </tr>\n",
       "  </tbody>\n",
       "</table>\n",
       "</div>"
      ],
      "text/plain": [
       "           feature  importance\n",
       "5       stem_width    0.242145\n",
       "2  gill_attachment    0.171381\n",
       "6       stem_color    0.151951\n",
       "4      stem_height    0.136804\n",
       "1        cap_shape    0.116219\n",
       "3       gill_color    0.089699\n",
       "0     cap_diameter    0.049024\n",
       "7           season    0.042777"
      ]
     },
     "metadata": {},
     "output_type": "display_data"
    },
    {
     "data": {
      "image/png": "[encoded data removed]",
      "text/plain": [
       "<Figure size 640x480 with 1 Axes>"
      ]
     },
     "metadata": {},
     "output_type": "display_data"
    }
   ],
   "source": [
    "# Step 4: Calculate and display the feature importances\n",
    "imp = (pd.DataFrame({'feature': X.columns, 'importance': gb.feature_importances_})\n",
    "         .sort_values('importance', ascending=False))\n",
    "display(imp)\n",
    "\n",
    "# quick barh\n",
    "plt.figure()\n",
    "plt.barh(imp['feature'], imp['importance'])\n",
    "plt.gca().invert_yaxis()\n",
    "plt.title('Feature Importances - Gradient Boosting (default)')\n",
    "plt.xlabel('Importance')\n",
    "plt.ylabel('Feature')\n",
    "plt.tight_layout()\n",
    "plt.show()"
   ]
  },
  {
   "cell_type": "markdown",
   "id": "2dc96c15-d72c-4a4c-9c40-9ae93a41de00",
   "metadata": {},
   "source": [
    "### Task 5: Exploring Various Parameters in Gradient Boosting Classifier\n",
    "\n",
    "1. Train a Gradient Boosting model with the following parameters:\n",
    "    - learning_rate = 0.05\n",
    "    - n_estimators = 150\n",
    "    - max_depth=4\n",
    "    - min_samples_split = 3\n",
    "    - min_samples_leaf = 2\n",
    "\n",
    "Learn about these parameters here: [scikit-learn GradientBoostingClassifier Parameters](https://scikit-learn.org/stable/modules/generated/sklearn.ensemble.GradientBoostingClassifier.html)\n",
    "\n",
    "-------------------------------------------------------------------------------------------------------------------------------------------------------\n",
    "2. Evaluate the model using a classification report and print the report."
   ]
  },
  {
   "cell_type": "code",
   "execution_count": 34,
   "id": "b78e9f73-a64f-4d56-abee-050a0f9b13c7",
   "metadata": {},
   "outputs": [
    {
     "name": "stdout",
     "output_type": "stream",
     "text": [
      "Custom GB Accuracy: 0.9023613887038271\n",
      "\n",
      "Confusion Matrix:\n",
      " [[5502  588]\n",
      " [ 731 6688]]\n",
      "\n",
      "Classification Report:\n",
      "               precision    recall  f1-score   support\n",
      "\n",
      "           0     0.8827    0.9034    0.8930      6090\n",
      "           1     0.9192    0.9015    0.9102      7419\n",
      "\n",
      "    accuracy                         0.9024     13509\n",
      "   macro avg     0.9010    0.9025    0.9016     13509\n",
      "weighted avg     0.9027    0.9024    0.9025     13509\n",
      "\n",
      "ROC-AUC: 0.9641732130103088\n"
     ]
    }
   ],
   "source": [
    "from sklearn.ensemble import GradientBoostingClassifier\n",
    "from sklearn.metrics import accuracy_score, classification_report, confusion_matrix, roc_auc_score\n",
    "\n",
    "# Step 1: Train Gradient Boosting with given parameters\n",
    "gb_custom = GradientBoostingClassifier(\n",
    "    learning_rate=0.05,\n",
    "    n_estimators=150,\n",
    "    max_depth=4,\n",
    "    min_samples_split=3,\n",
    "    min_samples_leaf=2,\n",
    "    random_state=42\n",
    ")\n",
    "gb_custom.fit(X_train, y_train)\n",
    "\n",
    "# Step 2: Predictions\n",
    "y_pred_gb_c = gb_custom.predict(X_test)\n",
    "y_prob_gb_c = gb_custom.predict_proba(X_test)[:, 1]\n",
    "\n",
    "# Step 3: Evaluation\n",
    "print(\"Custom GB Accuracy:\", accuracy_score(y_test, y_pred_gb_c))\n",
    "print(\"\\nConfusion Matrix:\\n\", confusion_matrix(y_test, y_pred_gb_c))\n",
    "print(\"\\nClassification Report:\\n\", classification_report(y_test, y_pred_gb_c, digits=4))\n",
    "print(\"ROC-AUC:\", roc_auc_score(y_test, y_prob_gb_c))"
   ]
  },
  {
   "cell_type": "code",
   "execution_count": 35,
   "id": "ee0337ec-6fd1-420f-a5d6-5caa2884afec",
   "metadata": {},
   "outputs": [
    {
     "name": "stdout",
     "output_type": "stream",
     "text": [
      "\n",
      "Feature Importances:\n",
      "            feature  importance\n",
      "5       stem_width    0.257702\n",
      "2  gill_attachment    0.200667\n",
      "6       stem_color    0.137904\n",
      "3       gill_color    0.116033\n",
      "4      stem_height    0.114380\n",
      "1        cap_shape    0.079154\n",
      "0     cap_diameter    0.056600\n",
      "7           season    0.037560\n"
     ]
    },
    {
     "data": {
      "image/png": "[encoded data removed]",
      "text/plain": [
       "<Figure size 640x480 with 1 Axes>"
      ]
     },
     "metadata": {},
     "output_type": "display_data"
    }
   ],
   "source": [
    "import matplotlib.pyplot as plt\n",
    "import pandas as pd\n",
    "\n",
    "imp_custom = (pd.DataFrame({\n",
    "    'feature': X.columns,\n",
    "    'importance': gb_custom.feature_importances_\n",
    "}).sort_values('importance', ascending=False))\n",
    "\n",
    "print(\"\\nFeature Importances:\\n\", imp_custom)\n",
    "\n",
    "# Plot\n",
    "plt.figure()\n",
    "plt.barh(imp_custom['feature'], imp_custom['importance'])\n",
    "plt.gca().invert_yaxis()\n",
    "plt.title(\"Feature Importances - Gradient Boosting (Custom Params)\")\n",
    "plt.xlabel(\"Importance\")\n",
    "plt.show()"
   ]
  },
  {
   "cell_type": "code",
   "execution_count": null,
   "id": "1a6ec945-58ae-4dd3-b79b-a563da2519a6",
   "metadata": {},
   "outputs": [],
   "source": []
  }
 ],
 "metadata": {
  "kernelspec": {
   "display_name": "Python 3 (ipykernel)",
   "language": "python",
   "name": "python3"
  },
  "language_info": {
   "codemirror_mode": {
    "name": "ipython",
    "version": 3
   },
   "file_extension": ".py",
   "mimetype": "text/x-python",
   "name": "python",
   "nbconvert_exporter": "python",
   "pygments_lexer": "ipython3",
   "version": "3.13.1"
  }
 },
 "nbformat": 4,
 "nbformat_minor": 5
}
