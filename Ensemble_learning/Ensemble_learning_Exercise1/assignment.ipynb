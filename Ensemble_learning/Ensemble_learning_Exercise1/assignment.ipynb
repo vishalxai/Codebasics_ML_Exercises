{
 "cells": [
  {
   "cell_type": "markdown",
   "id": "baf2816d-9bb4-41f5-a0cc-28d21076897e",
   "metadata": {},
   "source": [
    "### Problem Statement\n",
    "\n",
    "You are a data scientist / AI engineer at a medical research firm. You have been provided with a dataset named **`\"cancer_data.csv\"`**, which includes medical and lifestyle information for 1500 patients. The dataset is designed to predict the presence of cancer based on various features. The dataset comprises the following columns:\n",
    "\n",
    "- `age:` Integer values representing the patient's age, ranging from 20 to 80.\n",
    "- `gender:` Binary values representing gender, where 0 indicates Male and 1 indicates Female.\n",
    "- `bmi:` Continuous values representing Body Mass Index, ranging from 15 to 40.\n",
    "- `smoking:` Binary values indicating smoking status, where 0 means No and 1 means Yes.\n",
    "- `genetic_risk:` Categorical values representing genetic risk levels for cancer, with 0 indicating Low, 1 indicating Medium, and 2 indicating High.\n",
    "- `physical_activity:` Continuous values representing the number of hours per week spent on physical activities, ranging from 0 to 10.\n",
    "- `alcohol_intake:` Continuous values representing the number of alcohol units consumed per week, ranging from 0 to 5.\n",
    "- `cancer_history:` Binary values indicating whether the patient has a personal history of cancer, where 0 means No and 1 means Yes.\n",
    "- `diagnosis:` Binary values indicating the cancer diagnosis status, where 0 indicates No Cancer and 1 indicates Cancer.\n",
    "\n",
    "  \n",
    "Your task is to use this dataset to build and compare the performance of Decision Tree and Random Forest models to predict the presence of cancer. Additionally, explore various parameters of the RandomForestClassifier to enhance model performance.\n",
    "\n",
    "**Dataset credits:** Rabie El Kharoua (https://www.kaggle.com/datasets/rabieelkharoua/cancer-prediction-dataset)"
   ]
  },
  {
   "cell_type": "markdown",
   "id": "15221f04-00ac-4e0b-8a89-305664501db4",
   "metadata": {},
   "source": [
    "**Import Necessary Libraries**"
   ]
  },
  {
   "cell_type": "code",
   "execution_count": 13,
   "id": "473a0b20-c224-48d3-b72d-0f1c680d2c08",
   "metadata": {},
   "outputs": [],
   "source": [
    "#import necessary libraries\n",
    "import pandas as pd \n",
    "import numpy as np \n",
    "import matplotlib.pyplot as plt \n",
    "import seaborn as sns \n",
    "\n",
    "from sklearn.model_selection import train_test_split\n",
    "\n",
    "#plotting niceties \n",
    "%matplotlib inline \n",
    "sns.set(style=\"whitegrid\")\n"
   ]
  },
  {
   "cell_type": "markdown",
   "id": "a4b44afd-f118-4fd0-b028-4b25ae125514",
   "metadata": {},
   "source": [
    "### Task 1: Data Preparation and Exploration\n",
    "\n",
    "1. Import the data from the `\"cancer_data.csv\"` file and store it in a variable df.\n",
    "2. Display the number of rows and columns in the dataset.\n",
    "3. Display the first few rows of the dataset to get an overview.\n",
    "4. Check for any missing values in the dataset."
   ]
  },
  {
   "cell_type": "code",
   "execution_count": 14,
   "id": "4ea4c74b-e0e7-4b04-a0e8-969e95549598",
   "metadata": {},
   "outputs": [
    {
     "name": "stdout",
     "output_type": "stream",
     "text": [
      "shape: (1500, 9)\n"
     ]
    },
    {
     "data": {
      "text/html": [
       "<div>\n",
       "<style scoped>\n",
       "    .dataframe tbody tr th:only-of-type {\n",
       "        vertical-align: middle;\n",
       "    }\n",
       "\n",
       "    .dataframe tbody tr th {\n",
       "        vertical-align: top;\n",
       "    }\n",
       "\n",
       "    .dataframe thead th {\n",
       "        text-align: right;\n",
       "    }\n",
       "</style>\n",
       "<table border=\"1\" class=\"dataframe\">\n",
       "  <thead>\n",
       "    <tr style=\"text-align: right;\">\n",
       "      <th></th>\n",
       "      <th>age</th>\n",
       "      <th>gender</th>\n",
       "      <th>bmi</th>\n",
       "      <th>smoking</th>\n",
       "      <th>genetic_risk</th>\n",
       "      <th>physical_activity</th>\n",
       "      <th>alcohol_intake</th>\n",
       "      <th>cancer_history</th>\n",
       "      <th>diagnosis</th>\n",
       "    </tr>\n",
       "  </thead>\n",
       "  <tbody>\n",
       "    <tr>\n",
       "      <th>0</th>\n",
       "      <td>58</td>\n",
       "      <td>1</td>\n",
       "      <td>16.085313</td>\n",
       "      <td>0</td>\n",
       "      <td>1</td>\n",
       "      <td>8.146251</td>\n",
       "      <td>4.148219</td>\n",
       "      <td>1</td>\n",
       "      <td>1</td>\n",
       "    </tr>\n",
       "    <tr>\n",
       "      <th>1</th>\n",
       "      <td>71</td>\n",
       "      <td>0</td>\n",
       "      <td>30.828784</td>\n",
       "      <td>0</td>\n",
       "      <td>1</td>\n",
       "      <td>9.361630</td>\n",
       "      <td>3.519683</td>\n",
       "      <td>0</td>\n",
       "      <td>0</td>\n",
       "    </tr>\n",
       "    <tr>\n",
       "      <th>2</th>\n",
       "      <td>48</td>\n",
       "      <td>1</td>\n",
       "      <td>38.785084</td>\n",
       "      <td>0</td>\n",
       "      <td>2</td>\n",
       "      <td>5.135179</td>\n",
       "      <td>4.728368</td>\n",
       "      <td>0</td>\n",
       "      <td>1</td>\n",
       "    </tr>\n",
       "    <tr>\n",
       "      <th>3</th>\n",
       "      <td>34</td>\n",
       "      <td>0</td>\n",
       "      <td>30.040295</td>\n",
       "      <td>0</td>\n",
       "      <td>0</td>\n",
       "      <td>9.502792</td>\n",
       "      <td>2.044636</td>\n",
       "      <td>0</td>\n",
       "      <td>0</td>\n",
       "    </tr>\n",
       "    <tr>\n",
       "      <th>4</th>\n",
       "      <td>62</td>\n",
       "      <td>1</td>\n",
       "      <td>35.479721</td>\n",
       "      <td>0</td>\n",
       "      <td>0</td>\n",
       "      <td>5.356890</td>\n",
       "      <td>3.309849</td>\n",
       "      <td>0</td>\n",
       "      <td>1</td>\n",
       "    </tr>\n",
       "    <tr>\n",
       "      <th>5</th>\n",
       "      <td>27</td>\n",
       "      <td>0</td>\n",
       "      <td>37.105162</td>\n",
       "      <td>0</td>\n",
       "      <td>1</td>\n",
       "      <td>3.941905</td>\n",
       "      <td>2.324274</td>\n",
       "      <td>0</td>\n",
       "      <td>0</td>\n",
       "    </tr>\n",
       "  </tbody>\n",
       "</table>\n",
       "</div>"
      ],
      "text/plain": [
       "   age  gender        bmi  smoking  genetic_risk  physical_activity  \\\n",
       "0   58       1  16.085313        0             1           8.146251   \n",
       "1   71       0  30.828784        0             1           9.361630   \n",
       "2   48       1  38.785084        0             2           5.135179   \n",
       "3   34       0  30.040295        0             0           9.502792   \n",
       "4   62       1  35.479721        0             0           5.356890   \n",
       "5   27       0  37.105162        0             1           3.941905   \n",
       "\n",
       "   alcohol_intake  cancer_history  diagnosis  \n",
       "0        4.148219               1          1  \n",
       "1        3.519683               0          0  \n",
       "2        4.728368               0          1  \n",
       "3        2.044636               0          0  \n",
       "4        3.309849               0          1  \n",
       "5        2.324274               0          0  "
      ]
     },
     "metadata": {},
     "output_type": "display_data"
    },
    {
     "name": "stdout",
     "output_type": "stream",
     "text": [
      "<class 'pandas.core.frame.DataFrame'>\n",
      "RangeIndex: 1500 entries, 0 to 1499\n",
      "Data columns (total 9 columns):\n",
      " #   Column             Non-Null Count  Dtype  \n",
      "---  ------             --------------  -----  \n",
      " 0   age                1500 non-null   int64  \n",
      " 1   gender             1500 non-null   int64  \n",
      " 2   bmi                1500 non-null   float64\n",
      " 3   smoking            1500 non-null   int64  \n",
      " 4   genetic_risk       1500 non-null   int64  \n",
      " 5   physical_activity  1500 non-null   float64\n",
      " 6   alcohol_intake     1500 non-null   float64\n",
      " 7   cancer_history     1500 non-null   int64  \n",
      " 8   diagnosis          1500 non-null   int64  \n",
      "dtypes: float64(3), int64(6)\n",
      "memory usage: 105.6 KB\n"
     ]
    },
    {
     "data": {
      "text/plain": [
       "None"
      ]
     },
     "metadata": {},
     "output_type": "display_data"
    },
    {
     "data": {
      "text/html": [
       "<div>\n",
       "<style scoped>\n",
       "    .dataframe tbody tr th:only-of-type {\n",
       "        vertical-align: middle;\n",
       "    }\n",
       "\n",
       "    .dataframe tbody tr th {\n",
       "        vertical-align: top;\n",
       "    }\n",
       "\n",
       "    .dataframe thead th {\n",
       "        text-align: right;\n",
       "    }\n",
       "</style>\n",
       "<table border=\"1\" class=\"dataframe\">\n",
       "  <thead>\n",
       "    <tr style=\"text-align: right;\">\n",
       "      <th></th>\n",
       "      <th>count</th>\n",
       "      <th>mean</th>\n",
       "      <th>std</th>\n",
       "      <th>min</th>\n",
       "      <th>25%</th>\n",
       "      <th>50%</th>\n",
       "      <th>75%</th>\n",
       "      <th>max</th>\n",
       "    </tr>\n",
       "  </thead>\n",
       "  <tbody>\n",
       "    <tr>\n",
       "      <th>age</th>\n",
       "      <td>1500.0</td>\n",
       "      <td>50.320000</td>\n",
       "      <td>17.640968</td>\n",
       "      <td>20.000000</td>\n",
       "      <td>35.000000</td>\n",
       "      <td>51.000000</td>\n",
       "      <td>66.000000</td>\n",
       "      <td>80.000000</td>\n",
       "    </tr>\n",
       "    <tr>\n",
       "      <th>gender</th>\n",
       "      <td>1500.0</td>\n",
       "      <td>0.490667</td>\n",
       "      <td>0.500080</td>\n",
       "      <td>0.000000</td>\n",
       "      <td>0.000000</td>\n",
       "      <td>0.000000</td>\n",
       "      <td>1.000000</td>\n",
       "      <td>1.000000</td>\n",
       "    </tr>\n",
       "    <tr>\n",
       "      <th>bmi</th>\n",
       "      <td>1500.0</td>\n",
       "      <td>27.513321</td>\n",
       "      <td>7.230012</td>\n",
       "      <td>15.000291</td>\n",
       "      <td>21.483134</td>\n",
       "      <td>27.598494</td>\n",
       "      <td>33.850837</td>\n",
       "      <td>39.958688</td>\n",
       "    </tr>\n",
       "    <tr>\n",
       "      <th>smoking</th>\n",
       "      <td>1500.0</td>\n",
       "      <td>0.269333</td>\n",
       "      <td>0.443761</td>\n",
       "      <td>0.000000</td>\n",
       "      <td>0.000000</td>\n",
       "      <td>0.000000</td>\n",
       "      <td>1.000000</td>\n",
       "      <td>1.000000</td>\n",
       "    </tr>\n",
       "    <tr>\n",
       "      <th>genetic_risk</th>\n",
       "      <td>1500.0</td>\n",
       "      <td>0.508667</td>\n",
       "      <td>0.678895</td>\n",
       "      <td>0.000000</td>\n",
       "      <td>0.000000</td>\n",
       "      <td>0.000000</td>\n",
       "      <td>1.000000</td>\n",
       "      <td>2.000000</td>\n",
       "    </tr>\n",
       "    <tr>\n",
       "      <th>physical_activity</th>\n",
       "      <td>1500.0</td>\n",
       "      <td>4.897929</td>\n",
       "      <td>2.866162</td>\n",
       "      <td>0.002410</td>\n",
       "      <td>2.434609</td>\n",
       "      <td>4.834316</td>\n",
       "      <td>7.409896</td>\n",
       "      <td>9.994607</td>\n",
       "    </tr>\n",
       "    <tr>\n",
       "      <th>alcohol_intake</th>\n",
       "      <td>1500.0</td>\n",
       "      <td>2.417987</td>\n",
       "      <td>1.419318</td>\n",
       "      <td>0.001215</td>\n",
       "      <td>1.210598</td>\n",
       "      <td>2.382971</td>\n",
       "      <td>3.585624</td>\n",
       "      <td>4.987115</td>\n",
       "    </tr>\n",
       "    <tr>\n",
       "      <th>cancer_history</th>\n",
       "      <td>1500.0</td>\n",
       "      <td>0.144000</td>\n",
       "      <td>0.351207</td>\n",
       "      <td>0.000000</td>\n",
       "      <td>0.000000</td>\n",
       "      <td>0.000000</td>\n",
       "      <td>0.000000</td>\n",
       "      <td>1.000000</td>\n",
       "    </tr>\n",
       "    <tr>\n",
       "      <th>diagnosis</th>\n",
       "      <td>1500.0</td>\n",
       "      <td>0.371333</td>\n",
       "      <td>0.483322</td>\n",
       "      <td>0.000000</td>\n",
       "      <td>0.000000</td>\n",
       "      <td>0.000000</td>\n",
       "      <td>1.000000</td>\n",
       "      <td>1.000000</td>\n",
       "    </tr>\n",
       "  </tbody>\n",
       "</table>\n",
       "</div>"
      ],
      "text/plain": [
       "                    count       mean        std        min        25%  \\\n",
       "age                1500.0  50.320000  17.640968  20.000000  35.000000   \n",
       "gender             1500.0   0.490667   0.500080   0.000000   0.000000   \n",
       "bmi                1500.0  27.513321   7.230012  15.000291  21.483134   \n",
       "smoking            1500.0   0.269333   0.443761   0.000000   0.000000   \n",
       "genetic_risk       1500.0   0.508667   0.678895   0.000000   0.000000   \n",
       "physical_activity  1500.0   4.897929   2.866162   0.002410   2.434609   \n",
       "alcohol_intake     1500.0   2.417987   1.419318   0.001215   1.210598   \n",
       "cancer_history     1500.0   0.144000   0.351207   0.000000   0.000000   \n",
       "diagnosis          1500.0   0.371333   0.483322   0.000000   0.000000   \n",
       "\n",
       "                         50%        75%        max  \n",
       "age                51.000000  66.000000  80.000000  \n",
       "gender              0.000000   1.000000   1.000000  \n",
       "bmi                27.598494  33.850837  39.958688  \n",
       "smoking             0.000000   1.000000   1.000000  \n",
       "genetic_risk        0.000000   1.000000   2.000000  \n",
       "physical_activity   4.834316   7.409896   9.994607  \n",
       "alcohol_intake      2.382971   3.585624   4.987115  \n",
       "cancer_history      0.000000   0.000000   1.000000  \n",
       "diagnosis           0.000000   1.000000   1.000000  "
      ]
     },
     "metadata": {},
     "output_type": "display_data"
    }
   ],
   "source": [
    "# Step 1: Import the data from the \"cancer_data.csv\" file and store it in a variable 'df'\n",
    "# Step 1B: load the data\n",
    "df = pd.read_csv(\"cancer_data.csv\")   \n",
    "print(\"shape:\",df.shape)\n",
    "display(df.head(6))\n",
    "display(df.info())\n",
    "display(df.describe(include = \"all\").T)\n",
    "\n",
    "# Step 2: Display the number of rows and columns in the dataset\n",
    "\n",
    "\n",
    "# Step 3: Display the first few rows of the dataset to get an overview\n"
   ]
  },
  {
   "cell_type": "code",
   "execution_count": 15,
   "id": "6d1bb675-d45d-458f-b2a7-9d67814a79d8",
   "metadata": {},
   "outputs": [
    {
     "name": "stdout",
     "output_type": "stream",
     "text": [
      "Missing values per column:\n",
      " age                  0\n",
      "gender               0\n",
      "bmi                  0\n",
      "smoking              0\n",
      "genetic_risk         0\n",
      "physical_activity    0\n",
      "alcohol_intake       0\n",
      "cancer_history       0\n",
      "diagnosis            0\n",
      "dtype: int64\n",
      "\n",
      "Target class distribution (counts):\n",
      "diagnosis\n",
      "0    943\n",
      "1    557\n",
      "Name: count, dtype: int64\n",
      "\n",
      "Target distribution (proportions):\n",
      "diagnosis\n",
      "0    0.628667\n",
      "1    0.371333\n",
      "Name: proportion, dtype: float64\n"
     ]
    }
   ],
   "source": [
    "# Step 4: Check for any missing values in the dataset\n",
    "# Step 1D: missing values and simple counts\n",
    "print(\"Missing values per column:\\n\", df.isnull().sum())\n",
    "print(\"\\nTarget class distribution (counts):\")\n",
    "print(df['diagnosis'].value_counts())\n",
    "print(\"\\nTarget distribution (proportions):\")\n",
    "print(df['diagnosis'].value_counts(normalize=True))"
   ]
  },
  {
   "cell_type": "markdown",
   "id": "4bf8dd00-9ded-4221-879c-4134bdca63fa",
   "metadata": {},
   "source": [
    "### Task 2: Model Training Using Decision Tree Classifier\n",
    "\n",
    "1. Select the features `(age, gender, bmi, smoking, genetic_risk, physical_activity, alcohol_intake, cancer_history)` and the target variable `(diagnosis)` for modeling.\n",
    "2. Split the data into training and test sets with a test size of 25%.\n",
    "3. Initialize and train a Decision Tree Classifier model using the training data.\n",
    "4. Make predictions on the test set using the trained model.\n",
    "5. Evaluate the model using a classification report and print the report."
   ]
  },
  {
   "cell_type": "code",
   "execution_count": 16,
   "id": "c44dbd28-36b0-4b13-aeb0-8fe5adee203c",
   "metadata": {},
   "outputs": [
    {
     "name": "stdout",
     "output_type": "stream",
     "text": [
      "Feature matrix shape: (1500, 8)\n",
      "Target vector shape: (1500,)\n"
     ]
    }
   ],
   "source": [
    "# Step 1: Select the features and target variable for modeling\n",
    "X = df[['age', 'gender', 'bmi', 'smoking', 'genetic_risk', \n",
    "        'physical_activity', 'alcohol_intake', 'cancer_history']]\n",
    "\n",
    "y = df['diagnosis']\n",
    "print(\"Feature matrix shape:\", X.shape)\n",
    "print(\"Target vector shape:\", y.shape)\n",
    "\n",
    "# Step 2: Split the data into training and test sets with a test size of 25%\n"
   ]
  },
  {
   "cell_type": "code",
   "execution_count": 17,
   "id": "2d29c0a8-27bc-4619-9e95-eeff3175ca2c",
   "metadata": {},
   "outputs": [
    {
     "name": "stdout",
     "output_type": "stream",
     "text": [
      "Training set size: (1125, 8)\n",
      "Test set size: (375, 8)\n",
      "Decision Tree Performance:\n",
      "\n",
      "              precision    recall  f1-score   support\n",
      "\n",
      "           0       0.88      0.87      0.88       236\n",
      "           1       0.78      0.81      0.79       139\n",
      "\n",
      "    accuracy                           0.85       375\n",
      "   macro avg       0.83      0.84      0.84       375\n",
      "weighted avg       0.85      0.85      0.85       375\n",
      "\n",
      "Accuracy: 0.8453333333333334\n"
     ]
    }
   ],
   "source": [
    "# Step 3: Initialize and train a Decision Tree Classifier model using the training data\n",
    "from sklearn.model_selection import train_test_split\n",
    "\n",
    "# Step 2: Split the dataset (75% train, 25% test)\n",
    "X_train, X_test, y_train, y_test = train_test_split(\n",
    "    X, y, test_size=0.25, random_state=42, stratify=y\n",
    ")\n",
    "\n",
    "print(\"Training set size:\", X_train.shape)\n",
    "print(\"Test set size:\", X_test.shape)\n",
    "\n",
    "# Step : Initialize and train the Decision Tree Classifier\n",
    "from sklearn.tree import DecisionTreeClassifier\n",
    "\n",
    "dt_model = DecisionTreeClassifier(random_state=42)  \n",
    "dt_model.fit(X_train, y_train)\n",
    "\n",
    "# Step 4: Make predictions on the test set using the trained model\n",
    "y_pred = dt_model.predict(X_test)\n",
    "\n",
    "# Step 5: Evaluate the model using a classification report and print the report\n",
    "from sklearn.metrics import classification_report, accuracy_score\n",
    "\n",
    "# Step 5: Evaluate performance\n",
    "print(\"Decision Tree Performance:\\n\")\n",
    "print(classification_report(y_test, y_pred))\n",
    "print(\"Accuracy:\", accuracy_score(y_test, y_pred))"
   ]
  },
  {
   "cell_type": "markdown",
   "id": "0438dba9-beb8-46fd-91be-a1ad366992d0",
   "metadata": {},
   "source": [
    "### Task 3: Model Training Using Random Forest Classifier\n",
    "\n",
    "1. Initialize and train a Random Forest Classifier model with 25 estimators using the training data.\n",
    "2. Make predictions on the test set using the trained model.\n",
    "3. Evaluate the model using a classification report and print the report."
   ]
  },
  {
   "cell_type": "code",
   "execution_count": 18,
   "id": "bc402a63-437b-4db8-9006-f93f5c846705",
   "metadata": {},
   "outputs": [],
   "source": [
    "#importing some libraries \n",
    "from sklearn.ensemble import RandomForestClassifier\n",
    "from sklearn.metrics import classification_report,confusion_matrix,accuracy_score,roc_auc_score,roc_curve"
   ]
  },
  {
   "cell_type": "code",
   "execution_count": 19,
   "id": "88a74d91-7389-4417-aa60-a2b2b07c2d38",
   "metadata": {},
   "outputs": [
    {
     "name": "stdout",
     "output_type": "stream",
     "text": [
      "=== Random Forest Performance ===\n",
      "\n",
      "              precision    recall  f1-score   support\n",
      "\n",
      "           0     0.9221    0.9534    0.9375       236\n",
      "           1     0.9160    0.8633    0.8889       139\n",
      "\n",
      "    accuracy                         0.9200       375\n",
      "   macro avg     0.9191    0.9083    0.9132       375\n",
      "weighted avg     0.9199    0.9200    0.9195       375\n",
      "\n",
      "Accuracy: 0.92\n"
     ]
    }
   ],
   "source": [
    "# Step 1: Initialize and train a Random Forest Classifier model with 25 estimators using the training data\n",
    "rf = RandomForestClassifier(n_estimators = 25,random_state = 42,n_jobs = -1)\n",
    "rf.fit(X_train,y_train)\n",
    "y_pred = rf.predict(X_test)\n",
    "\n",
    "# Step 2: Make predictions on the test set using the trained model\n",
    "# 4) (Optional) predicted probabilities for ROC-AUC\n",
    "if hasattr(rf, \"predict_proba\"):\n",
    "    y_proba = rf.predict_proba(X_test)[:, 1]   # probability of positive class\n",
    "else:\n",
    "    y_proba = None\n",
    "# Step 3: Evaluate the model using a classification report and print the report\n",
    "print(\"=== Random Forest Performance ===\\n\")\n",
    "print(classification_report(y_test, y_pred, digits=4))\n",
    "print(\"Accuracy:\", accuracy_score(y_test, y_pred))"
   ]
  },
  {
   "cell_type": "code",
   "execution_count": 20,
   "id": "c5392443-81af-4db5-b7b8-1f02026979bc",
   "metadata": {},
   "outputs": [
    {
     "name": "stdout",
     "output_type": "stream",
     "text": [
      "\n",
      "Confusion matrix:\n",
      " [[225  11]\n",
      " [ 19 120]]\n"
     ]
    },
    {
     "data": {
      "image/png": "[encoded data removed]",
      "text/plain": [
       "<Figure size 500x400 with 2 Axes>"
      ]
     },
     "metadata": {},
     "output_type": "display_data"
    }
   ],
   "source": [
    "# 6) Confusion matrix (numeric + heatmap)\n",
    "cm = confusion_matrix(y_test, y_pred)\n",
    "print(\"\\nConfusion matrix:\\n\", cm)\n",
    "\n",
    "plt.figure(figsize=(5,4))\n",
    "sns.heatmap(cm, annot=True, fmt='d', cmap='Blues',\n",
    "            xticklabels=['Pred 0','Pred 1'],\n",
    "            yticklabels=['True 0','True 1'])\n",
    "plt.xlabel(\"Predicted\")\n",
    "plt.ylabel(\"Actual\")\n",
    "plt.title(\"Confusion Matrix — Random Forest\")\n",
    "plt.show()\n"
   ]
  },
  {
   "cell_type": "markdown",
   "id": "a1c566bb-c8db-4fc5-a038-7d243403c758",
   "metadata": {},
   "source": [
    "### Task 4: Exploring Various Parameters in Random Forest Classifier\n",
    "\n",
    "1. Train a Random Forest model with the following parameters:\n",
    "   - n_estimators = 50\n",
    "   - max_features = \"log2\"\n",
    "   - criterion = \"entropy\"\n",
    "   - bootstrap = False\n",
    "   - max_depth = 15\n",
    "   - min_samples_split = 5\n",
    "   - min_samples_leaf = 3\n",
    "\n",
    "Learn about these parameters here: [scikit-learn RandomForestClassifier Parameters](https://scikit-learn.org/stable/modules/generated/sklearn.ensemble.RandomForestClassifier.html)\r\n",
    "\n",
    "\n",
    "--------------------------------------------------------------------------------------------------------------------------------------------------------\n",
    "2. Evaluate the model using a classification report and print the report."
   ]
  },
  {
   "cell_type": "code",
   "execution_count": 21,
   "id": "c6c7d216-4e8d-40ca-9a7b-407928790479",
   "metadata": {},
   "outputs": [],
   "source": [
    "#importing libraries \n",
    "from sklearn.ensemble import RandomForestClassifier\n",
    "from sklearn.metrics import classification_report,confusion_matrix,accuracy_score\n"
   ]
  },
  {
   "cell_type": "code",
   "execution_count": 22,
   "id": "0cd30d45-0ff1-4631-91f4-eb506e444e03",
   "metadata": {},
   "outputs": [
    {
     "name": "stdout",
     "output_type": "stream",
     "text": [
      "=== Random Forest (Custom Parameters) ===\n",
      "              precision    recall  f1-score   support\n",
      "\n",
      "           0       0.94      0.97      0.96       236\n",
      "           1       0.95      0.89      0.92       139\n",
      "\n",
      "    accuracy                           0.94       375\n",
      "   macro avg       0.95      0.93      0.94       375\n",
      "weighted avg       0.94      0.94      0.94       375\n",
      "\n",
      "Accuracy: 0.944\n"
     ]
    }
   ],
   "source": [
    "# Step 1: Train a Random Forest model with specified parameters\n",
    "rf_custom = RandomForestClassifier(\n",
    "    n_estimators=50,\n",
    "    max_features=\"log2\",\n",
    "    criterion=\"entropy\",\n",
    "    bootstrap=False,\n",
    "    max_depth=15,\n",
    "    min_samples_split=5,\n",
    "    min_samples_leaf=3,\n",
    "    random_state=42,\n",
    "    n_jobs=-1\n",
    ")\n",
    "rf_custom.fit(X_train, y_train)\n",
    "\n",
    "\n",
    "# Step 2: Make predictions on the test set using the trained model\n",
    "y_pred_custom = rf_custom.predict(X_test)\n",
    "\n",
    "\n",
    "# Step 3: Evaluate the model using a classification report and print the report\n",
    "print(\"=== Random Forest (Custom Parameters) ===\")\n",
    "print(classification_report(y_test, y_pred_custom))\n",
    "print(\"Accuracy:\", accuracy_score(y_test, y_pred_custom))"
   ]
  },
  {
   "cell_type": "code",
   "execution_count": 23,
   "id": "a2cc8409-a35d-4809-bb03-2c0053029e3f",
   "metadata": {},
   "outputs": [
    {
     "name": "stdout",
     "output_type": "stream",
     "text": [
      "\n",
      "Confusion Matrix:\n",
      " [[230   6]\n",
      " [ 15 124]]\n"
     ]
    }
   ],
   "source": [
    "# Optional: Confusion Matrix\n",
    "cm = confusion_matrix(y_test, y_pred_custom)\n",
    "print(\"\\nConfusion Matrix:\\n\", cm)"
   ]
  },
  {
   "cell_type": "code",
   "execution_count": null,
   "id": "5e786f47-d1e4-4e87-b2f0-a15fd81e66b5",
   "metadata": {},
   "outputs": [],
   "source": []
  },
  {
   "cell_type": "code",
   "execution_count": null,
   "id": "585c60e2-b0af-40aa-8297-566941835a66",
   "metadata": {},
   "outputs": [],
   "source": []
  }
 ],
 "metadata": {
  "kernelspec": {
   "display_name": "Python 3 (ipykernel)",
   "language": "python",
   "name": "python3"
  },
  "language_info": {
   "codemirror_mode": {
    "name": "ipython",
    "version": 3
   },
   "file_extension": ".py",
   "mimetype": "text/x-python",
   "name": "python",
   "nbconvert_exporter": "python",
   "pygments_lexer": "ipython3",
   "version": "3.13.1"
  }
 },
 "nbformat": 4,
 "nbformat_minor": 5
}
