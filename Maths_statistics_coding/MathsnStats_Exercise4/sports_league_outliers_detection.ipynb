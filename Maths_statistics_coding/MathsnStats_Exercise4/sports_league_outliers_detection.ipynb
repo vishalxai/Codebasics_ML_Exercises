{
 "cells": [
  {
   "cell_type": "markdown",
   "id": "632e8efc",
   "metadata": {},
   "source": [
    "## Problem Statement\n",
    "\n",
    "\n",
    "You are a data scientist working for a sports analytics company. The dataset, named **\"sports_league_data.csv\"** includes a variety of attributes for players in the league. The columns in the dataset are as follows:\n",
    "\n",
    "- **player_id:** A unique identifier for each player.\n",
    "- **age:** Age of the player.\n",
    "- **position:** The position the player typically plays in (e.g., Forward, Midfielder, Defender, Goalkeeper).\n",
    "- **team:** The team the player belongs to.\n",
    "- **games_played:** The total number of games played by the player in the season.\n",
    "- **player_rating:** An overall performance rating for the player for the season."
   ]
  },
  {
   "cell_type": "code",
   "execution_count": 2,
   "id": "e9c234f5",
   "metadata": {},
   "outputs": [],
   "source": [
    "import pandas as pd \n",
    "import numpy as np \n",
    "import matplotlib.pyplot as plt\n",
    "import seaborn as sns "
   ]
  },
  {
   "cell_type": "markdown",
   "id": "3a64f293",
   "metadata": {},
   "source": [
    "\n",
    "**Import Necessary Libraries**"
   ]
  },
  {
   "cell_type": "code",
   "execution_count": 4,
   "id": "8a8c938b",
   "metadata": {},
   "outputs": [],
   "source": [
    "# Pandas display option for cleaner visibility \n",
    "pd.set_option(\"display.max_columns\",None)\n",
    "pd.set_option(\"display.width\",120)"
   ]
  },
  {
   "cell_type": "code",
   "execution_count": 5,
   "id": "7d9097fc-b6b5-4802-a5f3-6d43b6d3b383",
   "metadata": {},
   "outputs": [],
   "source": [
    "#Loading the dataset \n",
    "path = \"sports_league_data.csv\"\n",
    "df = pd.read_csv(path)\n"
   ]
  },
  {
   "cell_type": "markdown",
   "id": "e80ff04b",
   "metadata": {},
   "source": [
    "## Task1\n",
    "\n",
    "1. Import the data from the \"sports_league_data.csv\" file.\n",
    "2. display the number of rows and columns. \n",
    "3. Display the first few rows of the dataset to get an overview.\n"
   ]
  },
  {
   "cell_type": "code",
   "execution_count": 7,
   "id": "c355cb68",
   "metadata": {},
   "outputs": [
    {
     "name": "stdout",
     "output_type": "stream",
     "text": [
      "shape:1000 rows * 6 columns\n"
     ]
    },
    {
     "data": {
      "text/html": [
       "<div>\n",
       "<style scoped>\n",
       "    .dataframe tbody tr th:only-of-type {\n",
       "        vertical-align: middle;\n",
       "    }\n",
       "\n",
       "    .dataframe tbody tr th {\n",
       "        vertical-align: top;\n",
       "    }\n",
       "\n",
       "    .dataframe thead th {\n",
       "        text-align: right;\n",
       "    }\n",
       "</style>\n",
       "<table border=\"1\" class=\"dataframe\">\n",
       "  <thead>\n",
       "    <tr style=\"text-align: right;\">\n",
       "      <th></th>\n",
       "      <th>player_id</th>\n",
       "      <th>age</th>\n",
       "      <th>position</th>\n",
       "      <th>team</th>\n",
       "      <th>games_played</th>\n",
       "      <th>player_rating</th>\n",
       "    </tr>\n",
       "  </thead>\n",
       "  <tbody>\n",
       "    <tr>\n",
       "      <th>0</th>\n",
       "      <td>P0001</td>\n",
       "      <td>34</td>\n",
       "      <td>Forward</td>\n",
       "      <td>Team 14</td>\n",
       "      <td>29</td>\n",
       "      <td>7.2</td>\n",
       "    </tr>\n",
       "    <tr>\n",
       "      <th>1</th>\n",
       "      <td>P0002</td>\n",
       "      <td>29</td>\n",
       "      <td>Defender</td>\n",
       "      <td>Team 15</td>\n",
       "      <td>27</td>\n",
       "      <td>8.3</td>\n",
       "    </tr>\n",
       "    <tr>\n",
       "      <th>2</th>\n",
       "      <td>P0003</td>\n",
       "      <td>31</td>\n",
       "      <td>Goalkeeper</td>\n",
       "      <td>Team 4</td>\n",
       "      <td>39</td>\n",
       "      <td>6.4</td>\n",
       "    </tr>\n",
       "    <tr>\n",
       "      <th>3</th>\n",
       "      <td>P0004</td>\n",
       "      <td>36</td>\n",
       "      <td>Goalkeeper</td>\n",
       "      <td>Team 6</td>\n",
       "      <td>35</td>\n",
       "      <td>6.6</td>\n",
       "    </tr>\n",
       "    <tr>\n",
       "      <th>4</th>\n",
       "      <td>P0005</td>\n",
       "      <td>34</td>\n",
       "      <td>Defender</td>\n",
       "      <td>Team 14</td>\n",
       "      <td>26</td>\n",
       "      <td>7.2</td>\n",
       "    </tr>\n",
       "  </tbody>\n",
       "</table>\n",
       "</div>"
      ],
      "text/plain": [
       "  player_id  age    position     team  games_played  player_rating\n",
       "0     P0001   34     Forward  Team 14            29            7.2\n",
       "1     P0002   29    Defender  Team 15            27            8.3\n",
       "2     P0003   31  Goalkeeper   Team 4            39            6.4\n",
       "3     P0004   36  Goalkeeper   Team 6            35            6.6\n",
       "4     P0005   34    Defender  Team 14            26            7.2"
      ]
     },
     "metadata": {},
     "output_type": "display_data"
    },
    {
     "name": "stdout",
     "output_type": "stream",
     "text": [
      "\n",
      "Column dtypes:\n",
      "player_id         object\n",
      "age                int64\n",
      "position          object\n",
      "team              object\n",
      "games_played       int64\n",
      "player_rating    float64\n",
      "dtype: object\n",
      "\n",
      "Missing values per column:\n",
      "player_id        0\n",
      "age              0\n",
      "position         0\n",
      "team             0\n",
      "games_played     0\n",
      "player_rating    0\n",
      "dtype: int64\n"
     ]
    }
   ],
   "source": [
    "# number of rows and columns \n",
    "n_rows,n_column = df.shape\n",
    "print(f\"shape:{n_rows} rows * {n_column} columns\")\n",
    "#Previewing first few rows \n",
    "display(df.head())\n",
    "\n",
    "# ---- (Recommended quick sanity checks – keep these) ----\n",
    "print(\"\\nColumn dtypes:\")\n",
    "print(df.dtypes)\n",
    "\n",
    "print(\"\\nMissing values per column:\")\n",
    "print(df.isna().sum())"
   ]
  },
  {
   "cell_type": "markdown",
   "id": "f865e3b1",
   "metadata": {},
   "source": [
    "## Task2:\n",
    "\n",
    "**Age Analysis:**\n",
    "- Mean: Calculate the average age of players in the league.\n",
    "- Standard Deviation Intervals:\n",
    "    - Calculate the age range within one standard deviation of the mean.\n",
    "    - Calculate the age range within two standard deviations of the mean.\n",
    "    - Calculate the age range within three standard deviations of the mean.\n",
    "  "
   ]
  },
  {
   "cell_type": "code",
   "execution_count": null,
   "id": "6a8199fa",
   "metadata": {},
   "outputs": [],
   "source": []
  },
  {
   "cell_type": "markdown",
   "id": "25ccac48",
   "metadata": {},
   "source": [
    "## Task3:\n",
    "\n",
    "**Player Rating Analysis:**\n",
    "- Mean: Determine the average player rating across the league.\n",
    "- Standard Deviation Intervals:\n",
    "    - Calculate the player rating range within one standard deviation of the mean.\n",
    "    - Calculate the player rating range within two standard deviations of the mean.\n",
    "    - Calculate the player rating range within three standard deviations of the mean."
   ]
  },
  {
   "cell_type": "code",
   "execution_count": null,
   "id": "19d1a340",
   "metadata": {},
   "outputs": [],
   "source": []
  },
  {
   "cell_type": "markdown",
   "id": "9a1d87b7",
   "metadata": {},
   "source": [
    "## Task4:\n",
    "\n",
    "Create histogram with Kernel Density Estimation (KDE) plots for both the 'age' and 'player_rating' columns from the dataset. While constructing these plots, ensure to visually represent the standard deviation intervals on the graph.\n"
   ]
  },
  {
   "cell_type": "markdown",
   "id": "f23088ec",
   "metadata": {},
   "source": [
    "- **'age'**"
   ]
  },
  {
   "cell_type": "code",
   "execution_count": null,
   "id": "46496dc6",
   "metadata": {},
   "outputs": [],
   "source": []
  },
  {
   "cell_type": "markdown",
   "id": "d5796d1a",
   "metadata": {},
   "source": [
    "- **'player_rating'**"
   ]
  },
  {
   "cell_type": "code",
   "execution_count": null,
   "id": "21b7ead2",
   "metadata": {},
   "outputs": [],
   "source": []
  },
  {
   "cell_type": "markdown",
   "id": "2ce87d11",
   "metadata": {},
   "source": [
    "## Task5\n",
    "\n",
    "- Calculate the lower and upper boundaries for the 'Age' and 'Player_Rating' columns. \n",
    "- For each column, identify values that fall outside the calculated lower and upper boundaries. These values are considered outliers."
   ]
  },
  {
   "cell_type": "markdown",
   "id": "3986392d",
   "metadata": {},
   "source": [
    "- **Display age outliers**"
   ]
  },
  {
   "cell_type": "code",
   "execution_count": null,
   "id": "03f8e1c1",
   "metadata": {},
   "outputs": [],
   "source": []
  },
  {
   "cell_type": "markdown",
   "id": "af6a0dec",
   "metadata": {},
   "source": [
    "- **Display player_rating outliers**"
   ]
  },
  {
   "cell_type": "code",
   "execution_count": null,
   "id": "c024e12e",
   "metadata": {},
   "outputs": [],
   "source": []
  },
  {
   "cell_type": "markdown",
   "id": "cc71ab22",
   "metadata": {},
   "source": [
    "## Task6\n",
    "\n",
    "-  Remove outliers from both the 'age' and 'player_rating' columns and then visualize the adjusted data using histogram plots.\n"
   ]
  },
  {
   "cell_type": "code",
   "execution_count": null,
   "id": "fef877cb",
   "metadata": {},
   "outputs": [],
   "source": []
  },
  {
   "cell_type": "markdown",
   "id": "7cb10d56",
   "metadata": {},
   "source": [
    "- **plot the histograms**"
   ]
  },
  {
   "cell_type": "code",
   "execution_count": null,
   "id": "7b7c1296",
   "metadata": {},
   "outputs": [],
   "source": []
  }
 ],
 "metadata": {
  "kernelspec": {
   "display_name": "Python 3 (ipykernel)",
   "language": "python",
   "name": "python3"
  },
  "language_info": {
   "codemirror_mode": {
    "name": "ipython",
    "version": 3
   },
   "file_extension": ".py",
   "mimetype": "text/x-python",
   "name": "python",
   "nbconvert_exporter": "python",
   "pygments_lexer": "ipython3",
   "version": "3.13.1"
  }
 },
 "nbformat": 4,
 "nbformat_minor": 5
}
