{
 "cells": [
  {
   "cell_type": "markdown",
   "id": "61c6fd18",
   "metadata": {},
   "source": [
    "### Comparing Weather Temperature Variability for Agricultural Investment Decisions\n",
    "\n",
    "**context:** An agricultural investment firm is in the process of deciding on a location for a new farming project. Understanding that **consistent** and predictable weather conditions are vital for successful agriculture, the firm aims to evaluate and compare two potential cities based on their temperature stability. The key factor in this decision-making process is the variability in average daily temperatures, as it directly impacts crop growth and agricultural planning.\n",
    "\n",
    "The firm has provided a dataset, named **\"climate_stability_comparison.xlsx\"**, to aid in this assessment. This dataset includes the following columns:\n",
    "\n",
    "- **month:** Indicates the month of the year.\n",
    "- **Avg Temp City A (°C):** The average daily temperature for City A in each month, measured in degrees Celsius.\n",
    "- **Avg Temp City B (°C):** The average daily temperature for City B in each month, measured in degrees Celsius."
   ]
  },
  {
   "cell_type": "markdown",
   "id": "8f7f7cf8",
   "metadata": {},
   "source": [
    "### Task Objective\n",
    "\n",
    "- Calculate the standard deviation for average temperatures in both cities.\n",
    "- Determine which city has a higher temperature variability.\n",
    "- Decide on the city with more stable (lower variability) temperatures for agricultural investment."
   ]
  },
  {
   "cell_type": "code",
   "execution_count": null,
   "id": "faf52c1c",
   "metadata": {},
   "outputs": [],
   "source": []
  },
  {
   "cell_type": "markdown",
   "id": "82e43619",
   "metadata": {},
   "source": [
    "**Import necessary libraries**"
   ]
  },
  {
   "cell_type": "code",
   "execution_count": null,
   "id": "183bc784",
   "metadata": {},
   "outputs": [],
   "source": []
  },
  {
   "cell_type": "code",
   "execution_count": null,
   "id": "ef78c41a",
   "metadata": {},
   "outputs": [],
   "source": []
  },
  {
   "cell_type": "markdown",
   "id": "53cfa5ee",
   "metadata": {},
   "source": [
    "**1: Data Import**"
   ]
  },
  {
   "cell_type": "code",
   "execution_count": null,
   "id": "f56d4dab",
   "metadata": {},
   "outputs": [],
   "source": []
  },
  {
   "cell_type": "markdown",
   "id": "f8a87ee5",
   "metadata": {},
   "source": [
    "**2: Calculate standard deviations**"
   ]
  },
  {
   "cell_type": "code",
   "execution_count": 11,
   "id": "e89bf08b",
   "metadata": {},
   "outputs": [],
   "source": [
    "#calculate standard deviation for both City A and City B\n",
    "\n",
    "# -----> 'City A' standard deviation\n",
    "\n"
   ]
  },
  {
   "cell_type": "code",
   "execution_count": 12,
   "id": "a778a41c",
   "metadata": {},
   "outputs": [],
   "source": [
    "# -----> 'City B' standard deviation\n",
    "\n"
   ]
  },
  {
   "cell_type": "markdown",
   "id": "1aaad487",
   "metadata": {},
   "source": [
    "**3: Comparison**"
   ]
  },
  {
   "cell_type": "code",
   "execution_count": null,
   "id": "65462d6c",
   "metadata": {},
   "outputs": [],
   "source": []
  },
  {
   "cell_type": "markdown",
   "id": "a06f8038",
   "metadata": {},
   "source": [
    "**4: Observation and Decision**"
   ]
  },
  {
   "cell_type": "code",
   "execution_count": null,
   "id": "a920aece",
   "metadata": {},
   "outputs": [],
   "source": []
  }
 ],
 "metadata": {
  "kernelspec": {
   "display_name": "Python 3 (ipykernel)",
   "language": "python",
   "name": "python3"
  },
  "language_info": {
   "codemirror_mode": {
    "name": "ipython",
    "version": 3
   },
   "file_extension": ".py",
   "mimetype": "text/x-python",
   "name": "python",
   "nbconvert_exporter": "python",
   "pygments_lexer": "ipython3",
   "version": "3.8.10"
  }
 },
 "nbformat": 4,
 "nbformat_minor": 5
}
